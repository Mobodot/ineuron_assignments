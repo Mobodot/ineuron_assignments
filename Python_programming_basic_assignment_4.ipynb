{
 "cells": [
  {
   "cell_type": "code",
   "execution_count": 1,
   "metadata": {},
   "outputs": [
    {
     "name": "stdout",
     "output_type": "stream",
     "text": [
      "Factorial Calculator\n",
      "\n",
      "Enter a number: 0\n",
      "Factorial of 0 is: 1\n"
     ]
    }
   ],
   "source": [
    "\"\"\"Question 1: Write a Python Program to Find the Factorial \n",
    "of a Number?\"\"\"\n",
    "\n",
    "print(\"Factorial Calculator\")\n",
    "print()\n",
    "number = int(input(\"Enter a number: \"))    \n",
    "    \n",
    "factorial = 1\n",
    "val = number\n",
    "if number == 0:\n",
    "    print(\"Factorial of {} is: {}\".format(number, 1))\n",
    "elif number < 0:\n",
    "    print(\"Value cannot be negative\")\n",
    "else:\n",
    "    while val > 1:\n",
    "        factorial *= val\n",
    "        val -= 1\n",
    "    \n",
    "    print(\"Factorial of {} is: {}\".format(number, factorial))"
   ]
  },
  {
   "cell_type": "code",
   "execution_count": 2,
   "metadata": {},
   "outputs": [
    {
     "name": "stdout",
     "output_type": "stream",
     "text": [
      "Multiplication Table\n",
      "\n",
      "Enter a number to view its multiplication table: 5\n",
      "5 * 1 = 5\n",
      "5 * 2 = 10\n",
      "5 * 3 = 15\n",
      "5 * 4 = 20\n",
      "5 * 5 = 25\n",
      "5 * 6 = 30\n",
      "5 * 7 = 35\n",
      "5 * 8 = 40\n",
      "5 * 9 = 45\n",
      "5 * 10 = 50\n",
      "5 * 11 = 55\n",
      "5 * 12 = 60\n"
     ]
    }
   ],
   "source": [
    "\"\"\"Question 2: Write a Python Program to Display the \n",
    "multiplication Table?\"\"\"\n",
    "\n",
    "print(\"Multiplication Table\")\n",
    "print()\n",
    "\n",
    "number = int(input(\"Enter a number to view its multiplication table: \"))\n",
    "counter = 1\n",
    "while counter < 13:\n",
    "    print(\"{} * {} = {}\".format(number, counter, str(number*counter)))\n",
    "    counter += 1\n",
    "    "
   ]
  },
  {
   "cell_type": "code",
   "execution_count": 3,
   "metadata": {},
   "outputs": [
    {
     "name": "stdout",
     "output_type": "stream",
     "text": [
      "Fibonacci Sequence Generator\n",
      "\n",
      "How many values do you want to generate? 7\n",
      "Fibonacci sequence of 7 is: \n",
      "0 1 1 2 3 5 8 "
     ]
    }
   ],
   "source": [
    "\"\"\"Question 3 Write a Python Program to Print the Fibonacci sequence?\"\"\"\n",
    "\n",
    "print(\"Fibonacci Sequence Generator\")\n",
    "print()\n",
    "\n",
    "len_of_sequence = int(input(\"How many values do you want to generate? \"))\n",
    "start = 0\n",
    "next_val = 1\n",
    "\n",
    "counter = 0\n",
    "\n",
    "# check if value entered is valid\n",
    "if len_of_sequence <= 0:\n",
    "    print(\"value must be a positive integer\")\n",
    "    \n",
    "# if 1 is entered return start\n",
    "elif len_of_sequence == 1:\n",
    "    print(\"Fibonacci sequence up to {} is: {} \".format(len_of_sequence, start))\n",
    "    \n",
    "# fibonacci sequence generator\n",
    "else:   \n",
    "    print(\"Fibonacci sequence of {} is: \".format(len_of_sequence))\n",
    "    while counter < len_of_sequence:\n",
    "        print(start, end=\" \")\n",
    "    #     start, next_val = next_val, start + next_val\n",
    "        add = start + next_val\n",
    "        start = next_val\n",
    "        next_val = add\n",
    "        counter += 1\n",
    "    "
   ]
  },
  {
   "cell_type": "code",
   "execution_count": 4,
   "metadata": {},
   "outputs": [
    {
     "name": "stdout",
     "output_type": "stream",
     "text": [
      "Armstrong Number Checker\n",
      "\n",
      "Enter a number: 153\n",
      "153 is an Armstrong Number \n"
     ]
    }
   ],
   "source": [
    "\"\"\"Question 4: Write a Python Program to Check Armstrong Number?\"\"\"\n",
    "\n",
    "print(\"Armstrong Number Checker\")\n",
    "print()\n",
    "\n",
    "number = input(\"Enter a number: \")\n",
    "\n",
    "summation = 0\n",
    "for digit in range(len(number)):\n",
    "    power_3 = int(number[digit]) ** 3\n",
    "    summation += power_3\n",
    "    \n",
    "if summation == int(number):\n",
    "    print(\"{} is an Armstrong Number \".format(number))\n",
    "else:\n",
    "    print(\"{} is not an Armstrong Nummber \" .format(number))"
   ]
  },
  {
   "cell_type": "code",
   "execution_count": 7,
   "metadata": {},
   "outputs": [
    {
     "name": "stdout",
     "output_type": "stream",
     "text": [
      "Armstrong Interval Generator\n",
      "\n",
      "Enter start interval: 1\n",
      "Enter stop interval: 999\n",
      "Armstrong numbers between 1 to 999 are: [1, 153, 370, 371, 407] \n"
     ]
    }
   ],
   "source": [
    "\"\"\"Question 4: Write a Python Program to Find Armstrong Number \n",
    "in an Interval?\"\"\"\n",
    "\n",
    "print(\"Armstrong Interval Generator\")\n",
    "print()\n",
    "\n",
    "def interval_checker(number):\n",
    "#     number = input(\"Enter a number: \")\n",
    "\n",
    "    summation = 0\n",
    "    for digit in range(len(number)):\n",
    "        power_3 = int(number[digit]) ** 3\n",
    "        summation += power_3\n",
    "\n",
    "    if summation == int(number):\n",
    "        return True\n",
    "#         print(\"{} is an Armstrong Number \".format(number))\n",
    "    else:\n",
    "        return False\n",
    "#         print(\"{} is not an Armstrong Nummber \" .format(number))\n",
    "    \n",
    "start = input(\"Enter start interval: \")\n",
    "stop = input(\"Enter stop interval: \")\n",
    "\n",
    "armstrong_no = []\n",
    "for value in range(int(start), int(stop)+1):\n",
    "    if interval_checker(str(value)):   #convert each value in range to str\n",
    "        armstrong_no.append(value)\n",
    "        \n",
    "print(\"Armstrong numbers between {} to {} are: {} \".format(start, stop, armstrong_no))"
   ]
  },
  {
   "cell_type": "code",
   "execution_count": 6,
   "metadata": {},
   "outputs": [
    {
     "name": "stdout",
     "output_type": "stream",
     "text": [
      "Natural Numbers calculator (from 1 to N)\n",
      "\n",
      "Enter a number: 10\n",
      "Sum of Natural numbers from 1 to 10 is: 55.0\n"
     ]
    }
   ],
   "source": [
    "\"\"\"Question 6: Write a Python Program to Find the Sum of \n",
    "Natural Numbers?\"\"\"\n",
    "\n",
    "print(\"Natural Numbers calculator (from 1 to N)\")\n",
    "print()\n",
    "\n",
    "number = int(input(\"Enter a number: \"))\n",
    "summation = number*(number + 1)/(2)\n",
    "\n",
    "print(\"Sum of Natural numbers from 1 to {} is: {}\".format(str(number), str(summation)))"
   ]
  },
  {
   "cell_type": "code",
   "execution_count": null,
   "metadata": {},
   "outputs": [],
   "source": []
  }
 ],
 "metadata": {
  "kernelspec": {
   "display_name": "Python 3 (ipykernel)",
   "language": "python",
   "name": "python3"
  },
  "language_info": {
   "codemirror_mode": {
    "name": "ipython",
    "version": 3
   },
   "file_extension": ".py",
   "mimetype": "text/x-python",
   "name": "python",
   "nbconvert_exporter": "python",
   "pygments_lexer": "ipython3",
   "version": "3.7.6"
  }
 },
 "nbformat": 4,
 "nbformat_minor": 4
}
