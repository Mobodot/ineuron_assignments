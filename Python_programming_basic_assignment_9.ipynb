{
 "cells": [
  {
   "cell_type": "code",
   "execution_count": 21,
   "metadata": {},
   "outputs": [
    {
     "name": "stdout",
     "output_type": "stream",
     "text": [
      "<-----Disarium Number Checker----->\n",
      "\n",
      "Enter value: 89\n",
      "89 is a disarium number = True\n"
     ]
    }
   ],
   "source": [
    "\"\"\"Question 1: Write a Python program to check if \n",
    "the given number is a Disarium Number?\"\"\"\n",
    "\n",
    "def is_disarium(value):\n",
    "    \"\"\"\n",
    "    \n",
    "    value: int or string digits only\n",
    "    \n",
    "    return True if the value is a disarium number otherwise\n",
    "    return False.\n",
    "    \n",
    "    \"\"\"\n",
    "    str_value = str(value)\n",
    "    \n",
    "    summation = 0\n",
    "    for digit in range(len(str_value)):\n",
    "        if str_value[digit].isdigit():\n",
    "            summation += int(str_value[digit]) ** (digit+1)\n",
    "        else:\n",
    "            print(\"Value must contain numbers only\")\n",
    "    \n",
    "    if str(summation) == str_value:\n",
    "        return True\n",
    "    return False\n",
    "\n",
    "print(\"<-----Disarium Number Checker----->\")\n",
    "print()\n",
    "value = input(\"Enter value: \")\n",
    "\n",
    "print(f\"{value} is a disarium number = {is_disarium(value)}\")"
   ]
  },
  {
   "cell_type": "code",
   "execution_count": 42,
   "metadata": {},
   "outputs": [
    {
     "name": "stdout",
     "output_type": "stream",
     "text": [
      "Displaying Disarium Numbers\n",
      "\n",
      "Enter a value to see the disarium numbers from (1 to N): 100\n",
      "\n",
      "Disarium Numbers from 1 to 100 = 1 2 3 4 5 6 7 8 9 89\n"
     ]
    }
   ],
   "source": [
    "\"\"\"Question 2: Write a Python program to print all \n",
    "disarium numbers between 1 to 100?\"\"\"\n",
    "\n",
    "def disarium_numbers(number):\n",
    "    \"\"\"\n",
    "    \n",
    "    returns the disarium numbers in a given range.\n",
    "    \n",
    "    \"\"\"\n",
    "    numbers = []\n",
    "    for value in range(1, int(number) + 1):\n",
    "        if is_disarium(value):     # custom function to check if a number is disarium\n",
    "            numbers.append(str(value))\n",
    "    \n",
    "    return \" \".join(numbers)\n",
    "            \n",
    "print(\"Displaying Disarium Numbers\")\n",
    "print()\n",
    "\n",
    "number = input(\"Enter a value to see the disarium numbers from (1 to N): \")\n",
    "print()\n",
    "\n",
    "if not number.isdigit():\n",
    "    print(\"Value must contain only digits\")\n",
    "else:\n",
    "    print(f\"Disarium Numbers from 1 to {number} = {disarium_numbers(number)}\")"
   ]
  },
  {
   "cell_type": "code",
   "execution_count": 82,
   "metadata": {},
   "outputs": [
    {
     "name": "stdout",
     "output_type": "stream",
     "text": [
      "<----- Happy Number Checker ----->\n",
      "\n",
      "Enter a value: 432\n",
      "432 is a happy number = False\n"
     ]
    }
   ],
   "source": [
    "def happy_number(num): \n",
    "    \"\"\"\n",
    "    \n",
    "    return the sum of the square of each digit in a given number.\n",
    "    E.g 24 ==> 2**2 + 4**2 = 20\n",
    "    \n",
    "    \"\"\"\n",
    "    rem = total = 0\n",
    "    \n",
    "    #Calculates the sum of squares of digits  \n",
    "    while(num > 0):  \n",
    "        rem = num % 10\n",
    "        total = total + (rem*rem)\n",
    "        num = num//10\n",
    "        \n",
    "    return total\n",
    "\n",
    "\n",
    "def is_happy(value):\n",
    "    \"\"\"\n",
    "    \n",
    "    return True if a number will yield 1 when it is \n",
    "    replaced by the sum of the square of its digits \n",
    "    repeatedly. \n",
    "    \n",
    "    Else return False If this process results in an \n",
    "    endless cycle of numbers containing 4.\n",
    "    \n",
    "    e.g 82 ==> 8**2 + 2**2 = 68\n",
    "        68 ==> 6**2 + 8**2 = 100\n",
    "        100 ==> 1**2 + 0**2 + 0**2 = 1\n",
    "        \n",
    "        Return True, Therefore 82 is a happy number.\n",
    "    \n",
    "    \"\"\"\n",
    "    result = value\n",
    "    while (result != 1 and result != 4):\n",
    "        result = happy_number(result)\n",
    "    if result == 1:\n",
    "        return True\n",
    "    elif result == 4:\n",
    "        return False\n",
    "        \n",
    "\n",
    "print(\"<----- Happy Number Checker ----->\")\n",
    "print()\n",
    "\n",
    "value = input(\"Enter a value: \")\n",
    "if value.isdigit():\n",
    "    print(f\"{value} is a happy number = {is_happy(int(value))}\")\n",
    "else:\n",
    "    print(\"Value must be numeric\")"
   ]
  },
  {
   "cell_type": "code",
   "execution_count": 101,
   "metadata": {},
   "outputs": [
    {
     "name": "stdout",
     "output_type": "stream",
     "text": [
      "<----- Happy Numbers in a Given Range ----->\n",
      "\n",
      "Enter a numeric value: 67\n",
      "Happy Numbers from 1 to 67 = 1, 7, 10, 13, 19, 23, 28, 31, 32, 44, 49\n"
     ]
    }
   ],
   "source": [
    "\"\"\"Question 4: Write a Python program to print all \n",
    "happy numbers between 1 and 100?\"\"\"\n",
    "\n",
    "def happy_range(number):\n",
    "    \"\"\"\n",
    "    \n",
    "    return the happy numbers in a given range\n",
    "    \n",
    "    \"\"\"\n",
    "    values = []\n",
    "    for value in range(1, number):\n",
    "        if is_happy(value):\n",
    "            values.append(str(value))\n",
    "    return \", \".join(values)\n",
    "\n",
    "\n",
    "print(\"<----- Happy Numbers in a Given Range ----->\")\n",
    "print()\n",
    "\n",
    "value = input(\"Enter a numeric value: \")\n",
    "if value.isdigit():\n",
    "    print(f\"Happy Numbers from 1 to {value} = {happy_range(int(value))}\")\n",
    "else:\n",
    "    print(\"Value must be numeric\")"
   ]
  },
  {
   "cell_type": "code",
   "execution_count": 120,
   "metadata": {},
   "outputs": [
    {
     "name": "stdout",
     "output_type": "stream",
     "text": [
      "Enter a numeric value: 234\n",
      "234 is a Harshad Number = True\n"
     ]
    }
   ],
   "source": [
    "\"\"\"Question 5: Write a Python program to determine \n",
    "whether the given number is a Harshad Number?\"\"\"\n",
    "\n",
    "def is_harshad(number):\n",
    "    \"\"\"\n",
    "    \n",
    "    Returns True if a number is divisible by the sum of\n",
    "    its numbers.\n",
    "    \n",
    "    E.g 234 ==> 2+3+4 = 9\n",
    "        234/9 = 26\n",
    "        \n",
    "        Returns True since 234 is divisible by the sum of\n",
    "        its numbers 9. Otherwise False\n",
    "    \n",
    "    \n",
    "    \"\"\"\n",
    "    rem = total = 0 \n",
    "    value = number\n",
    "    \n",
    "    while number > 0:\n",
    "        remainder = number % 10\n",
    "        total += remainder\n",
    "        number = number // 10\n",
    "        \n",
    "    if value % total == 0:\n",
    "        return True\n",
    "    else:\n",
    "        return False\n",
    "\n",
    "\n",
    "value = input(\"Enter a numeric value: \")\n",
    "if value.isdigit():\n",
    "    print(f\"{value} is a Harshad Number = {is_harshad(int(value))}\")\n",
    "else:\n",
    "    print(\"Value must be numeric only\")"
   ]
  },
  {
   "cell_type": "code",
   "execution_count": 5,
   "metadata": {},
   "outputs": [
    {
     "name": "stdout",
     "output_type": "stream",
     "text": [
      "Enter a numeric value: 100\n",
      "<----- Pronic Numbers from 1 to N ----->\n",
      "\n",
      "2 6 12 20 30 42 56 72 90 "
     ]
    }
   ],
   "source": [
    "\"\"\"Question 6: Write a Python program to print all \n",
    "pronic numbers between 1 and 100?\"\"\"\n",
    "\n",
    "def is_pronic(number):  \n",
    "    value = False\n",
    "      \n",
    "    for digit in range(1, number+1):  \n",
    "        # Checks for pronic number by multiplying consecutive numbers \n",
    "        if((digit * (digit + 1)) == number):  \n",
    "            value = True\n",
    "            break\n",
    "    return value\n",
    "   \n",
    "value = input(\"Enter a numeric value: \")\n",
    "if value.isdigit():\n",
    "    print(\"<----- Pronic Numbers from 1 to N ----->\")\n",
    "    print()\n",
    "    for number in range(1, int(value) + 1):\n",
    "        if is_pronic(number):\n",
    "            print(number, end=\" \")\n",
    "else:\n",
    "    print(\"Value must be numeric only\")\n",
    "\n"
   ]
  },
  {
   "cell_type": "code",
   "execution_count": null,
   "metadata": {},
   "outputs": [],
   "source": []
  }
 ],
 "metadata": {
  "kernelspec": {
   "display_name": "Python 3 (ipykernel)",
   "language": "python",
   "name": "python3"
  },
  "language_info": {
   "codemirror_mode": {
    "name": "ipython",
    "version": 3
   },
   "file_extension": ".py",
   "mimetype": "text/x-python",
   "name": "python",
   "nbconvert_exporter": "python",
   "pygments_lexer": "ipython3",
   "version": "3.7.6"
  }
 },
 "nbformat": 4,
 "nbformat_minor": 4
}
