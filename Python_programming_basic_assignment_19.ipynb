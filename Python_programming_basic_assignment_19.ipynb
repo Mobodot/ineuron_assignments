{
 "cells": [
  {
   "cell_type": "code",
   "execution_count": 6,
   "metadata": {},
   "outputs": [
    {
     "name": "stdout",
     "output_type": "stream",
     "text": [
      "A Program to Repeat each String Once.\n",
      "\n",
      "Enter a string: Hello World!\n",
      "\n",
      "Repeated String of Hello World!  = HHeelllloo  WWoorrlldd!!\n"
     ]
    }
   ],
   "source": [
    "\"\"\"Question 1: \n",
    "Create a function that takes a string and returns a \n",
    "string in which each character is repeated once.\n",
    "Examples\n",
    "double_char(\"String\") ➞ \"SSttrriinngg\"\n",
    "\n",
    "double_char(\"Hello World!\") ➞ \"HHeelllloo  WWoorrlldd!!\"\n",
    "\n",
    "double_char(\"1234!_ \") ➞ \"11223344!!__  \"\"\"\n",
    "\n",
    "def double_char(string):\n",
    "    \"\"\"\n",
    "    \n",
    "    Returns a string which has each character repeated.\n",
    "    \n",
    "    \"\"\"\n",
    "    new_string_list = []\n",
    "    for character in string:\n",
    "        new_string_list.append(character*2)\n",
    "    \n",
    "    return \"\".join(new_string_list)\n",
    "\n",
    "\n",
    "print(\"A Program to Repeat each String Once.\")\n",
    "print()\n",
    "\n",
    "user_input = input(\"Enter a string: \")\n",
    "print()\n",
    "print(f\"Repeated String of {user_input}  = {double_char(user_input)}\")\n",
    "        "
   ]
  },
  {
   "cell_type": "code",
   "execution_count": 34,
   "metadata": {},
   "outputs": [
    {
     "name": "stdout",
     "output_type": "stream",
     "text": [
      "A Program to Reverse a Boolean Value.\n",
      "\n",
      "Enter a string: fsdfs\n",
      "Boolean Reverse of String fsdfs  = boolean expected\n"
     ]
    }
   ],
   "source": [
    "\"\"\"Question 2:\n",
    "Create a function that reverses a boolean value and \n",
    "returns the string \"boolean expected\" if another \n",
    "variable type is given.\n",
    "Examples\n",
    "reverse(True) ➞ False\n",
    "\n",
    "reverse(False) ➞ True\n",
    "\n",
    "reverse(0) ➞ \"boolean expected\"\n",
    "\n",
    "reverse(None) ➞ \"boolean expected\"\"\"\n",
    "\n",
    "def reverse(string):\n",
    "    \n",
    "    try:\n",
    "        bool_value = eval(string, {\"__builtins__\":__builtins__})\n",
    "        if type(bool_value) == bool:     # checks if type of string is a boolean type\n",
    "            return not bool_value\n",
    "    except Exception as e:\n",
    "        return \"boolean expected\"\n",
    "\n",
    "\n",
    "print(\"A Program to Reverse a Boolean Value.\")\n",
    "print()\n",
    "    \n",
    "user_input = input(\"Enter a string: \")\n",
    "print(f\"Boolean Reverse of String {user_input}  = {reverse(user_input)}\")\n"
   ]
  },
  {
   "cell_type": "code",
   "execution_count": 71,
   "metadata": {},
   "outputs": [
    {
     "name": "stdout",
     "output_type": "stream",
     "text": [
      "A Program to Display the Thickness of a Paper after Folding it n-times.\n",
      "\n",
      "Enter number of folds: 4\n",
      "Thickness after 4 folds  = 0.008meters\n"
     ]
    }
   ],
   "source": [
    "\"\"\"Question 3:\n",
    "Create a function that returns the thickness (in meters)\n",
    "of a piece of paper after folding it n number of times.\n",
    "The paper starts off with a thickness of 0.5mm.\n",
    "Examples\n",
    "num_layers(1) ➞ \"0.001m\"\n",
    "# Paper folded once is 1mm (equal to 0.001m)\n",
    "\n",
    "num_layers(4) ➞ \"0.008m\"\n",
    "# Paper folded 4 times is 8mm (equal to 0.008m)\n",
    "\n",
    "num_layers(21) ➞ \"1048.576m\"\n",
    "# Paper folded 21 times is 1048576mm (equal to 1048.576m)\n",
    "\"\"\"\n",
    "\n",
    "def num_layers(num):\n",
    "    \"\"\"\n",
    "    \n",
    "    Returns the thickness of a paper based on the number\n",
    "    of folds.\n",
    "    \n",
    "    \"\"\"\n",
    "    thickness = 0.5\n",
    "    for _ in range(num):\n",
    "        thickness *= 2     # thickness in mm\n",
    "    \n",
    "    return thickness / 1000 # for meters\n",
    "\n",
    "\n",
    "print(\"A Program to Display the Thickness of a Paper after Folding it n-times.\")\n",
    "\n",
    "while True:\n",
    "    try:\n",
    "        print()\n",
    "        user_input = int(input(\"Enter number of folds: \"))\n",
    "    except Exception as e:\n",
    "        print(\"Invalid input! \")\n",
    "    else:\n",
    "        print(f\"Thickness after {user_input} folds  = {num_layers(user_input)}meters\")\n",
    "        break"
   ]
  },
  {
   "cell_type": "code",
   "execution_count": 51,
   "metadata": {},
   "outputs": [
    {
     "name": "stdout",
     "output_type": "stream",
     "text": [
      "A Program to Display the Index of Capital Letters in a String.\n",
      "\n",
      "Enter a string: eQuINoX\n",
      "Index of Capital Letters in the String eQuINoX  = [1, 3, 4, 6]\n"
     ]
    }
   ],
   "source": [
    "\"\"\"Question 4:\n",
    "Create a function that takes a single string as argument \n",
    "and returns an ordered list containing the indices of all\n",
    "capital letters in the string.\n",
    "\n",
    "Examples\n",
    "index_of_caps(\"eDaBiT\") ➞ [1, 3, 5]\n",
    "\n",
    "index_of_caps(\"eQuINoX\") ➞ [1, 3, 4, 6]\n",
    "\n",
    "index_of_caps(\"determine\") ➞ []\n",
    "\n",
    "index_of_caps(\"STRIKE\") ➞ [0, 1, 2, 3, 4, 5]\n",
    "\n",
    "index_of_caps(\"sUn\") ➞ [1]\n",
    "\"\"\"\n",
    "\n",
    "def index_of_caps(string):\n",
    "    \"\"\"\n",
    "    \n",
    "    Returns a list index of all the capital letters in a\n",
    "    string\n",
    "    \n",
    "    \"\"\"\n",
    "    return[index for index in range(len(string)) if string[index].isupper()]\n",
    "\n",
    "print(\"A Program to Display the Index of Capital Letters in a String.\")\n",
    "print()\n",
    "    \n",
    "user_input = input(\"Enter a string: \")\n",
    "print(f\"Index of Capital Letters in the String {user_input}  = {index_of_caps(user_input)}\")\n"
   ]
  },
  {
   "cell_type": "code",
   "execution_count": 53,
   "metadata": {},
   "outputs": [
    {
     "name": "stdout",
     "output_type": "stream",
     "text": [
      "A Program to Display the Even numbers in a Range.\n",
      "\n",
      "Enter a number(limit): 8\n",
      "Even Numbers from 1 to 8  = [2, 4, 6, 8]\n"
     ]
    }
   ],
   "source": [
    "\"\"\"Question 5:\n",
    "Using list comprehensions, create a function that finds \n",
    "all even numbers from 1 to the given number.\n",
    "Examples\n",
    "find_even_nums(8) ➞ [2, 4, 6, 8]\n",
    "\n",
    "find_even_nums(4) ➞ [2, 4]\n",
    "\n",
    "find_even_nums(2) ➞ [2]\"\"\"\n",
    "\n",
    "def find_even_nums(number):\n",
    "    \"\"\"\n",
    "    \n",
    "    Returns a list of even numbers from 1 to number.\n",
    "    \n",
    "    \"\"\"\n",
    "    return [value for value in range(1, number+1) if value % 2 == 0]\n",
    "\n",
    "print(\"A Program to Display the Even numbers in a Range.\")\n",
    "\n",
    "while True:\n",
    "    try:\n",
    "        print()\n",
    "        user_input = int(input(\"Enter a number(limit): \"))\n",
    "    except Exception as e:\n",
    "        print(\"Invalid input! \")\n",
    "    else:\n",
    "        print(f\"Even Numbers from 1 to {user_input}  = {find_even_nums(user_input)}\")\n",
    "        break"
   ]
  }
 ],
 "metadata": {
  "kernelspec": {
   "display_name": "Python 3 (ipykernel)",
   "language": "python",
   "name": "python3"
  },
  "language_info": {
   "codemirror_mode": {
    "name": "ipython",
    "version": 3
   },
   "file_extension": ".py",
   "mimetype": "text/x-python",
   "name": "python",
   "nbconvert_exporter": "python",
   "pygments_lexer": "ipython3",
   "version": "3.7.6"
  }
 },
 "nbformat": 4,
 "nbformat_minor": 4
}
