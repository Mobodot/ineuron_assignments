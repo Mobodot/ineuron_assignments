{
 "cells": [
  {
   "cell_type": "raw",
   "metadata": {},
   "source": [
    "Question 1: In the below elements which of them are values or an expression? eg:- values can be integer or string and expressions will be mathematical operators.\n",
    "\n",
    "\n",
    "Answers:\n",
    " * : Expression\n",
    " 'hello': Value\n",
    " -87.8: Value\n",
    " -: Expression\n",
    " /: Expression\n",
    " +: Expression\n",
    " 6: Value\n",
    "\n",
    "    "
   ]
  },
  {
   "cell_type": "raw",
   "metadata": {},
   "source": [
    "Question 2: What is the difference between string and variable?\n",
    "\n",
    "Answer:\n",
    "A String can be seen as character(s) which are enclosed in single or double quotes, while a variable is simply a name or reference to a given data."
   ]
  },
  {
   "cell_type": "raw",
   "metadata": {},
   "source": [
    "Question 3: Describe three different data types.\n",
    "\n",
    "Answer:\n",
    "\n",
    "1. int: This is simply a numeric value without any decimal points. E.g 20\n",
    "\n",
    "2. float: These are numeric values containing decimal points. E.g 134.4\n",
    "\n",
    "3. Boolean: Values which are either True or False."
   ]
  },
  {
   "cell_type": "raw",
   "metadata": {},
   "source": [
    "Question 4: What is an expression made up of? What do all expressions do?\n",
    "\n",
    "Answer:\n",
    "\n",
    "Expressions are made up of values and operators.\n",
    "\n",
    "The purpose of an expresssion is to return a new value."
   ]
  },
  {
   "cell_type": "raw",
   "metadata": {},
   "source": [
    "Question 5: This assignment statements, like spam = 10. What is the difference between an expression and a statement?\n",
    "\n",
    "Answer: \n",
    "\n",
    "The statement spam = 10 simply creates a reference to the data 10 with is identified by a variable name called spam.\n",
    "\n",
    "While an Expression uses a combination of a value and an operator to return a new value."
   ]
  },
  {
   "cell_type": "raw",
   "metadata": {},
   "source": [
    "Question 6: After running the following code, what does the variable bacon contain?\n",
    "bacon = 22\n",
    "bacon + 1\n",
    "\n",
    "Answer:\n",
    "\n",
    "bacon = 22"
   ]
  },
  {
   "cell_type": "raw",
   "metadata": {},
   "source": [
    "Question 7:  What should the values of the following two terms be?\n",
    "'spam' + 'spamspam'\n",
    "'spam' * 3\n",
    "\n",
    "Answer:\n",
    "'spam' + 'spamspam' = 'spamspamspam'\n",
    "'spam' * 3 = 'spamspamspam'\n"
   ]
  },
  {
   "cell_type": "raw",
   "metadata": {},
   "source": [
    "Question 8: Why is eggs a valid variable name while 100 is invalid?\n",
    "\n",
    "Answer:\n",
    "\n",
    "eggs is a valid variable name because it follows the naming convention given by pep8. i.e the variable starts with a letter.\n",
    "\n",
    "100 is not a valid naming convention because a variable cannot begin with a number."
   ]
  },
  {
   "cell_type": "raw",
   "metadata": {},
   "source": [
    "Question 9: What three functions can be used to get the integer, floating-point number, or string version of a value?\n",
    "\n",
    "Answer:\n",
    "\n",
    "interger: int()\n",
    "floating-point: float()\n",
    "string: str()\n"
   ]
  },
  {
   "cell_type": "raw",
   "metadata": {},
   "source": [
    "Question 10: Why does this expression cause an error? How can you fix it?\n",
    "'I have eaten ' + 99 + ' burritos.'\n",
    "\n",
    "Answer:\n",
    "\n",
    "The error is caused because we're trying to concatenate 2 different data types together (str and int).\n",
    "\n",
    "To fix the error we've to type cast 99 to a string. \n",
    "i.e 'I have eaten ' + str(99) + ' burritos.'\n"
   ]
  }
 ],
 "metadata": {
  "kernelspec": {
   "display_name": "Python 3 (ipykernel)",
   "language": "python",
   "name": "python3"
  },
  "language_info": {
   "codemirror_mode": {
    "name": "ipython",
    "version": 3
   },
   "file_extension": ".py",
   "mimetype": "text/x-python",
   "name": "python",
   "nbconvert_exporter": "python",
   "pygments_lexer": "ipython3",
   "version": "3.7.6"
  }
 },
 "nbformat": 4,
 "nbformat_minor": 4
}
