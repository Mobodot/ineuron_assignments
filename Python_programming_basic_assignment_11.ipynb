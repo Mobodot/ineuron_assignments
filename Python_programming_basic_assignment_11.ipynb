{
 "cells": [
  {
   "cell_type": "code",
   "execution_count": 5,
   "metadata": {},
   "outputs": [
    {
     "name": "stdout",
     "output_type": "stream",
     "text": [
      "A Program to Find Words Greater than Length k\n",
      "\n",
      "Enter a sentence/paragraph: Write a Python program to find words which are greater than given length k?\n",
      "Length of word? 4\n",
      "\n",
      "Words greater than 4 = ['Write', 'Python', 'program', 'words', 'which', 'greater', 'given', 'length']\n"
     ]
    }
   ],
   "source": [
    "\"\"\"Question 1: Write a Python program to find words which\n",
    "are greater than given length k?\"\"\"\n",
    "\n",
    "def words_greater_than_k(string, k):\n",
    "    \"\"\"\n",
    "    \n",
    "    k: length of word.\n",
    "    Returns a list of words greater than k.\n",
    "    \n",
    "    \"\"\"\n",
    "    greater_words = []\n",
    "    new_string = string.split(\" \")\n",
    "    for word in new_string:\n",
    "        if len(word) > k:\n",
    "            greater_words.append(word.strip())\n",
    "    \n",
    "    return greater_words\n",
    "\n",
    "\n",
    "print(\"A Program to Find Words Greater than Length k\")\n",
    "print()\n",
    "user_input = input(\"Enter a sentence/paragraph: \") \n",
    "length = int(input(\"Length of word? \"))\n",
    "\n",
    "print()\n",
    "print(f\"Words greater than {length} = {words_greater_than_k(user_input, length)}\")\n",
    "\n"
   ]
  },
  {
   "cell_type": "code",
   "execution_count": 26,
   "metadata": {},
   "outputs": [
    {
     "name": "stdout",
     "output_type": "stream",
     "text": [
      "A Program to Remove the i-th Character from a String \n",
      "\n",
      "Enter a word: hello\n",
      "What position character do you want to remove? 2\n",
      "\n",
      "Removing the 2th character = helo\n"
     ]
    }
   ],
   "source": [
    "\"\"\"Question 2: Write a Python program for removing \n",
    "i-th character from a string?\"\"\"\n",
    "\n",
    "def remove_ith_char(string, i):\n",
    "    \"\"\"\n",
    "    i: index position \n",
    "    Returns a new string without the i-th char.\n",
    "    \n",
    "    \"\"\"\n",
    "    return string.replace(string[i], \"\", 1)\n",
    "\n",
    "print(\"A Program to Remove the i-th Character from a String \")\n",
    "print()\n",
    "user_input = input(\"Enter a word: \") \n",
    "position = int(input(\"What position character do you want to remove? \"))\n",
    "\n",
    "print()\n",
    "print(f\"Removing the {position}th character = {remove_ith_char(user_input, position)}\")\n",
    "\n"
   ]
  },
  {
   "cell_type": "code",
   "execution_count": 32,
   "metadata": {},
   "outputs": [
    {
     "name": "stdout",
     "output_type": "stream",
     "text": [
      "A Program to Split and Join a String \n",
      "\n",
      "Enter a sentence/paragraph: \"hello friends, who are you?\"\n",
      "\n",
      "Spliting and Joining the string \"hello friends, who are you?\" = \"hello-friends,-who-are-you?\"\n"
     ]
    }
   ],
   "source": [
    "\"\"\"Question 3: Write a Python program to split and \n",
    "join a string?\"\"\"\n",
    "\n",
    "def split_join(string):\n",
    "    \"\"\"\n",
    "    \n",
    "    Splits a string at each space and returns a \n",
    "    new string joined by \"-\"\n",
    "    \n",
    "    \"\"\"\n",
    "    split_string = string.split(\" \")\n",
    "    return \"-\".join(split_string)\n",
    "\n",
    "print(\"A Program to Split and Join a String \")\n",
    "print()\n",
    "user_input = input(\"Enter a sentence/paragraph: \") \n",
    "\n",
    "print()\n",
    "print(f\"Spliting and Joining the string {user_input} = {split_join(user_input)}\")\n",
    "\n"
   ]
  },
  {
   "cell_type": "code",
   "execution_count": 47,
   "metadata": {},
   "outputs": [
    {
     "name": "stdout",
     "output_type": "stream",
     "text": [
      "Binary String Checker\n",
      "\n",
      "Enter a string of digits: 101010\n",
      "\n",
      "101010 is a binary string? = True\n"
     ]
    }
   ],
   "source": [
    "\"\"\"Question 4: Write a Python to check if a given string \n",
    "is binary string or not?\"\"\"\n",
    "\n",
    "def is_binary(string):\n",
    "    \"\"\"\n",
    "    \n",
    "    returns True is a string contians only 1's and 0's\n",
    "    Otherwise returns False\n",
    "    \n",
    "    \"\"\"\n",
    "    binary_string = True\n",
    "    for value in string:\n",
    "        if not (value == \"1\" or value == \"0\"):\n",
    "            binary_string = False\n",
    "            break\n",
    "\n",
    "    return binary_string\n",
    "\n",
    "print(\"Binary String Checker\")\n",
    "print()\n",
    "user_input = input(\"Enter a string of digits: \") \n",
    "\n",
    "print()\n",
    "print(f\"{user_input} is a binary string? = {is_binary(user_input)}\")\n",
    "\n"
   ]
  },
  {
   "cell_type": "code",
   "execution_count": 59,
   "metadata": {},
   "outputs": [
    {
     "name": "stdout",
     "output_type": "stream",
     "text": [
      "A Program to find Uncommon Words from Two Strings\n",
      "\n",
      "Enter first sentence/paragraph: Write a Python program for removing i-th character from a string?\n",
      "\n",
      "Enter second sentence/paragraph: Write a Python program to split and join a string?\n",
      "\n",
      "Words that are not in both sentences = ['for', 'removing', 'i-th', 'character', 'from', 'to', 'split', 'and', 'join']\n"
     ]
    }
   ],
   "source": [
    "\"\"\"Question 5: Write a Python program to find uncommon \n",
    "words from two Strings?\"\"\"\n",
    "\n",
    "def uncommon_words(string_a, string_b):\n",
    "    \"\"\"\n",
    "    \n",
    "    returns a new list of words which are not in both\n",
    "    string_a and string_b\n",
    "    \n",
    "    E.g: string_a = \"sam is my friend\"\n",
    "         string_b = \"fred is my friend\"\n",
    "         result = [\"sam\", \"fred\"]\n",
    "    \n",
    "    \"\"\"\n",
    "    diff_words = []    \n",
    "    splited_string_a = string_a.split(\" \")\n",
    "    splited_string_b = string_b.split(\" \")\n",
    "\n",
    "    for word in splited_string_a:\n",
    "        if word not in string_b:\n",
    "            diff_words.append(word)\n",
    "            \n",
    "    for word in splited_string_b:\n",
    "        if word not in string_a:\n",
    "            diff_words.append(word)\n",
    "    \n",
    "    return diff_words\n",
    "\n",
    "print(\"A Program to find Uncommon Words from Two Strings\")\n",
    "print()\n",
    "user_input_a = input(\"Enter first sentence/paragraph: \")\n",
    "print()\n",
    "user_input_b = input(\"Enter second sentence/paragraph: \") \n",
    "\n",
    "\n",
    "print()\n",
    "print(f\"Words that are not in both sentences = {uncommon_words(user_input_a, user_input_b)}\")\n",
    "\n"
   ]
  },
  {
   "cell_type": "code",
   "execution_count": 95,
   "metadata": {},
   "outputs": [
    {
     "name": "stdout",
     "output_type": "stream",
     "text": [
      "Finding Duplicate Characters\n",
      "\n",
      "Enter your string: hello friends, goodbye\"\n",
      "\n",
      "Duplicate characters are = {'e': 2, 'l': 2, 'o': 2, 'd': 2}\n"
     ]
    }
   ],
   "source": [
    "\"\"\"Question 6: Write a Python to find all duplicate \n",
    "characters in string?\"\"\"\n",
    "\n",
    "def duplicate_chars(string):\n",
    "    \"\"\"\n",
    "    \n",
    "    Returns a dictionary of all characters greater than 1\n",
    "    \n",
    "    \"\"\"\n",
    "    letter_dict = {}\n",
    "    duplicates = {}\n",
    "\n",
    "    counter = 1    # frequency of all characters\n",
    "    for letter in string:\n",
    "        if letter != \" \":\n",
    "            if letter in letter_dict:\n",
    "                letter_dict[letter] = counter + 1\n",
    "            else:\n",
    "                letter_dict[letter] = counter\n",
    "\n",
    "\n",
    "    for value in letter_dict:    # frequency of chars > 1\n",
    "        if letter_dict[value] > 1:\n",
    "            duplicates[value] = letter_dict[value]\n",
    "\n",
    "    return duplicates\n",
    "\n",
    "print(\"Finding Duplicate Characters\")\n",
    "print()\n",
    "user_input = input(\"Enter your string: \") \n",
    "\n",
    "print()\n",
    "print(f\"Duplicate characters are = {duplicate_chars(user_input)}\")\n",
    "\n"
   ]
  },
  {
   "cell_type": "code",
   "execution_count": 68,
   "metadata": {},
   "outputs": [
    {
     "name": "stdout",
     "output_type": "stream",
     "text": [
      "Special Character Checker\n",
      "\n",
      "Enter your string: Hello, guys!\n",
      "\n",
      "Hello, guys! contains any special characters? = True\n"
     ]
    }
   ],
   "source": [
    "\"\"\"Question 7: Write a Python Program to check if a \n",
    "string contains any special character?\"\"\"\n",
    "\n",
    "def has_special_char(string):\n",
    "    \"\"\"\n",
    "    \n",
    "    Returns True if a string contains special character,\n",
    "    otherwise False.\n",
    "    \n",
    "    A special character is any character that is not an\n",
    "    alphabet.\n",
    "    \n",
    "    \"\"\"\n",
    "    special_char = False\n",
    "    for letter in string:\n",
    "        if not letter.isalpha():\n",
    "            special_char = True\n",
    "            break\n",
    "    \n",
    "    return special_char\n",
    "\n",
    "\n",
    "print(\"Special Character Checker\")\n",
    "print()\n",
    "user_input = input(\"Enter your string: \") \n",
    "\n",
    "print()\n",
    "print(f\"{user_input} contains any special characters? = {has_special_char(user_input)}\")\n",
    "\n"
   ]
  }
 ],
 "metadata": {
  "kernelspec": {
   "display_name": "Python 3 (ipykernel)",
   "language": "python",
   "name": "python3"
  },
  "language_info": {
   "codemirror_mode": {
    "name": "ipython",
    "version": 3
   },
   "file_extension": ".py",
   "mimetype": "text/x-python",
   "name": "python",
   "nbconvert_exporter": "python",
   "pygments_lexer": "ipython3",
   "version": "3.7.6"
  }
 },
 "nbformat": 4,
 "nbformat_minor": 4
}
