{
 "cells": [
  {
   "cell_type": "raw",
   "metadata": {},
   "source": [
    "\"\"\"Question 1: What are escape characters, and how do you use them?\"\"\"\n",
    "\n",
    "Answer:\n",
    "\n",
    "This are characters used to prevent the compiler from throwing an error due to incorrect syntax. The allow you include special characters in strings.\n",
    "\n",
    "They are used by placing a backslash(\\) in the section of your code which you want the interpreter to parse differently"
   ]
  },
  {
   "cell_type": "raw",
   "metadata": {},
   "source": [
    "\"\"\"Question 2: What do the escape characters n and t stand for?\"\"\"\n",
    "\n",
    "Answer:\n",
    "\n",
    "\\n - stands for newline.\n",
    "\\t - stands for tab."
   ]
  },
  {
   "cell_type": "raw",
   "metadata": {},
   "source": [
    "\"\"\"Question 3: What is the way to include backslash characters in a string?\"\"\"\n",
    "\n",
    "Answer:\n",
    "\n",
    "By placing the \\ character enclosed within your string."
   ]
  },
  {
   "cell_type": "raw",
   "metadata": {},
   "source": [
    "\"\"\"Question 4: The string \"Howl's Moving Castle\" is a correct value. Why isn't the single quote character in the word Howl's not escaped a problem?\"\"\"\n",
    "\n",
    "Answer:\n",
    "\n",
    "Because the entire string is enclosed in double quotes (\"\") which indicates the begining and end of the string."
   ]
  },
  {
   "cell_type": "raw",
   "metadata": {},
   "source": [
    "\"\"\"Question 5: How do you write a string of newlines if you don't want to use the n character?\"\"\"\n",
    "\n",
    "Answer:\n",
    "\n",
    "Enclose the string in triple quotes(\"\"\" \"\"\")."
   ]
  },
  {
   "cell_type": "raw",
   "metadata": {},
   "source": [
    "\"\"\"Question 6: What are the values of the given expressions?\n",
    "'Hello, world!'[1]\n",
    "'Hello, world!'[0:5]\n",
    "'Hello, world!'[:5]\n",
    "'Hello, world!'[3:]\n",
    "\"\"\"\n",
    "\n",
    "Answer:\n",
    "\n",
    "'Hello, world!'[1] ---> \"e\"\n",
    "'Hello, world!'[0:5]--> \"Hello\"\n",
    "'Hello, world!'[:5] --> \"Hello\"\n",
    "'Hello, world!'[3:] --> \"lo, world!\""
   ]
  },
  {
   "cell_type": "raw",
   "metadata": {},
   "source": [
    "\"\"\"Question 7: What are the values of the following expressions?\n",
    "'Hello'.upper()\n",
    "'Hello'.upper().isupper()\n",
    "'Hello'.upper().lower()\n",
    "\"\"\"\n",
    "\n",
    "Answer: \n",
    "\n",
    "'Hello'.upper() ---> \"HELLO\"\n",
    "'Hello'.upper().isupper() ---> True\n",
    "'Hello'.upper().lower() -----> False"
   ]
  },
  {
   "cell_type": "raw",
   "metadata": {},
   "source": [
    "\"\"\"Question 8:  What are the values of the following expressions?\n",
    "'Remember, remember, the fifth of July.'.split()\n",
    "'-'.join('There can only one.'.split())\n",
    "\"\"\"\n",
    "\n",
    "Answer: \n",
    "\n",
    "'Remember, remember, the fifth of July.'.split() ---> [\"Remember,\", \"remember,\", \"the\", \"fifth\", \"of\", \"July\"]\n",
    "\n",
    "'-'.join('There can only one.'.split()) ---> \"There-can-only-one.\""
   ]
  },
  {
   "cell_type": "raw",
   "metadata": {},
   "source": [
    "\"\"\"Question 9:  What are the methods for right-justifying, left-justifying, and centering a string?\"\"\"\n",
    "\n",
    "Answer:\n",
    "\n",
    "str_object.rjust(), str_object.ljust() and str_object.center()"
   ]
  },
  {
   "cell_type": "raw",
   "metadata": {},
   "source": [
    "\"\"\"Question 10: What is the best way to remove whitespace characters from the start or end?\"\"\"\n",
    "\n",
    "Answer:\n",
    "\n",
    "str_object.strip()"
   ]
  }
 ],
 "metadata": {
  "kernelspec": {
   "display_name": "Python 3 (ipykernel)",
   "language": "python",
   "name": "python3"
  },
  "language_info": {
   "codemirror_mode": {
    "name": "ipython",
    "version": 3
   },
   "file_extension": ".py",
   "mimetype": "text/x-python",
   "name": "python",
   "nbconvert_exporter": "python",
   "pygments_lexer": "ipython3",
   "version": "3.7.6"
  }
 },
 "nbformat": 4,
 "nbformat_minor": 4
}
