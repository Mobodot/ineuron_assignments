{
 "cells": [
  {
   "cell_type": "code",
   "execution_count": 31,
   "metadata": {},
   "outputs": [
    {
     "data": {
      "text/plain": [
       "[21, 23, 19]"
      ]
     },
     "execution_count": 31,
     "metadata": {},
     "output_type": "execute_result"
    }
   ],
   "source": [
    "\"\"\"Question 1: Write a Python program to Extract Unique \n",
    "values dictionary values?\"\"\"\n",
    "\n",
    "def unique_values(dictionary):\n",
    "    \"\"\"\n",
    "    \n",
    "    Returns a list of unique values in a dictionary\n",
    "    \n",
    "    \"\"\"\n",
    "    unique = []\n",
    "    dict_values = list(dictionary.values())\n",
    "    for key in dictionary:\n",
    "        if dict_values.count(dictionary[key]) == 1:\n",
    "            unique.append(dictionary[key])\n",
    "            \n",
    "    return unique\n",
    "\n",
    "\n",
    "dictionary = {\"sam\":20, \"fred\":22, \"paul\":21, \"tony\":22, \n",
    "       \"priyanka\":23, \"dinesh\":19, \"saul\":20}\n",
    "unique_values(dictionary)"
   ]
  },
  {
   "cell_type": "code",
   "execution_count": 30,
   "metadata": {},
   "outputs": [
    {
     "data": {
      "text/plain": [
       "44"
      ]
     },
     "execution_count": 30,
     "metadata": {},
     "output_type": "execute_result"
    }
   ],
   "source": [
    "\"\"\"Question 2: Write a Python program to find the sum \n",
    "of all items in a dictionary?\"\"\"\n",
    "\n",
    "def dict_sum(dictionary):\n",
    "    \"\"\"\n",
    "    \n",
    "    Returns the total of all the numeric values in a\n",
    "    dictionary\n",
    "    \n",
    "    \"\"\"\n",
    "    total = 0\n",
    "    for key in dictionary:\n",
    "        if type(dictionary[key]) == int or type(dictionary[key]) == float:\n",
    "            total += dictionary[key]\n",
    "        else:\n",
    "            return f\"cannot perform operations between {type(dictionary[key])} and <class 'int'>\"\n",
    "\n",
    "    return total\n",
    "\n",
    "\n",
    "dictionary = {\"a\":12, \"b\":11, \"c\":12, \"d\":9}\n",
    "dict_sum(dictionary)\n",
    "                "
   ]
  },
  {
   "cell_type": "code",
   "execution_count": 29,
   "metadata": {},
   "outputs": [
    {
     "data": {
      "text/plain": [
       "{'a': 12, 'b': 11, 'c': 32, 'd': 9, 'e': 32, 'a1': 22, 'b1': 10}"
      ]
     },
     "execution_count": 29,
     "metadata": {},
     "output_type": "execute_result"
    }
   ],
   "source": [
    "\"\"\"Question 3: Write a Python program to Merging two \n",
    "Dictionaries?\"\"\"\n",
    "\n",
    "def dict_merge(dict_a, dict_b):\n",
    "    \"\"\"\n",
    "    \n",
    "    Merges two dictionaries together and returns a new\n",
    "    dictionary\n",
    "    \n",
    "    \"\"\"\n",
    "    merger = dict(dict_a)\n",
    "    merger.update(dict_b)\n",
    "    return merger\n",
    "\n",
    "\n",
    "dict_a = {\"a\":12, \"b\":11, \"c\":12, \"d\":9, \"e\":\"sam\"}\n",
    "dict_b = {\"a1\":22, \"b1\":10, \"c\":32, \"e\":32}\n",
    "dict_merge(dict_a, dict_b)"
   ]
  },
  {
   "cell_type": "code",
   "execution_count": 28,
   "metadata": {},
   "outputs": [
    {
     "data": {
      "text/plain": [
       "{'name': 'sam', 'age': 20, 'addr': 'india'}"
      ]
     },
     "execution_count": 28,
     "metadata": {},
     "output_type": "execute_result"
    }
   ],
   "source": [
    "\"\"\"Question 4: Write a Python program to convert \n",
    "key-values list to flat dictionary?\"\"\"\n",
    "\n",
    "def flat_dict(dict_list):\n",
    "    \"\"\"\n",
    "    \n",
    "    Takes a list of key value pair tuples and returns \n",
    "    a dictionary.\n",
    "    \n",
    "    E.g details = [(\"name\",\"fred\"), (\"age\", 20)]\n",
    "    Result -> {\"name\":\"fred\", \"age\":20}\n",
    "    \n",
    "    \n",
    "    \"\"\"\n",
    "\n",
    "    return dict(dict_list)\n",
    "\n",
    "\n",
    "dict_list = [(\"name\", \"sam\"), (\"age\", 20), (\"addr\", \"india\")]\n",
    "flat_dict(dict_list)"
   ]
  },
  {
   "cell_type": "code",
   "execution_count": 27,
   "metadata": {},
   "outputs": [
    {
     "data": {
      "text/plain": [
       "OrderedDict([('saul', 20),\n",
       "             ('dinesh', 19),\n",
       "             ('priyanka', 23),\n",
       "             ('tony', 22),\n",
       "             ('paul', 21),\n",
       "             ('fred', 22),\n",
       "             ('sam', 20)])"
      ]
     },
     "execution_count": 27,
     "metadata": {},
     "output_type": "execute_result"
    }
   ],
   "source": [
    "\"\"\"Question 5: Write a Python program to insertion at \n",
    "the beginning in OrderedDict?\"\"\"\n",
    "\n",
    "from collections import OrderedDict\n",
    "\n",
    "def insert_on_top(dict_val):\n",
    "    \"\"\"\n",
    "    \n",
    "    Adds the elements of a dictionary to the top and returns\n",
    "    a new dictionary\n",
    "    \n",
    "    \"\"\"\n",
    "    od = OrderedDict()\n",
    "    for key,value in dict_val.items():\n",
    "        if key not in od:\n",
    "            od[key] = value\n",
    "            od.move_to_end(key, last=False)\n",
    "\n",
    "    return od\n",
    "\n",
    "\n",
    "dict_val = {\"sam\":20, \"fred\":22, \"paul\":21, \"tony\":22, \n",
    "       \"priyanka\":23, \"dinesh\":19, \"saul\":20}\n",
    "insert_on_top(dict_val)"
   ]
  },
  {
   "cell_type": "code",
   "execution_count": 25,
   "metadata": {},
   "outputs": [
    {
     "data": {
      "text/plain": [
       "'the order of pattern is correct'"
      ]
     },
     "execution_count": 25,
     "metadata": {},
     "output_type": "execute_result"
    }
   ],
   "source": [
    "\"\"\"Question 6: Write a Python program to check order \n",
    "of character in string using OrderedDict()?\"\"\"\n",
    "\n",
    "from collections import OrderedDict\n",
    "def check_order(user_input, user_pattern):\n",
    "    user_dict = OrderedDict.fromkeys(user_input)\n",
    "    pattern_length = 0\n",
    "    for key,value in user_dict.items():\n",
    "        if key == user_pattern[pattern_length]:\n",
    "            pattern_length = pattern_length + 1\n",
    "        if pattern_length == (len(user_pattern)):\n",
    "            return \"the order of pattern is correct\"\n",
    "    return \"incorrect pattern order\"\n",
    "\n",
    "user_input = \"friends\"\n",
    "input_pattern = \"fn\"\n",
    "\n",
    "\n",
    "check_order(user_input, input_pattern)"
   ]
  },
  {
   "cell_type": "code",
   "execution_count": 26,
   "metadata": {},
   "outputs": [
    {
     "data": {
      "text/plain": [
       "{'a': 13, 'q': 6, 'z': 14}"
      ]
     },
     "execution_count": 26,
     "metadata": {},
     "output_type": "execute_result"
    }
   ],
   "source": [
    "\"\"\"Question 7: Write a Python program to sort Python \n",
    "Dictionaries by Key or Value?\"\"\"\n",
    "\n",
    "\n",
    "\n",
    "def sorted_keys(dictionary):\n",
    "    \"\"\"\n",
    "    \n",
    "    Returns a sorted dictionary by its keys.\n",
    "    \n",
    "    \"\"\"\n",
    "    return {key: value for key, value in sorted(dictionary.items())}\n",
    "\n",
    "\n",
    "def sorted_values(dictionary):\n",
    "    \"\"\"\n",
    "    \n",
    "    Returns a sorted dictionary by its values.\n",
    "    \n",
    "    \"\"\"\n",
    "    return {k:v for k,v in sorted(dictionary.items(), key=lambda item: item[1])}\n",
    "\n",
    "\n",
    "def sorted_dict(dictionary, values=False):\n",
    "    \"\"\"\n",
    "    \n",
    "    By default it returns a dictionary sorted by its key.\n",
    "    Otherwise if values=True, sorts a dictionary by its\n",
    "    values.\n",
    "    \n",
    "    \"\"\"\n",
    "    if values:\n",
    "        return sorted_values(dictionary)\n",
    "    else:\n",
    "        return sorted_keys(dictionary)\n",
    "        \n",
    "        \n",
    "dictionary = {\"z\":14, \"q\":6, \"a\":13}\n",
    "sorted_dict(dictionary)"
   ]
  }
 ],
 "metadata": {
  "kernelspec": {
   "display_name": "Python 3 (ipykernel)",
   "language": "python",
   "name": "python3"
  },
  "language_info": {
   "codemirror_mode": {
    "name": "ipython",
    "version": 3
   },
   "file_extension": ".py",
   "mimetype": "text/x-python",
   "name": "python",
   "nbconvert_exporter": "python",
   "pygments_lexer": "ipython3",
   "version": "3.7.6"
  }
 },
 "nbformat": 4,
 "nbformat_minor": 4
}
