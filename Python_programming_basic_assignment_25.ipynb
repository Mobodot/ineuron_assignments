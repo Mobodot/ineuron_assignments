{
 "cells": [
  {
   "cell_type": "code",
   "execution_count": 5,
   "metadata": {},
   "outputs": [
    {
     "name": "stdout",
     "output_type": "stream",
     "text": [
      "A Program to Counts the Amount of Integers which are of Equal Value.\n",
      "\n",
      "NB: Program requires three integers\n",
      "Enter value A: 3\n",
      "Enter value B: 4\n",
      "Enter value C: 3\n",
      "Number of equal values in 3, 4, 3 is = 2\n"
     ]
    }
   ],
   "source": [
    "\"\"\"Question 1:\n",
    "Create a function that takes three integer arguments \n",
    "(a, b, c) and returns the amount of integers which are of\n",
    "equal value.\n",
    "Examples\n",
    "equal(3, 4, 3) ➞ 2\n",
    "\n",
    "equal(1, 1, 1) ➞ 3\n",
    "\n",
    "equal(3, 4, 1) ➞ 0 \n",
    "Notes\n",
    "Your function must return 0, 2 or 3.\n",
    "\"\"\"\n",
    "\n",
    "def equal(a, b, c):\n",
    "    \"\"\"\n",
    "    \n",
    "    Returns the amount of integers which are of equal\n",
    "    value.\n",
    "    \n",
    "    Examples\n",
    "    equal(3, 4, 3) ➞ 2\n",
    "\n",
    "    equal(1, 1, 1) ➞ 3\n",
    "\n",
    "    equal(3, 4, 1) ➞ 0 \n",
    "    NB: return can only be 0, 2 or 3.\n",
    "    \n",
    "    \"\"\"\n",
    "    numbers = [a,b,c]\n",
    "    for number in numbers:\n",
    "        if numbers.count(number) == 3:\n",
    "            return numbers.count(number)\n",
    "        elif numbers.count(number) == 2:\n",
    "            return numbers.count(number)\n",
    "        else:\n",
    "            return 0\n",
    "        \n",
    "print(\"A Program to Counts the Amount of Integers which are of Equal Value.\")\n",
    "\n",
    "while True:\n",
    "    try:\n",
    "        print()\n",
    "        print(\"NB: Program requires three integers\")\n",
    "        first_input = int(input(\"Enter value A: \"))\n",
    "        second_input = int(input(\"Enter value B: \"))\n",
    "        third_input = int(input(\"Enter value C: \"))\n",
    "    except Exception as e:\n",
    "        print(\"Invalid input! \")\n",
    "    else:\n",
    "        print(f\"Number of equal values in {first_input}, {second_input}, {third_input} is = {equal(first_input, second_input, third_input)}\")\n",
    "        break"
   ]
  },
  {
   "cell_type": "code",
   "execution_count": 19,
   "metadata": {},
   "outputs": [
    {
     "data": {
      "text/plain": [
       "[('dislikes', 3), ('followers', 10), ('likes', 2)]"
      ]
     },
     "execution_count": 19,
     "metadata": {},
     "output_type": "execute_result"
    }
   ],
   "source": [
    "\"\"\"Question 2:\n",
    "Write a function that converts a dictionary into a \n",
    "list of keys-values tuples.\n",
    "Examples\n",
    "dict_to_list({\n",
    "  \"D\": 1,\n",
    "  \"B\": 2,\n",
    "  \"C\": 3\n",
    "}) ➞ [(\"B\", 2), (\"C\", 3), (\"D\", 1)]\n",
    "\n",
    "dict_to_list({\n",
    "  \"likes\": 2,\n",
    "  \"dislikes\": 3,\n",
    "  \"followers\": 10\n",
    "}) ➞ [(\"dislikes\", 3), (\"followers\", 10), (\"likes\", 2)]\n",
    "Notes\n",
    "Return the elements in the list in alphabetical order.\n",
    "\"\"\"\n",
    "\n",
    "def dict_to_list(dictionary):\n",
    "    \"\"\"\n",
    "    \n",
    "    Returns an alphabetical list of keys-values tuples \n",
    "    from a dictionary.\n",
    "    \n",
    "    \"\"\"\n",
    "    return [(key,dictionary[key]) for key in sorted(dictionary)]\n",
    "\n",
    "dictionary = {\n",
    "  \"likes\": 2,\n",
    "  \"dislikes\": 3,\n",
    "  \"followers\": 10\n",
    "}\n",
    "dict_to_list(dictionary)"
   ]
  },
  {
   "cell_type": "code",
   "execution_count": 31,
   "metadata": {},
   "outputs": [
    {
     "data": {
      "text/plain": [
       "{'a': 'A', 'v': 'V', 'y': 'Y', 'z': 'Z'}"
      ]
     },
     "execution_count": 31,
     "metadata": {},
     "output_type": "execute_result"
    }
   ],
   "source": [
    "\"\"\"Question3\n",
    "Write a function that creates a dictionary with each \n",
    "(key, value) pair being the (lower case, upper case) \n",
    "versions of a letter, respectively.\n",
    "Examples\n",
    "mapping([\"p\", \"s\"]) ➞ { \"p\": \"P\", \"s\": \"S\" }\n",
    "\n",
    "mapping([\"a\", \"b\", \"c\"]) ➞ { \"a\": \"A\", \"b\": \"B\", \"c\": \"C\" }\n",
    "\n",
    "mapping([\"a\", \"v\", \"y\", \"z\"]) ➞ { \"a\": \"A\", \"v\": \"V\", \"y\": \"Y\", \"z\": \"Z\" }\n",
    "Notes\n",
    "All of the letters in the input list will always be \n",
    "lowercase.\n",
    "\"\"\"\n",
    "\n",
    "def mapping(lst):\n",
    "    \"\"\"\n",
    "    \n",
    "    Returns a dictionary with each (key, value) pair\n",
    "    being the (lower case, upper case) versions of a \n",
    "    letter respectively\n",
    "    \n",
    "    \"\"\"\n",
    "    dictionary = {}\n",
    "    for value in lst:\n",
    "        if type(value) == str:\n",
    "            dictionary[value] = value.upper()\n",
    "        else:\n",
    "            return(\"All list values must be a string\")\n",
    "    return dictionary\n",
    "\n",
    "lst = [\"a\", \"v\", \"y\", \"z\"]\n",
    "mapping(lst)"
   ]
  },
  {
   "cell_type": "code",
   "execution_count": 38,
   "metadata": {},
   "outputs": [
    {
     "name": "stdout",
     "output_type": "stream",
     "text": [
      "A Program to Replace all the Vowels in a String with a Specified Vowel.\n",
      "\n",
      "Enter a string: stuffed jalapeno poppers\n",
      "Enter a vowel to replace the vowels in the string: e\n",
      "\n",
      "Replacing the vowels in stuffed jalapeno poppers with e = steffed jelepene peppers\n"
     ]
    }
   ],
   "source": [
    "\"\"\"Question 4:\n",
    "Write a function, that replaces all vowels in a string \n",
    "with a specified vowel.\n",
    "Examples\n",
    "vow_replace(\"apples and bananas\", \"u\") ➞ \"upplus und bununus\"\n",
    "\n",
    "vow_replace(\"cheese casserole\", \"o\") ➞ \"chooso cossorolo\"\n",
    "\n",
    "vow_replace(\"stuffed jalapeno poppers\", \"e\") ➞ \"steffed jelepene peppers\"\n",
    "Notes\n",
    "All words will be lowercase. Y is not considered a vowel.\n",
    "\"\"\"\n",
    "def vow_replace(string, vowel):\n",
    "    \"\"\"\n",
    "    \n",
    "    Replaces all the vowels in a string with a specified\n",
    "    vowel.\n",
    "    \n",
    "    \"\"\"\n",
    "    new_string = string\n",
    "    vowels = [\"a\", \"e\", \"i\", \"o\", \"u\"]\n",
    "    for letter in new_string:\n",
    "        if letter == vowel:     # if letter has already been replaced\n",
    "            continue\n",
    "        else:\n",
    "            if letter in vowels:\n",
    "                new_string = new_string.replace(letter, vowel)\n",
    "    return new_string\n",
    "\n",
    "\n",
    "print(\"A Program to Replace all the Vowels in a String with a Specified Vowel.\")\n",
    "print()\n",
    "\n",
    "user_input = input(\"Enter a string: \")\n",
    "vowel = input(\"Enter a vowel to replace the vowels in the string: \")\n",
    "\n",
    "print()\n",
    "print(f\"Replacing the vowels in {user_input} with {vowel} = {vow_replace(user_input, vowel)}\")"
   ]
  },
  {
   "cell_type": "code",
   "execution_count": 47,
   "metadata": {},
   "outputs": [
    {
     "name": "stdout",
     "output_type": "stream",
     "text": [
      "A Program to Capitalize a letter if its ASCII code is even Otherwise Change it to Lower Case if its ASCCI code is odd.\n",
      "\n",
      "Enter a string: THE LITTLE MERMAID\n",
      "\n",
      "ASCII capitalize of string THE LITTLE MERMAID = THe LiTTLe meRmaiD\n"
     ]
    }
   ],
   "source": [
    "\"\"\"Question 5:\n",
    "Create a function that takes a string as input and \n",
    "capitalizes a letter if its ASCII code is even and \n",
    "returns its lower case version if its ASCII code is odd.\n",
    "Examples\n",
    "ascii_capitalize(\"to be or not to be!\") ➞ \"To Be oR NoT To Be!\"\n",
    "\n",
    "ascii_capitalize(\"THE LITTLE MERMAID\") ➞ \"THe LiTTLe meRmaiD\"\n",
    "\n",
    "ascii_capitalize(\"Oh what a beautiful morning.\") ➞ \"oH wHaT a BeauTiFuL moRNiNg.\"\"\"\n",
    "\n",
    "def ascii_capitalize(string):\n",
    "    \"\"\"\n",
    "    \n",
    "    Capitalizes a letter if its ASCII code is even and\n",
    "    returns its lower case version if its ASCII code is \n",
    "    odd.\n",
    "    \n",
    "    \"\"\"\n",
    "    new_string = string\n",
    "    for letter in new_string:\n",
    "        if ord(letter) % 2 == 0 and letter.isalpha():\n",
    "            new_string = new_string.replace(letter, letter.upper())\n",
    "        else:\n",
    "            new_string = new_string.replace(letter, letter.lower())\n",
    "    return new_string\n",
    "\n",
    "\n",
    "print(\"A Program to Capitalize a letter if its ASCII code is even Otherwise Change the letter to Lower Case if its ASCCI code is odd.\")\n",
    "print()\n",
    "\n",
    "user_input = input(\"Enter a string: \")\n",
    "\n",
    "print()\n",
    "print(f\"ASCII capitalize of string {user_input} = {ascii_capitalize(user_input)}\")"
   ]
  }
 ],
 "metadata": {
  "kernelspec": {
   "display_name": "Python 3 (ipykernel)",
   "language": "python",
   "name": "python3"
  },
  "language_info": {
   "codemirror_mode": {
    "name": "ipython",
    "version": 3
   },
   "file_extension": ".py",
   "mimetype": "text/x-python",
   "name": "python",
   "nbconvert_exporter": "python",
   "pygments_lexer": "ipython3",
   "version": "3.7.6"
  }
 },
 "nbformat": 4,
 "nbformat_minor": 4
}
