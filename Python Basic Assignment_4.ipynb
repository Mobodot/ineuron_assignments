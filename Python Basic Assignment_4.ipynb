{
 "cells": [
  {
   "cell_type": "raw",
   "metadata": {},
   "source": [
    "\"\"\"Question 1: What exactly is []?\"\"\"\n",
    "\n",
    "Answer:\n",
    "\n",
    "This is an iterable collection in python called \"list\"."
   ]
  },
  {
   "cell_type": "raw",
   "metadata": {},
   "source": [
    "\"\"\"Question 2: In a list of values stored in a variable called spam, how would you assign the value 'hello' as the third value? (Assume [2, 4, 6, 8, 10] are in spam.)\"\"\"\n",
    "\n",
    "Answer:\n",
    "\n",
    "spam[2] = \"hello\""
   ]
  },
  {
   "cell_type": "raw",
   "metadata": {},
   "source": [
    "\"\"\"Question 3: Let's pretend the spam includes the list ['a', 'b', 'c', 'd'] for the next three queries.\n",
    "What is the value of spam[int(int('3' * 2) / 11)]?\n",
    "\"\"\"\n",
    "\n",
    "Answer:\n",
    "\n",
    "ans = \"d\""
   ]
  },
  {
   "cell_type": "raw",
   "metadata": {},
   "source": [
    "\"\"\"Question 4: What is the value of spam[-1]?\"\"\"\n",
    "\n",
    "Answer:\n",
    "\n",
    "ans = \"d\""
   ]
  },
  {
   "cell_type": "raw",
   "metadata": {},
   "source": [
    "\"\"\"Question 5: What is the value of spam[:2]?\"\"\"\n",
    "\n",
    "Answer:\n",
    "\n",
    "ans = [\"a\",\"b\"]"
   ]
  },
  {
   "cell_type": "raw",
   "metadata": {},
   "source": [
    "\"\"\"Question 6: Let's pretend bacon has the list [3.14, 'cat,' 11, 'cat,' True] for the next three questions.\n",
    "6. What is the value of bacon.index('cat')?\n",
    "\"\"\"\n",
    "\n",
    "Answer: \n",
    "\n",
    "ans = 1"
   ]
  },
  {
   "cell_type": "raw",
   "metadata": {},
   "source": [
    "\"\"\"Question 7: ow does bacon.append(99) change the look of the list value in bacon?\"\"\"\n",
    "\n",
    "Answer: \n",
    "\n",
    "It adds the value 99 to the end of the list therefore making the list to look as so: [3.14, 'cat,' 11, 'cat,' True, 99]"
   ]
  },
  {
   "cell_type": "raw",
   "metadata": {},
   "source": [
    "\"\"\"Question 8: How does bacon.remove('cat') change the look of the list in bacon?\"\"\"\n",
    "\n",
    "Answer: \n",
    "\n",
    "It removes the string \"cat\" from the list therefore making the list look like this: [3.14, 11, 'cat,' True, 99]"
   ]
  },
  {
   "cell_type": "raw",
   "metadata": {},
   "source": [
    "\"\"\"Question 9: What are the list concatenation and list replication operators?\"\"\"\n",
    "\n",
    "Answer:\n",
    "\n",
    "Concatenation operator: \"+\"\n",
    "replication operator: \"*\""
   ]
  },
  {
   "cell_type": "raw",
   "metadata": {},
   "source": [
    "\"\"\"Question 10: What is difference between the list methods append() and insert()?\"\"\"\n",
    "\n",
    "Answer:\n",
    "\n",
    "The append() method adds an element only at the last position on the list which is the end of the list.\n",
    "\n",
    "While the insert() method adds an element to any position specified by the user."
   ]
  },
  {
   "cell_type": "raw",
   "metadata": {},
   "source": [
    "\"\"\"Question 11: What are the two methods for removing items from a list?\"\"\"\n",
    "\n",
    "Answer:\n",
    "\n",
    "list_object.pop()\n",
    "list_object.remove()"
   ]
  },
  {
   "cell_type": "raw",
   "metadata": {},
   "source": [
    "\"\"\"Question 12:  Describe how list values and string values are identical.\"\"\"\n",
    "\n",
    "Answer:\n",
    "\n",
    "List and string values are identical because the both make use of indexes when trying to refer to an element."
   ]
  },
  {
   "cell_type": "raw",
   "metadata": {},
   "source": [
    "\"\"\"Question 13: What's the difference between tuples and lists?\"\"\"\n",
    "\n",
    "Answer:\n",
    "\n",
    "Tuples are immutable objects. That means changes can not be made to a particular element/object in a tuple.\n",
    "\n",
    "Whereas, a list is a mutable object. That means changes can be made to a particular element/object contained in a tuple."
   ]
  },
  {
   "cell_type": "raw",
   "metadata": {},
   "source": [
    "\"\"\"Question 14: How do you type a tuple value that only contains the integer 42?\"\"\"\n",
    "\n",
    "Answer: \n",
    "\n",
    "(42,)"
   ]
  },
  {
   "cell_type": "raw",
   "metadata": {},
   "source": [
    "\"\"\"Question 15: How do you get a list value's tuple form? How do you get a tuple value's list form?\"\"\"\n",
    "\n",
    "Answer: \n",
    "\n",
    "list value's tuple form ---> tuple(list_object[index])\n",
    "tuple value's list form ---> list(tuple_object[index])"
   ]
  },
  {
   "cell_type": "raw",
   "metadata": {},
   "source": [
    "\"\"\"Question 16: Variables that \"contain\" list values are not necessarily lists themselves. Instead, what do they contain?\"\"\"\n",
    "\n",
    "Answer: \n",
    "\n",
    "Tuples"
   ]
  },
  {
   "cell_type": "raw",
   "metadata": {},
   "source": [
    "\"\"\"Question 17: How do you distinguish between copy.copy() and copy.deepcopy()?\"\"\"\n",
    "\n",
    "Answer:\n",
    "\n",
    "copy.copy() creates a new list which is a copy of the old list but this new list still holds references to the original list. Therefore, changes made to the new list would affect the original list\n",
    "\n",
    "copy.deepcopy() creates a new list which is a copy of the old list, but this new list does not hold references to the old list. Therefore changes made on the new list would not affect the original list."
   ]
  }
 ],
 "metadata": {
  "kernelspec": {
   "display_name": "Python 3 (ipykernel)",
   "language": "python",
   "name": "python3"
  },
  "language_info": {
   "codemirror_mode": {
    "name": "ipython",
    "version": 3
   },
   "file_extension": ".py",
   "mimetype": "text/x-python",
   "name": "python",
   "nbconvert_exporter": "python",
   "pygments_lexer": "ipython3",
   "version": "3.7.6"
  }
 },
 "nbformat": 4,
 "nbformat_minor": 4
}
