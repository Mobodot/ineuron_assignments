{
 "cells": [
  {
   "cell_type": "code",
   "execution_count": 5,
   "metadata": {},
   "outputs": [
    {
     "data": {
      "text/plain": [
       "[1, 2, 123]"
      ]
     },
     "execution_count": 5,
     "metadata": {},
     "output_type": "execute_result"
    }
   ],
   "source": [
    "\"\"\"Question 1: \n",
    "Create a function that takes a list of non-negative \n",
    "integers and strings and return a new list without the \n",
    "strings.\n",
    "\n",
    "Examples\n",
    "filter_list([1, 2, \"a\", \"b\"]) ➞ [1, 2]\n",
    "\n",
    "filter_list([1, \"a\", \"b\", 0, 15]) ➞ [1, 0, 15]\n",
    "\n",
    "filter_list([1, 2, \"aasf\", \"1\", \"123\", 123]) ➞ [1, 2, 123]\"\"\"\n",
    "\n",
    "def filter_list(lst):\n",
    "    \"\"\"\n",
    "    \n",
    "    lst: string and int values\n",
    "    Return a list with only non-negative integer values\n",
    "    \n",
    "    \"\"\"\n",
    "    return [value for value in lst if type(value) == int and value >= 0]\n",
    "\n",
    "lst = [1, 2, \"aasf\", \"1\", \"123\", 123]\n",
    "filter_list(lst)"
   ]
  },
  {
   "cell_type": "code",
   "execution_count": 41,
   "metadata": {},
   "outputs": [
    {
     "name": "stdout",
     "output_type": "stream",
     "text": [
      "A Program to Reverse a String with the Opposite Case.\n",
      "\n",
      "Enter a string: Hello World\n",
      "\n",
      "Reversed String of Hello World  = DLROw OLLEh\n"
     ]
    }
   ],
   "source": [
    "\"\"\"Question 2: \n",
    "The \"Reverser\" takes a string as input and returns that\n",
    "string in reverse order, with the opposite case.\n",
    "Examples\n",
    "reverse(\"Hello World\") ➞ \"DLROw OLLEh\"\n",
    "\n",
    "reverse(\"ReVeRsE\") ➞ \"eSrEvEr\"\n",
    "\n",
    "reverse(\"Radar\") ➞ \"RADAr\n",
    "\"\"\"\n",
    "\n",
    "def reverse(string):\n",
    "    \"\"\"\n",
    "    \n",
    "    Returns a the reverse order of a string, with the\n",
    "    opposite case.\n",
    "    \n",
    "    \"\"\"\n",
    "    return string[::-1].swapcase()\n",
    "\n",
    "\n",
    "print(\"A Program to Reverse a String with the Opposite Case.\")\n",
    "print()\n",
    "\n",
    "user_input = input(\"Enter a string: \")\n",
    "print()\n",
    "print(f\"Reversed String of {user_input}  = {reverse(user_input)}\")\n",
    "        "
   ]
  },
  {
   "cell_type": "code",
   "execution_count": 14,
   "metadata": {},
   "outputs": [
    {
     "data": {
      "text/plain": [
       "(1, [2, 3, 4, 5], 6)"
      ]
     },
     "execution_count": 14,
     "metadata": {},
     "output_type": "execute_result"
    }
   ],
   "source": [
    "\"\"\"Question 3: \n",
    "You can assign variables from lists like this:\n",
    "lst = [1, 2, 3, 4, 5, 6]\n",
    "first = lst[0]\n",
    "middle = lst[1:-1]\n",
    "last = lst[-1]\n",
    "\n",
    "print(first) ➞ outputs 1\n",
    "print(middle) ➞ outputs [2, 3, 4, 5]\n",
    "print(last) ➞ outputs 6\n",
    "\n",
    "With Python 3, you can assign variables from lists in a\n",
    "much more succinct way. Create variables first, middle \n",
    "and last from the given list using destructuring \n",
    "assignment (check the Resources tab for some examples),\n",
    "where:\n",
    "\n",
    "first  ➞ 1\n",
    "\n",
    "middle ➞ [2, 3, 4, 5]\n",
    "\n",
    "last ➞ 6\n",
    "\n",
    "Your task is to unpack the list writeyourcodehere into \n",
    "three variables, being first, middle, and last, with \n",
    "middle being everything in between the first and last \n",
    "element. Then print all three variables.\"\"\"\n",
    "\n",
    "def writeyourcodehere(lst):\n",
    "    \"\"\"\n",
    "    \n",
    "    Returns a tuple which contains the first, middle and\n",
    "    last element in a list.\n",
    "    \n",
    "    \"\"\"\n",
    "    first = lst[0]\n",
    "    middle = lst[1:-1]\n",
    "    last = lst[-1]\n",
    "    \n",
    "    return first, middle, last\n",
    "\n",
    "\n",
    "lst = [1, 2, 3, 4, 5, 6]\n",
    "writeyourcodehere(lst)"
   ]
  },
  {
   "cell_type": "code",
   "execution_count": 15,
   "metadata": {},
   "outputs": [
    {
     "name": "stdout",
     "output_type": "stream",
     "text": [
      "A Program to Find the Factorial of a Number.\n",
      "\n",
      "Enter a number: 3\n",
      "Factorial of 3  = 6\n"
     ]
    }
   ],
   "source": [
    "\"\"\"Question 4: \n",
    "Write a function that calculates the factorial of a \n",
    "number recursively.\n",
    "Examples\n",
    "factorial(5) ➞ 120\n",
    "\n",
    "factorial(3) ➞ 6\n",
    "\n",
    "factorial(1) ➞ 1\n",
    "\n",
    "factorial(0) ➞ 1\"\"\"\n",
    "\n",
    "def factorial(number):\n",
    "    if number < 0:\n",
    "        return -1\n",
    "    elif number == 0:\n",
    "        return 1\n",
    "    else:\n",
    "        return number * factorial(number - 1)\n",
    "\n",
    "print(\"A Program to Find the Factorial of a Number.\")\n",
    "\n",
    "while True:\n",
    "    try:\n",
    "        print()\n",
    "        user_input = int(input(\"Enter a number: \"))\n",
    "    except Exception as e:\n",
    "        print(\"Invalid input! \")\n",
    "    else:\n",
    "        print(f\"Factorial of {user_input}  = {factorial(user_input)}\")\n",
    "        break"
   ]
  },
  {
   "cell_type": "code",
   "execution_count": 40,
   "metadata": {},
   "outputs": [
    {
     "data": {
      "text/plain": [
       "[1, 3, 2, 1, 4, 4]"
      ]
     },
     "execution_count": 40,
     "metadata": {},
     "output_type": "execute_result"
    }
   ],
   "source": [
    "\"\"\"Question 5\n",
    "Write a function that moves all elements of one type to\n",
    "the end of the list.\n",
    "Examples\n",
    "move_to_end([1, 3, 2, 4, 4, 1], 1) ➞ [3, 2, 4, 4, 1, 1]\n",
    "# Move all the 1s to the end of the array.\n",
    "\n",
    "move_to_end([7, 8, 9, 1, 2, 3, 4], 9) ➞ [7, 8, 1, 2, 3, 4, 9]\n",
    "\n",
    "move_to_end([\"a\", \"a\", \"a\", \"b\"], \"a\") ➞ [\"b\", \"a\", \"a\", \"a\"]\"\"\"\n",
    "\n",
    "def move_to_end(lst, value):\n",
    "    list_values = list(lst)\n",
    "    count_value = list_values.count(value)\n",
    "    \n",
    "    # remove the given value from the list\n",
    "    for i in range(count_value):\n",
    "        list_values.pop(list_values.index(value))\n",
    "        \n",
    "    # add the value to the end of the list\n",
    "    for i in range(count_value):\n",
    "        list_values.append(value)\n",
    "        \n",
    "    return list_values\n",
    "\n",
    "x = [1, 3, 2, 4, 4, 1]\n",
    "value = 4\n",
    "move_to_end(x, value)"
   ]
  },
  {
   "cell_type": "code",
   "execution_count": null,
   "metadata": {},
   "outputs": [],
   "source": []
  }
 ],
 "metadata": {
  "kernelspec": {
   "display_name": "Python 3 (ipykernel)",
   "language": "python",
   "name": "python3"
  },
  "language_info": {
   "codemirror_mode": {
    "name": "ipython",
    "version": 3
   },
   "file_extension": ".py",
   "mimetype": "text/x-python",
   "name": "python",
   "nbconvert_exporter": "python",
   "pygments_lexer": "ipython3",
   "version": "3.7.6"
  }
 },
 "nbformat": 4,
 "nbformat_minor": 4
}
