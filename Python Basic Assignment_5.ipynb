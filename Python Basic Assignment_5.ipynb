{
 "cells": [
  {
   "cell_type": "raw",
   "metadata": {},
   "source": [
    "\"\"\"Question 1: What does an empty dictionary's code look like?\"\"\"\n",
    "\n",
    "Answer:\n",
    "\n",
    "{}"
   ]
  },
  {
   "cell_type": "raw",
   "metadata": {},
   "source": [
    "\"\"\"Question 2: What is the value of a dictionary value with the key 'foo' and the value 42?\"\"\"\n",
    "\n",
    "Answer:\n",
    "\n",
    "Value of the dictionary is 42"
   ]
  },
  {
   "cell_type": "raw",
   "metadata": {},
   "source": [
    "\"\"\"Question 3: What is the most significant distinction between a dictionary and a list?\"\"\"\n",
    "\n",
    "Answer:\n",
    "\n",
    "A dictionary is a collection which holds data in key value pairs. The keys in a dictionary must be unique. And, access to a value is done using keys.\n",
    "\n",
    "While a list is a collection which holds any type type of data and access to any element is done using indexes."
   ]
  },
  {
   "cell_type": "raw",
   "metadata": {},
   "source": [
    "\"\"\"Question 4: What happens if you try to access spam['foo'] if spam is {'bar': 100}?\"\"\"\n",
    "\n",
    "Answer:\n",
    "\n",
    "It would display KeyError"
   ]
  },
  {
   "cell_type": "raw",
   "metadata": {},
   "source": [
    "\"\"\"Question 5: If a dictionary is stored in spam, what is the difference between the expressions 'cat' in spam and 'cat' in spam.keys()?\"\"\"\n",
    "\n",
    "Answer: \n",
    "\n",
    "No difference. They both check to see if \"cat\" is a key in the spam dictionary.\n"
   ]
  },
  {
   "cell_type": "raw",
   "metadata": {},
   "source": [
    "\"\"\"Question 6: If a dictionary is stored in spam, what is the difference between the expressions 'cat' in spam and 'cat' in spam.values()?\"\"\"\n",
    "\n",
    "Answer:\n",
    "\n",
    "\"cat\" in spam checks to see if \"cat\" is a key in the spam dictionary.\n",
    "\n",
    "\"cat in spam.values() checks to see if \"cat\" is a value in the spam dictionary."
   ]
  },
  {
   "cell_type": "raw",
   "metadata": {},
   "source": [
    "\"\"\"Question 7:  What is a shortcut for the following code?\n",
    "if 'color' not in spam:\n",
    "spam['color'] = 'black'\n",
    "\"\"\"\n",
    "\n",
    "Answer:\n",
    "\n",
    "spam.setdefault(\"color\", \"black\")"
   ]
  },
  {
   "cell_type": "raw",
   "metadata": {},
   "source": [
    "\"\"\"Question 8: 8. How do you \"pretty print\" dictionary values using which module and function?\"\"\"\n",
    "\n",
    "Answer:\n",
    "\n",
    "import pprint\n",
    "pprint.pprint()"
   ]
  }
 ],
 "metadata": {
  "kernelspec": {
   "display_name": "Python 3 (ipykernel)",
   "language": "python",
   "name": "python3"
  },
  "language_info": {
   "codemirror_mode": {
    "name": "ipython",
    "version": 3
   },
   "file_extension": ".py",
   "mimetype": "text/x-python",
   "name": "python",
   "nbconvert_exporter": "python",
   "pygments_lexer": "ipython3",
   "version": "3.7.6"
  }
 },
 "nbformat": 4,
 "nbformat_minor": 4
}
