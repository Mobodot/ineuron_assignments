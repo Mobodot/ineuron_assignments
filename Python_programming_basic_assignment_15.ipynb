{
 "cells": [
  {
   "cell_type": "code",
   "execution_count": 38,
   "metadata": {},
   "outputs": [
    {
     "name": "stdout",
     "output_type": "stream",
     "text": [
      "Values Divisible by 5 and 7.(Using Generators)\n",
      "\n",
      "Enter a number: 100\n",
      "Values divisible by 5 and 7 are: \n",
      "0,35,70,"
     ]
    }
   ],
   "source": [
    "\"\"\"Question 1:\n",
    "Please write a program using generator to print the \n",
    "numbers which can be divisible by 5 and 7 between 0 and n \n",
    "in comma separated form while n is input by console.\n",
    "Example:\n",
    "If the following n is given as input to the program:\n",
    "100\n",
    "Then, the output of the program should be:\n",
    "0,35,70\n",
    "\"\"\"\n",
    "\n",
    "def divisible_by_7_and_5(num):\n",
    "    \"\"\"\n",
    "    \n",
    "    Produces all the numbers divisible by 5 and 7 from\n",
    "    0 to num.\n",
    "    \n",
    "    \"\"\"\n",
    "    for digit in range(num):\n",
    "        if digit % 5 == 0 and digit % 7 == 0:\n",
    "            yield digit\n",
    "    \n",
    "    \n",
    "print(\"Values Divisible by 5 and 7.(Using Generators)\")\n",
    "print()\n",
    "while True:\n",
    "    try:\n",
    "        user_input = int(input(\"Enter a number: \"))\n",
    "        print(\"Values divisible by 5 and 7 are: \")\n",
    "        for number in divisible_by_7_and_5(user_input):\n",
    "            print(number, end=\",\")\n",
    "    except ValueError as e:\n",
    "        print(\"Invalid input! \")\n",
    "    else:\n",
    "        break\n",
    "            "
   ]
  },
  {
   "cell_type": "code",
   "execution_count": 39,
   "metadata": {},
   "outputs": [
    {
     "name": "stdout",
     "output_type": "stream",
     "text": [
      "Even Numbers.(Using Generators)\n",
      "\n",
      "Enter a number: 10\n",
      "Even Values are: \n",
      "0,2,4,6,8,"
     ]
    }
   ],
   "source": [
    "\"\"\"Question 2:\n",
    "Please write a program using generator to print the \n",
    "even numbers between 0 and n in comma separated form \n",
    "while n is input by console.\n",
    "Example:\n",
    "If the following n is given as input to the program:\n",
    "10\n",
    "Then, the output of the program should be:\n",
    "0,2,4,6,8,10\n",
    "\"\"\"\n",
    "\n",
    "def even_numbers(num):\n",
    "    \"\"\"\n",
    "    \n",
    "    Produces the even numbers from 0 to num.\n",
    "    \n",
    "    \"\"\"\n",
    "    for digit in range(num):\n",
    "        if digit % 2 == 0:\n",
    "            yield digit\n",
    "            \n",
    "\n",
    "print(\"Even Numbers.(Using Generators)\")\n",
    "print()\n",
    "while True:\n",
    "    try:\n",
    "        user_input = int(input(\"Enter a number: \"))\n",
    "        print(\"Even Values are: \")\n",
    "        for number in even_numbers(user_input):\n",
    "            print(number, end=\",\")\n",
    "    except ValueError as e:\n",
    "        print(\"Invalid input! \",e)\n",
    "    except Exception as e:\n",
    "        print(e)\n",
    "    else:\n",
    "        break"
   ]
  },
  {
   "cell_type": "code",
   "execution_count": 3,
   "metadata": {},
   "outputs": [
    {
     "name": "stdout",
     "output_type": "stream",
     "text": [
      "Fibonacci Numbers.(Using Generators)\n",
      "\n",
      "Enter a number: 8\n",
      "Fibonacci Values are: \n"
     ]
    },
    {
     "data": {
      "text/plain": [
       "[0, 1, 1, 2, 3, 5, 8, 13]"
      ]
     },
     "execution_count": 3,
     "metadata": {},
     "output_type": "execute_result"
    }
   ],
   "source": [
    "\"\"\"Question 3:\n",
    "The Fibonacci Sequence is computed based on the \n",
    "following formula:\n",
    "\n",
    "f(n)=0 if n=0\n",
    "f(n)=1 if n=1\n",
    "f(n)=f(n-1)+f(n-2) if n>1\n",
    "\n",
    "Please write a program using list comprehension to \n",
    "print the Fibonacci Sequence in comma separated form \n",
    "with a given n input by console.\n",
    "\n",
    "Example:\n",
    "If the following n is given as input to the program:\n",
    "7\n",
    "\n",
    "Then, the output of the program should be:\n",
    "0,1,1,2,3,5,8,13\n",
    "\"\"\"\n",
    "\n",
    "def fibonacci_utility(n):\n",
    "    \"\"\"\n",
    "    \n",
    "    Produces the values for the fibonacci sequence.\n",
    "    \n",
    "    \"\"\"\n",
    "    a = 0\n",
    "    b = 1\n",
    "    for value in range(n):\n",
    "        yield a\n",
    "        a, b = b, b+a\n",
    "\n",
    "        \n",
    "def fibonacci(n):\n",
    "    \"\"\"\n",
    "    \n",
    "    Creates a list of all the fibonacci numbers in a\n",
    "    given range.\n",
    "    \n",
    "    \"\"\"\n",
    "    return [a for a in fibonacci_utility(n)]    # generate the list using list comp\n",
    "        \n",
    "\n",
    "print(\"Fibonacci Numbers.(Using Generators)\")\n",
    "print()\n",
    "while True:\n",
    "    try:\n",
    "        user_input = int(input(\"Enter a number: \"))\n",
    "        print(\"Fibonacci Values are: \")\n",
    "        fibonacci(user_input)    # produce list of fibonacci numbers\n",
    "    except ValueError as e:\n",
    "        print(\"Invalid input! \",e)\n",
    "    except Exception as e:\n",
    "        print(e)\n",
    "    else:\n",
    "        break\n",
    "\n",
    "fibonacci(8)"
   ]
  },
  {
   "cell_type": "code",
   "execution_count": 10,
   "metadata": {},
   "outputs": [
    {
     "name": "stdout",
     "output_type": "stream",
     "text": [
      "Enter your email_id: fredgmail.com\n",
      "Incorrect Email id\n",
      "Enter your email_id: fred@gmail.com\n",
      "Your Username = fred\n"
     ]
    }
   ],
   "source": [
    "\"\"\"Question 4:\n",
    "Assuming that we have some email addresses in the \n",
    "\"username@companyname.com\" format, please write program\n",
    "to print the user name of a given email address. Both \n",
    "user names and company names are composed of letters \n",
    "only.\n",
    "\n",
    "Example:\n",
    "If the following email address is given as input to the\n",
    "program:\n",
    "john@google.com\n",
    "Then, the output of the program should be:\n",
    "john\n",
    "\"\"\"\n",
    "\n",
    "def username(string):\n",
    "    \"\"\"\n",
    "    \n",
    "    Returns the username from an email. \n",
    "    \n",
    "    \"\"\"\n",
    "    return [name for name in string.split(\"@\")][0]     # gets value before @\n",
    "\n",
    "while True:\n",
    "    try:\n",
    "        user_input = input(\"Enter your email_id: \")\n",
    "        if \"@\" not in user_input:\n",
    "            print(\"Incorrect Email id\")\n",
    "            continue\n",
    "    except Exception as e:\n",
    "        pass\n",
    "    else:\n",
    "        print(f\"Your Username = {username(user_input)}\")\n",
    "        break"
   ]
  },
  {
   "cell_type": "code",
   "execution_count": 25,
   "metadata": {},
   "outputs": [
    {
     "name": "stdout",
     "output_type": "stream",
     "text": [
      "Area of Shape = 0\n",
      "\n",
      "Area of Square = 10\n"
     ]
    }
   ],
   "source": [
    "\"\"\"Question 5:\n",
    "Define a class named Shape and its subclass Square. \n",
    "The Square class has an init function which takes a \n",
    "length as argument. Both classes have a area function \n",
    "which can print the area of the shape where Shape's \n",
    "area is 0 by default.\"\"\"\n",
    "\n",
    "class Shape:\n",
    "    \"\"\"Provides default length of a Shape objec to be 0\"\"\"\n",
    "    \n",
    "    def area(self):\n",
    "        \"\"\"\n",
    "        \n",
    "        Returns the length of Shape\n",
    "        \n",
    "        \"\"\"\n",
    "        self._length = 0\n",
    "        return \"Area of Shape = \" + str(self._length)\n",
    "    \n",
    "\n",
    "class Square(Shape):\n",
    "    \"\"\"Allows you specify length of a Square object.\"\"\"\n",
    "    \n",
    "    def __init__(self, length):\n",
    "        self.length = length\n",
    "        \n",
    "        \n",
    "    def area(self):\n",
    "        \"\"\"\n",
    "        \n",
    "        Returns the area of Square\n",
    "        \n",
    "        \"\"\"\n",
    "        return \"Area of Square = \" + str(self.length)\n",
    "    \n",
    "shape = Shape()\n",
    "print(shape.area())\n",
    "\n",
    "print()\n",
    "\n",
    "square = Square(10)\n",
    "print(square.area())"
   ]
  }
 ],
 "metadata": {
  "kernelspec": {
   "display_name": "Python 3 (ipykernel)",
   "language": "python",
   "name": "python3"
  },
  "language_info": {
   "codemirror_mode": {
    "name": "ipython",
    "version": 3
   },
   "file_extension": ".py",
   "mimetype": "text/x-python",
   "name": "python",
   "nbconvert_exporter": "python",
   "pygments_lexer": "ipython3",
   "version": "3.7.6"
  }
 },
 "nbformat": 4,
 "nbformat_minor": 4
}
