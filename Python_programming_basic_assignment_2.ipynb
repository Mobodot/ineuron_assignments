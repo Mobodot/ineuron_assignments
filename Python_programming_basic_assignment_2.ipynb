{
 "cells": [
  {
   "cell_type": "code",
   "execution_count": 1,
   "metadata": {},
   "outputs": [
    {
     "name": "stdout",
     "output_type": "stream",
     "text": [
      "Kilometer to mile converter: \n",
      "\n",
      "Enter a value(km): 1\n",
      "1km to miles is:  0.621371 mile(s)\n"
     ]
    }
   ],
   "source": [
    "\"\"\"Question 1: Write a Python program to convert kilometers to miles?\"\"\"\n",
    "\n",
    "print(\"Kilometer to mile converter: \")\n",
    "print()\n",
    "\n",
    "km = int(input(\"Enter a value(km): \"))\n",
    "\n",
    "converter = km * 0.621371\n",
    "\n",
    "print(str(km) + \"km\" + \" to miles is: \",  str(converter) + \" mile(s)\")"
   ]
  },
  {
   "cell_type": "code",
   "execution_count": 2,
   "metadata": {},
   "outputs": [
    {
     "name": "stdout",
     "output_type": "stream",
     "text": [
      "Celcius to Fahrenhiet converter\n",
      "\n",
      "Enter a value(Fahrenhiet): 0\n",
      "0celcius to fahrenhiet is: 32.0F\n"
     ]
    }
   ],
   "source": [
    "\"\"\"Question 2: Write a Python program to convert Celsius to Fahrenheit?\"\"\"\n",
    "\n",
    "print(\"Celcius to Fahrenhiet converter\")\n",
    "print()\n",
    "\n",
    "celcius = int(input(\"Enter a value(Fahrenhiet): \"))\n",
    "\n",
    "converter = (9 * celcius)/5 + 32\n",
    "\n",
    "print(str(celcius) + \"celcius\" + \" to fahrenhiet is: \" + str(converter) + \"F\" )"
   ]
  },
  {
   "cell_type": "code",
   "execution_count": 3,
   "metadata": {},
   "outputs": [
    {
     "name": "stdout",
     "output_type": "stream",
     "text": [
      "This calendar only displays the dates in a given month of a specific year\n",
      "\n",
      "Enter year(yy): 2017\n",
      "Enter month(mm): 01\n",
      "\n",
      "    January 2017\n",
      "Mo Tu We Th Fr Sa Su\n",
      "                   1\n",
      " 2  3  4  5  6  7  8\n",
      " 9 10 11 12 13 14 15\n",
      "16 17 18 19 20 21 22\n",
      "23 24 25 26 27 28 29\n",
      "30 31\n",
      "\n"
     ]
    }
   ],
   "source": [
    "\"\"\"Question 3: Write a Python program to display calendar?\"\"\"\n",
    "\n",
    "import calendar\n",
    "\n",
    "print(\"This calendar only displays the dates in a given month of a specific year\")\n",
    "print()\n",
    "\n",
    "year = int(input(\"Enter year(yy): \"))\n",
    "month = int(input(\"Enter month(mm): \"))\n",
    "\n",
    "print()\n",
    "print(calendar.month(year, month))"
   ]
  },
  {
   "cell_type": "code",
   "execution_count": 4,
   "metadata": {},
   "outputs": [
    {
     "name": "stdout",
     "output_type": "stream",
     "text": [
      "Quadratic Equation calculator\n",
      "\n",
      "Enter coefficient of a: 5\n",
      "Enter coefficient of b: 6\n",
      "Enter coefficient of c: 1\n",
      "Answer, values of x are: -0.2 and -1.0 \n"
     ]
    }
   ],
   "source": [
    "\"\"\"Question 4: Write a Python program to solve quadratic equation?\"\"\"\n",
    "\n",
    "import math\n",
    "\n",
    "print(\"Quadratic Equation calculator\")\n",
    "print()\n",
    "\n",
    "a = int(input(\"Enter coefficient of a: \"))\n",
    "b = int(input(\"Enter coefficient of b: \"))\n",
    "c = int(input(\"Enter coefficient of c: \"))\n",
    "\n",
    "\n",
    "calculator = (-b + math.sqrt((b**2 - (4*a*c)))) / (2*a)\n",
    "negative_calculator = (-b - (math.sqrt(b**2 - (4*a*c)))) / (2*a)\n",
    "\n",
    "print(\"Answer, values of x are: {} and {} \".format(calculator, negative_calculator))"
   ]
  },
  {
   "cell_type": "code",
   "execution_count": 5,
   "metadata": {},
   "outputs": [
    {
     "name": "stdout",
     "output_type": "stream",
     "text": [
      "Swapping variables\n",
      "\n",
      "Enter your name: sam\n",
      "Enter your age: 53\n",
      "\n",
      "Your name is name:  53\n",
      "Your age is:  sam\n"
     ]
    }
   ],
   "source": [
    "\"\"\"Question 5: Write a Python program to swap two variables without \n",
    "temp variable\"\"\"\n",
    "\n",
    "print(\"Swapping variables\")\n",
    "print()\n",
    "name = input(\"Enter your name: \")\n",
    "age = int(input(\"Enter your age: \"))\n",
    "\n",
    "name, age = age, name\n",
    "\n",
    "print()\n",
    "print(\"Your name is name: \", name)\n",
    "print(\"Your age is: \", age)"
   ]
  },
  {
   "cell_type": "code",
   "execution_count": null,
   "metadata": {},
   "outputs": [],
   "source": []
  }
 ],
 "metadata": {
  "kernelspec": {
   "display_name": "Python 3 (ipykernel)",
   "language": "python",
   "name": "python3"
  },
  "language_info": {
   "codemirror_mode": {
    "name": "ipython",
    "version": 3
   },
   "file_extension": ".py",
   "mimetype": "text/x-python",
   "name": "python",
   "nbconvert_exporter": "python",
   "pygments_lexer": "ipython3",
   "version": "3.7.6"
  }
 },
 "nbformat": 4,
 "nbformat_minor": 4
}
