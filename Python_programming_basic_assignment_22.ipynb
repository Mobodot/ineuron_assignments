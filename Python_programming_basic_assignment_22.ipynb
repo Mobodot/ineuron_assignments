{
 "cells": [
  {
   "cell_type": "code",
   "execution_count": 30,
   "metadata": {},
   "outputs": [
    {
     "data": {
      "text/plain": [
       "[3, 6, 9]"
      ]
     },
     "execution_count": 30,
     "metadata": {},
     "output_type": "execute_result"
    }
   ],
   "source": [
    "\"\"\"Question 1:\n",
    "Create a function that takes three parameters where:\n",
    "x is the start of the range (inclusive).\n",
    "y is the end of the range (inclusive).\n",
    "n is the divisor to be checked against.\n",
    "Return an ordered list with numbers in the range that are\n",
    "divisible by the third parameter n. Return an empty list \n",
    "if there are no numbers that are divisible by n\n",
    "\n",
    "Examples\n",
    "list_operation(1, 10, 3) ➞ [3, 6, 9]\n",
    "\n",
    "list_operation(7, 9, 2) ➞ [8]\n",
    "\n",
    "list_operation(15, 20, 7) ➞ []\n",
    "\"\"\"\n",
    "\n",
    "def list_operation(x, y, n):\n",
    "    \"\"\"\n",
    "    x: start of the range (inclusive)\n",
    "    y: end of the range (inclusive)\n",
    "    n: the divisor to be checked against\n",
    "    \n",
    "    Returns a list of numbers which are multiple of the\n",
    "    divisor from range start to stop\n",
    "    \n",
    "    \"\"\"       \n",
    "    return [value for value in range(x, y+1) if value % n == 0]\n",
    "\n",
    "x = 1\n",
    "y = 10\n",
    "n = 3\n",
    "list_operation(x, y, n)"
   ]
  },
  {
   "cell_type": "code",
   "execution_count": 6,
   "metadata": {},
   "outputs": [
    {
     "data": {
      "text/plain": [
       "True"
      ]
     },
     "execution_count": 6,
     "metadata": {},
     "output_type": "execute_result"
    }
   ],
   "source": [
    "\"\"\"Question 2:\n",
    "Create a function that takes in two lists and returns \n",
    "True if the second list follows the first list by one \n",
    "element, and False otherwise. In other words, determine\n",
    "if the second list is the first list shifted to the \n",
    "right by 1.\n",
    "\n",
    "Examples\n",
    "simon_says([1, 2], [5, 1]) ➞ True\n",
    "\n",
    "simon_says([1, 2], [5, 5]) ➞ False\n",
    "\n",
    "simon_says([1, 2, 3, 4, 5], [0, 1, 2, 3, 4]) ➞ True\n",
    "\n",
    "simon_says([1, 2, 3, 4, 5], [5, 5, 1, 2, 3]) ➞ False\n",
    "\n",
    "Notes\n",
    "Both input lists will be of the same length, and will \n",
    "have a minimum length of 2.\n",
    "The values of the 0-indexed element in the second list \n",
    "and the n-1th indexed element in the first list do not \n",
    "matter.\n",
    "\"\"\"\n",
    "\n",
    "def simon_says(list_a, list_b):\n",
    "    \"\"\"\n",
    "    \n",
    "    Returns True if the second list follows the first\n",
    "    list by one element, and False otherwise.\n",
    "    \n",
    "    E.g: simon_says([1, 2], [5, 1]) ➞ True\n",
    "\n",
    "        simon_says([1, 2], [5, 5]) ➞ False\n",
    "\n",
    "        simon_says([1, 2, 3, 4, 5], [0, 1, 2, 3, 4]) ➞ True\n",
    "\n",
    "        simon_says([1, 2, 3, 4, 5], [5, 5, 1, 2, 3]) ➞ False\n",
    "    \n",
    "    \"\"\"\n",
    "    if len(list_a) == len(list_b) and len(list_a) >= 2:\n",
    "        return list_a[:-1] == list_b[1:]\n",
    "    \n",
    "simon_says([1, 2, 3, 4, 5], [0, 1, 2, 3, 4])"
   ]
  },
  {
   "cell_type": "code",
   "execution_count": 12,
   "metadata": {},
   "outputs": [
    {
     "data": {
      "text/plain": [
       "'CHLN'"
      ]
     },
     "execution_count": 12,
     "metadata": {},
     "output_type": "execute_result"
    }
   ],
   "source": [
    "\"\"\"Question 3:\n",
    "A group of friends have decided to start a secret \n",
    "society. The name will be the first letter of each of \n",
    "their names, sorted in alphabetical order.\n",
    "Create a function that takes in a list of names and \n",
    "returns the name of the secret society.\n",
    "\n",
    "Examples\n",
    "society_name([\"Adam\", \"Sarah\", \"Malcolm\"]) ➞ \"AMS\"\n",
    "\n",
    "society_name([\"Harry\", \"Newt\", \"Luna\", \"Cho\"]) ➞ \"CHLN\"\n",
    "\n",
    "society_name([\"Phoebe\", \"Chandler\", \"Rachel\", \"Ross\", \"Monica\", \"Joe\n",
    "\"\"\"\n",
    "\n",
    "def society_name(lst):\n",
    "    \"\"\"\n",
    "    lst: list of string characters\n",
    "    \n",
    "    Returns a string which is the first letter of every\n",
    "    string in lst\n",
    "    \n",
    "    \"\"\"\n",
    "    names = []\n",
    "    for name in lst:\n",
    "        if type(name) == str:\n",
    "            names.append(name[0])\n",
    "    \n",
    "    return \"\".join(sorted(names))\n",
    "\n",
    "list_names = [\"Harry\", \"Newt\", \"Luna\", \"Cho\"]\n",
    "society_name(list_names)"
   ]
  },
  {
   "cell_type": "code",
   "execution_count": 19,
   "metadata": {},
   "outputs": [
    {
     "name": "stdout",
     "output_type": "stream",
     "text": [
      "A Program Check if a String is an Isogram or not.\n",
      "\n",
      "Enter a string: Algorism\n",
      "\n",
      "Algorism is an isogram  = True\n"
     ]
    }
   ],
   "source": [
    "\"\"\"Question 4:\n",
    "An isogram is a word that has no duplicate letters. \n",
    "Create a function that takes a string and returns either\n",
    "True or False depending on whether or not it's an \n",
    "\"isogram\".\n",
    "\n",
    "Examples\n",
    "is_isogram(\"Algorism\") ➞ True\n",
    "\n",
    "is_isogram(\"PasSword\") ➞ False\n",
    "# Not case sensitive.\n",
    "\n",
    "is_isogram(\"Consecutive\") ➞ False\n",
    "\n",
    "Notes\n",
    "Ignore letter case (should not be case sensitive).\n",
    "All test cases contain valid one word string\n",
    "\"\"\"\n",
    "\n",
    "def is_isogram(string):\n",
    "    \"\"\"\n",
    "    \n",
    "    Returns True if the letters in the string contains no\n",
    "    duplicates, Otherwise False.\n",
    "    \n",
    "    Examples:\n",
    "    is_isogram(\"Algorism\") ➞ True\n",
    "\n",
    "    is_isogram(\"PasSword\") ➞ False\n",
    "    # Not case sensitive.\n",
    "    \n",
    "    \"\"\"\n",
    "    string_lower = string.lower()\n",
    "    for letter in string_lower:\n",
    "        if string_lower.count(letter) > 1:\n",
    "            return False\n",
    "    return True\n",
    "\n",
    "\n",
    "print(\"A Program Check if a String is an Isogram or not.\")\n",
    "print()\n",
    "\n",
    "user_input = input(\"Enter a string: \")\n",
    "print()\n",
    "print(f\"{user_input} is an isogram  = {is_isogram(user_input)}\")"
   ]
  },
  {
   "cell_type": "code",
   "execution_count": 28,
   "metadata": {},
   "outputs": [
    {
     "name": "stdout",
     "output_type": "stream",
     "text": [
      "A Program Check if a String is Ordered or not.\n",
      "\n",
      "Enter a string: edabit\n",
      "\n",
      "edabit is an Ordered String? = False\n"
     ]
    }
   ],
   "source": [
    "\"\"\"Question 5:\n",
    "Create a function that takes a string and returns True or\n",
    "False, depending on whether the characters are in order \n",
    "or not.\n",
    "Examples\n",
    "is_in_order(\"abc\") ➞ True\n",
    "\n",
    "is_in_order(\"edabit\") ➞ False\n",
    "\n",
    "is_in_order(\"123\") ➞ True\n",
    "\n",
    "is_in_order(\"xyzz\") ➞ True\n",
    "Notes\n",
    "You don't have to handle empty strings.\n",
    "\"\"\"\n",
    "\n",
    "def is_in_order(string):\n",
    "    \"\"\"\n",
    "    \n",
    "    Returns True if the characters are in alphabetical\n",
    "    order, Otherwise return False.\n",
    "    \n",
    "    Examples:\n",
    "    is_in_order(\"abc\") ➞ True\n",
    "\n",
    "    is_in_order(\"edabit\") ➞ False\n",
    "\n",
    "    is_in_order(\"123\") ➞ True\n",
    "\n",
    "    is_in_order(\"xyzz\") ➞ True\n",
    "\n",
    "    \"\"\"\n",
    "    sorted_string = \"\".join(sorted(string))\n",
    "    if string == sorted_string:\n",
    "        return True\n",
    "    else:\n",
    "        return False\n",
    "    \n",
    "\n",
    "print(\"A Program Check if a String is Ordered or not.\")\n",
    "print()\n",
    "\n",
    "user_input = input(\"Enter a string: \")\n",
    "print()\n",
    "print(f\"{user_input} is an Ordered String? = {is_in_order(user_input)}\")"
   ]
  },
  {
   "cell_type": "code",
   "execution_count": null,
   "metadata": {},
   "outputs": [],
   "source": []
  }
 ],
 "metadata": {
  "kernelspec": {
   "display_name": "Python 3 (ipykernel)",
   "language": "python",
   "name": "python3"
  },
  "language_info": {
   "codemirror_mode": {
    "name": "ipython",
    "version": 3
   },
   "file_extension": ".py",
   "mimetype": "text/x-python",
   "name": "python",
   "nbconvert_exporter": "python",
   "pygments_lexer": "ipython3",
   "version": "3.7.6"
  }
 },
 "nbformat": 4,
 "nbformat_minor": 4
}
