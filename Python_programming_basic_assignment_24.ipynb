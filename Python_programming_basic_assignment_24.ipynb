{
 "cells": [
  {
   "cell_type": "code",
   "execution_count": 21,
   "metadata": {},
   "outputs": [
    {
     "name": "stdout",
     "output_type": "stream",
     "text": [
      "A Program Which Returns a list and amplifies all the numbers is divisible by 4.\n",
      "\n",
      "Enter a number: 0\n",
      "Amplififed list of 0 = value must be greater than 0\n"
     ]
    }
   ],
   "source": [
    "\"\"\"Question 1:\n",
    "Create a function that takes an integer and returns a \n",
    "list from 1 to the given number, where:\n",
    "If the number can be divided evenly by 4, amplify it \n",
    "by 10 (i.e. return 10 times the number).\n",
    "If the number cannot be divided evenly by 4, simply \n",
    "return the number.\n",
    "Examples\n",
    "amplify(4) ➞ [1, 2, 3, 40]\n",
    "\n",
    "amplify(3) ➞ [1, 2, 3]\n",
    "\n",
    "amplify(25) ➞ [1, 2, 3, 40, 5, 6, 7, 80, 9, 10, 11, 120, 13, 14, 15, 160, 17, 18, 19, 200, 21, 22, 23, 240, 25]\n",
    "Notes\n",
    "The given integer will always be equal to or greater \n",
    "than 1.\n",
    "Include the number (see example above).\n",
    "To perform this problem with its intended purpose, \n",
    "try doing it with list comprehensions. If that's too \n",
    "difficult, just solve the challenge any way you can.\n",
    "\"\"\"\n",
    "\n",
    "def amplify(number):\n",
    "    \"\"\"\n",
    "    \n",
    "    Returns a list from 1 to (number), where: If the\n",
    "    number is divisible by 4, it multiplies it by 10.\n",
    "    \n",
    "    \"\"\"\n",
    "    l = []\n",
    "    if number >= 1:\n",
    "        for value in range(1, number+1):\n",
    "            if value % 4 == 0:\n",
    "                l.append(value * 10)\n",
    "            else:\n",
    "                l.append(value)\n",
    "        return l\n",
    "    else:\n",
    "        return (\"value must be greater than 0\")\n",
    "print(\"A Program Which Returns a list and amplifies all the numbers is divisible by 4.\")\n",
    "\n",
    "\n",
    "while True:\n",
    "    try:\n",
    "        print()\n",
    "        user_input = int(input(\"Enter a number: \"))\n",
    "    except Exception as e:\n",
    "        print(\"Invalid input! \")\n",
    "    else:\n",
    "        print(f\"Amplififed list of {user_input} = {amplify(user_input)}\")\n",
    "        break"
   ]
  },
  {
   "cell_type": "code",
   "execution_count": 24,
   "metadata": {},
   "outputs": [
    {
     "data": {
      "text/plain": [
       "7"
      ]
     },
     "execution_count": 24,
     "metadata": {},
     "output_type": "execute_result"
    }
   ],
   "source": [
    "\"\"\"Question 2:\n",
    "Create a function that takes a list of numbers and return\n",
    "the number that's unique.\n",
    "Examples\n",
    "unique([3, 3, 3, 7, 3, 3]) ➞ 7\n",
    "\n",
    "unique([0, 0, 0.77, 0, 0]) ➞ 0.77\n",
    "\n",
    "unique([0, 1, 1, 1, 1, 1, 1, 1]) ➞ 0\n",
    "Notes\n",
    "Test cases will always have exactly one unique number \n",
    "while all others are the same.\n",
    "\"\"\"\n",
    "\n",
    "def unique(lst):\n",
    "    \"\"\"\n",
    "    \n",
    "    Returns the unique number in a list\n",
    "    \n",
    "    \"\"\"\n",
    "    for number in lst:\n",
    "        if lst.count(number) == 1:     # if count of a number is 1 then its is the unique number\n",
    "            return number\n",
    "    return \"No unique number present!\"\n",
    "    \n",
    "unique([3, 3, 3, 7, 3, 3])"
   ]
  },
  {
   "cell_type": "code",
   "execution_count": 37,
   "metadata": {},
   "outputs": [
    {
     "name": "stdout",
     "output_type": "stream",
     "text": [
      "Area of circle = 154\n",
      "Perimeter of circle = 44\n"
     ]
    }
   ],
   "source": [
    "\"\"\"Question 3:\n",
    "Your task is to create a Circle constructor that creates \n",
    "a circle with a radius provided by an argument. The \n",
    "circles constructed must have two getters \n",
    "getArea() (PIr^2) and getPerimeter() (2PI*r) which give \n",
    "both respective areas and perimeter (circumference).\n",
    "For help with this class, I have provided you with a \n",
    "Rectangle constructor which you can use as a base example.\n",
    "Examples\n",
    "\n",
    "circy = Circle(11)\n",
    "circy.getArea()\n",
    "\n",
    "# Should return 380.132711084365\n",
    "\n",
    "circy = Circle(4.44)\n",
    "circy.getPerimeter()\n",
    "\n",
    "# Should return 27.897342763877365\n",
    "Notes\n",
    "Round results up to the nearest integer.\n",
    "\n",
    "\"\"\"\n",
    "\n",
    "class Circle:\n",
    "    \n",
    "    _PI = 3.142\n",
    "    \n",
    "    def __init__(self, radius):\n",
    "        self.radius = radius\n",
    "        \n",
    "    def getArea(self):\n",
    "        return round(self._PI * self.radius**2)\n",
    "    \n",
    "    def getPerimeter(self):\n",
    "        return round(2 * self._PI * self.radius)\n",
    "    \n",
    "    \n",
    "\n",
    "c = Circle(7)\n",
    "print(f\"Area of circle = {str(c.getArea())}\")\n",
    "print(f\"Perimeter of circle = {str(c.getPerimeter())}\")"
   ]
  },
  {
   "cell_type": "code",
   "execution_count": 64,
   "metadata": {},
   "outputs": [
    {
     "data": {
      "text/plain": [
       "['Raphael', 'Leonardo', 'Donatello', 'Michelangelo']"
      ]
     },
     "execution_count": 64,
     "metadata": {},
     "output_type": "execute_result"
    }
   ],
   "source": [
    "\"\"\"Question 4:\n",
    "Create a function that takes a list of strings and return\n",
    "a list, sorted from shortest to longest.\n",
    "Examples\n",
    "sort_by_length([\"Google\", \"Apple\", \"Microsoft\"])\n",
    "➞ [\"Apple\", \"Google\", \"Microsoft\"]\n",
    "\n",
    "sort_by_length([\"Leonardo\", \"Michelangelo\", \"Raphael\", \"Donatello\"])\n",
    "➞ [\"Raphael\", \"Leonardo\", \"Donatello\", \"Michelangelo\"]\n",
    "\n",
    "sort_by_length([\"Turing\", \"Einstein\", \"Jung\"])\n",
    "➞ [\"Jung\", \"Turing\", \"Einstein\"]\n",
    "Notes\n",
    "All test cases contain lists with strings of different \n",
    "lengths, so you won't have to deal with multiple strings\n",
    "of the same length.\"\"\"\n",
    "\n",
    "def sort_by_length(lst):\n",
    "    \"\"\"\n",
    "    \n",
    "    Returns a list of strings from shortest to longest\n",
    "    \n",
    "    \"\"\"\n",
    "    sorted_string_length = sorted([len(string) for string in lst])     # sort the length of the strings\n",
    "    \n",
    "    new_list = []\n",
    "    for value in sorted_string_length:\n",
    "        for string in lst:\n",
    "            if len(string) == value:     # arrange the elements in a new list\n",
    "                new_list.append(string)\n",
    "                break\n",
    "    return new_list\n",
    "    \n",
    "lst = [\"Leonardo\", \"Michelangelo\", \"Raphael\", \"Donatello\"]\n",
    "sort_by_length(lst)"
   ]
  },
  {
   "cell_type": "code",
   "execution_count": 72,
   "metadata": {},
   "outputs": [
    {
     "name": "stdout",
     "output_type": "stream",
     "text": [
      "A Program to Check if the given Integers is a Pythagorean Triplet.\n",
      "\n",
      "NB: Program requires three integers\n",
      "Enter value A: 3\n",
      "Enter value B: 4\n",
      "Enter value C: 5\n",
      "Numbers 3, 4, 5 is a Pythagorean Triplet? = True\n"
     ]
    }
   ],
   "source": [
    "\"\"\"Question 5:\n",
    "Create a function that validates whether three given \n",
    "integers form a Pythagorean triplet. The sum of the \n",
    "squares of the two smallest integers must equal the \n",
    "square of the largest number to be validated.\n",
    "\n",
    "Examples\n",
    "is_triplet(3, 4, 5) ➞ True\n",
    "# 3² + 4² = 25\n",
    "# 5² = 25\n",
    "\n",
    "is_triplet(13, 5, 12) ➞ True\n",
    "# 5² + 12² = 169\n",
    "# 13² = 169\n",
    "\n",
    "is_triplet(1, 2, 3) ➞ False\n",
    "# 1² + 2² = 5\n",
    "# 3² = 9\n",
    "Notes\n",
    "Numbers may not be given in a sorted order.\n",
    "\"\"\"\n",
    "\n",
    "def is_triplet(a, b, c):\n",
    "    \"\"\"\n",
    "    \n",
    "    Returns True if the sum of the squares of the two \n",
    "    smallest integers are equal to the square of the \n",
    "    largest integer.\n",
    "    \n",
    "    Examples\n",
    "    is_triplet(3, 4, 5) ➞ True\n",
    "    # 3² + 4² = 25\n",
    "    # 5² = 25\n",
    "\n",
    "    is_triplet(13, 5, 12) ➞ True\n",
    "    # 5² + 12² = 169\n",
    "    # 13² = 169\n",
    "\n",
    "    is_triplet(1, 2, 3) ➞ False\n",
    "    # 1² + 2² = 5\n",
    "    # 3² = 9\n",
    "    \n",
    "    \"\"\"\n",
    "    sorted_numbers = sorted([a, b, c])\n",
    "    if sorted_numbers[0]**2 + sorted_numbers[1]**2 == sorted_numbers[2]**2:\n",
    "        return True\n",
    "    return False\n",
    "\n",
    "print(\"A Program to Check if the given Integers is a Pythagorean Triplet.\")\n",
    "\n",
    "while True:\n",
    "    try:\n",
    "        print()\n",
    "        print(\"NB: Program requires three integers\")\n",
    "        first_input = int(input(\"Enter value A: \"))\n",
    "        second_input = int(input(\"Enter value B: \"))\n",
    "        third_input = int(input(\"Enter value C: \"))\n",
    "    except Exception as e:\n",
    "        print(\"Invalid input! \")\n",
    "    else:\n",
    "        print(f\"Numbers {first_input}, {second_input}, {third_input} is a Pythagorean Triplet? = {is_triplet(first_input, second_input, third_input)}\")\n",
    "        break"
   ]
  },
  {
   "cell_type": "code",
   "execution_count": 44,
   "metadata": {},
   "outputs": [
    {
     "data": {
      "text/plain": [
       "[5, 6, 9]"
      ]
     },
     "execution_count": 44,
     "metadata": {},
     "output_type": "execute_result"
    }
   ],
   "source": [
    "sorted([6,5,9])"
   ]
  },
  {
   "cell_type": "code",
   "execution_count": 50,
   "metadata": {},
   "outputs": [
    {
     "data": {
      "text/plain": [
       "'Microsoft'"
      ]
     },
     "execution_count": 50,
     "metadata": {},
     "output_type": "execute_result"
    }
   ],
   "source": [
    "min([\"Microsoft\"])"
   ]
  },
  {
   "cell_type": "code",
   "execution_count": 54,
   "metadata": {},
   "outputs": [
    {
     "data": {
      "text/plain": [
       "['Einstein', 'Jung', 'Turing']"
      ]
     },
     "execution_count": 54,
     "metadata": {},
     "output_type": "execute_result"
    }
   ],
   "source": [
    "sorted([\"Turing\", \"Einstein\", \"Jung\"])"
   ]
  },
  {
   "cell_type": "code",
   "execution_count": 55,
   "metadata": {},
   "outputs": [
    {
     "data": {
      "text/plain": [
       "[6, 8, 4]"
      ]
     },
     "execution_count": 55,
     "metadata": {},
     "output_type": "execute_result"
    }
   ],
   "source": [
    "sorr([\"Turing\", \"Einstein\", \"Jung\"])"
   ]
  },
  {
   "cell_type": "code",
   "execution_count": 56,
   "metadata": {},
   "outputs": [
    {
     "data": {
      "text/plain": [
       "'jung'"
      ]
     },
     "execution_count": 56,
     "metadata": {},
     "output_type": "execute_result"
    }
   ],
   "source": [
    "min([\"jung\"])"
   ]
  },
  {
   "cell_type": "code",
   "execution_count": 67,
   "metadata": {},
   "outputs": [
    {
     "data": {
      "text/plain": [
       "[1, 2, 3]"
      ]
     },
     "execution_count": 67,
     "metadata": {},
     "output_type": "execute_result"
    }
   ],
   "source": [
    "def num(a,b,c):\n",
    "    sorted_num = sorted([a,b,c])\n",
    "    return sorted_num\n",
    "\n",
    "num(3,1,2)"
   ]
  },
  {
   "cell_type": "code",
   "execution_count": null,
   "metadata": {},
   "outputs": [],
   "source": []
  }
 ],
 "metadata": {
  "kernelspec": {
   "display_name": "Python 3 (ipykernel)",
   "language": "python",
   "name": "python3"
  },
  "language_info": {
   "codemirror_mode": {
    "name": "ipython",
    "version": 3
   },
   "file_extension": ".py",
   "mimetype": "text/x-python",
   "name": "python",
   "nbconvert_exporter": "python",
   "pygments_lexer": "ipython3",
   "version": "3.7.6"
  }
 },
 "nbformat": 4,
 "nbformat_minor": 4
}
