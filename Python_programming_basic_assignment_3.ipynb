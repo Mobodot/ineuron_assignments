{
 "cells": [
  {
   "cell_type": "code",
   "execution_count": 1,
   "metadata": {},
   "outputs": [
    {
     "name": "stdout",
     "output_type": "stream",
     "text": [
      "Positive, Negative or Zero number checker\n",
      "\n",
      "Enter a number: 32\n",
      "32 is a positive number \n"
     ]
    }
   ],
   "source": [
    "\"\"\"Question 1: Write a Python Program to Check if a Number is Positive, \n",
    "Negative or Zero?\"\"\"\n",
    "\n",
    "print(\"Positive, Negative or Zero number checker\")\n",
    "print()\n",
    "\n",
    "number = int(input(\"Enter a number: \"))\n",
    "if number > 0:\n",
    "    print(\"{} is a positive number \".format(number))\n",
    "elif number < 0:\n",
    "    print(\"{} is a negative number \".format(number))\n",
    "else:\n",
    "    print(\"number entered is Zero\")"
   ]
  },
  {
   "cell_type": "code",
   "execution_count": 2,
   "metadata": {},
   "outputs": [
    {
     "name": "stdout",
     "output_type": "stream",
     "text": [
      "Odd or Even number checker\n",
      "\n",
      "Enter a number: 11\n",
      "11 is an odd number \n"
     ]
    }
   ],
   "source": [
    "\"\"\"Question 2: Write a Python Program to Check if a Number is Odd or Even?\"\"\"\n",
    "\n",
    "print(\"Odd or Even number checker\")\n",
    "print()\n",
    "\n",
    "number = int(input(\"Enter a number: \"))\n",
    "if number%2 == 0:\n",
    "    print(\"{} is an even number \".format(number))\n",
    "else:\n",
    "    print(\"{} is an odd number \".format(number))"
   ]
  },
  {
   "cell_type": "code",
   "execution_count": 3,
   "metadata": {},
   "outputs": [
    {
     "name": "stdout",
     "output_type": "stream",
     "text": [
      "Leap Year checker\n",
      "\n",
      "Enter a year: 2005\n",
      "2005 is not a leap year \n"
     ]
    }
   ],
   "source": [
    "\"\"\"Question 3: Write a Python Program to Check Leap Year?\"\"\"\n",
    "\n",
    "print(\"Leap Year checker\")\n",
    "print()\n",
    "\n",
    "year = int(input(\"Enter a year: \"))\n",
    "if year % 4 == 0:\n",
    "    print(\"{} is a leap year \".format(year))\n",
    "else:\n",
    "    print(\"{} is not a leap year \".format(year))"
   ]
  },
  {
   "cell_type": "code",
   "execution_count": 4,
   "metadata": {},
   "outputs": [
    {
     "name": "stdout",
     "output_type": "stream",
     "text": [
      "Prime number checker \n",
      "\n",
      "Enter a number: 17\n",
      "17 is a prime number\n"
     ]
    }
   ],
   "source": [
    "\"\"\"Question 4: Write a Python Program to Check Prime Number?\"\"\"\n",
    "\n",
    "print(\"Prime number checker \")\n",
    "print()\n",
    "\n",
    "number = int(input(\"Enter a number: \"))\n",
    "if number > 1:\n",
    "    for value in range(2, int(number)):\n",
    "        if number % value == 0:\n",
    "            print(\"{} is not a prime number\".format(number))\n",
    "            break\n",
    "    else:\n",
    "        print(\"{} is a prime number\".format(number))\n",
    "else:\n",
    "    print(\"{} must be greater than 1\".format(number))"
   ]
  },
  {
   "cell_type": "code",
   "execution_count": 5,
   "metadata": {},
   "outputs": [
    {
     "name": "stdout",
     "output_type": "stream",
     "text": [
      "Prime numbers within a given range\n",
      "\n",
      "Enter number of start: 2\n",
      "Enter number of stop: 20\n",
      "2 3 5 7 11 13 17 19 "
     ]
    }
   ],
   "source": [
    "\"\"\"Question 5: Write a Python Program to Print all Prime Numbers in an \n",
    "Interval of 1-10000?\"\"\"\n",
    "\n",
    "print(\"Prime numbers within a given range\")\n",
    "print()\n",
    "\n",
    "start_interval = int(input(\"Enter number of start: \"))\n",
    "stop_interval = int(input(\"Enter number of stop: \"))\n",
    "\n",
    "for digit in range(start_interval, stop_interval):\n",
    "    status = True\n",
    "    for value in range(2, digit):\n",
    "        if digit % value == 0:\n",
    "            status = False\n",
    "    if status:\n",
    "        print(digit, end=\" \")"
   ]
  },
  {
   "cell_type": "code",
   "execution_count": null,
   "metadata": {},
   "outputs": [],
   "source": []
  }
 ],
 "metadata": {
  "kernelspec": {
   "display_name": "Python 3 (ipykernel)",
   "language": "python",
   "name": "python3"
  },
  "language_info": {
   "codemirror_mode": {
    "name": "ipython",
    "version": 3
   },
   "file_extension": ".py",
   "mimetype": "text/x-python",
   "name": "python",
   "nbconvert_exporter": "python",
   "pygments_lexer": "ipython3",
   "version": "3.7.6"
  }
 },
 "nbformat": 4,
 "nbformat_minor": 4
}
