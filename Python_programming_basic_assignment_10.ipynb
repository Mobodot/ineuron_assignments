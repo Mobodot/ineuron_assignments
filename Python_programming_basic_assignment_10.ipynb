{
 "cells": [
  {
   "cell_type": "code",
   "execution_count": 48,
   "metadata": {},
   "outputs": [
    {
     "name": "stdout",
     "output_type": "stream",
     "text": [
      "<----- Program to calculate the sum of elements in a list ----->\n",
      "\n",
      "Enter your values seperated by commas: 1,2,3,4,5,6\n",
      "Sum of elements = 21\n"
     ]
    }
   ],
   "source": [
    "\"\"\"Question 1: Write a Python program to find sum of \n",
    "elements in list?\"\"\"\n",
    "\n",
    "def list_sum(lst_values):\n",
    "    \"\"\"\n",
    "    \n",
    "    Returns the sum of numeric values in a list, if all\n",
    "    the values contained in the list are numeric.\n",
    "    \n",
    "    \"\"\"\n",
    "    total = 0\n",
    "    for value in lst_values:\n",
    "        if type(value) == int or type(value) == float:\n",
    "            total += value\n",
    "        else:\n",
    "            return f\"list must contain only numeric values not {type(value)}\"\n",
    "    return total\n",
    "\n",
    "print(\"<----- Program to calculate the sum of elements in a list ----->\")\n",
    "print()\n",
    "\n",
    "user_input = input(\"Enter your values seperated by commas: \")\n",
    "\n",
    "user_values = []\n",
    "splited_user_input = user_input.split(\",\")\n",
    "\n",
    "for value in splited_user_input:\n",
    "    user_values.append(int(value))\n",
    "    \n",
    "print(f\"Sum of elements = {list_sum(user_values)}\")"
   ]
  },
  {
   "cell_type": "code",
   "execution_count": 16,
   "metadata": {},
   "outputs": [
    {
     "name": "stdout",
     "output_type": "stream",
     "text": [
      "Enter your values seperated by commas: 1,2,3,4,5\n",
      "Multiplication of elements in the list = 120\n"
     ]
    }
   ],
   "source": [
    "\"\"\"Question 2: Write a Python program to  Multiply \n",
    "all numbers in the list?\"\"\"\n",
    "\n",
    "def list_multiplication(lst_values):\n",
    "    \"\"\"\n",
    "    \n",
    "    Returns a multiplication of only the integer values\n",
    "    in a list, if the list contains some elements. \n",
    "    \n",
    "    Otherwise, if list is empty returns 0\n",
    "    \n",
    "    \"\"\"\n",
    "    total = 1\n",
    "    if lst_values:    # checks to see if there are elements in the list\n",
    "        for value in lst_values:\n",
    "            if type(value) == int or type(value) == float:\n",
    "                total *= value\n",
    "            else:\n",
    "                return f\"{value} must be numeric\"\n",
    "        return total\n",
    "    return 0\n",
    "\n",
    "user_input = input(\"Enter your values seperated by commas: \")\n",
    "\n",
    "user_values = []\n",
    "splited_user_input = user_input.split(\",\")\n",
    "\n",
    "for value in splited_user_input:\n",
    "    if value.isdigit():\n",
    "        user_values.append(int(value))\n",
    "    else:\n",
    "        user_values.append(value)\n",
    "\n",
    "print(f\"Multiplication of elements in the list = {list_multiplication(user_values)}\")"
   ]
  },
  {
   "cell_type": "code",
   "execution_count": 31,
   "metadata": {},
   "outputs": [
    {
     "name": "stdout",
     "output_type": "stream",
     "text": [
      "Program to find the Smallest Number in a List\n",
      "\n",
      "Enter your values seperated by commas: 1,32,14,234,134,56,13\n",
      "Smallest element in the list = 1\n"
     ]
    }
   ],
   "source": [
    "\"\"\"Question 3: Write a Python program to find smallest \n",
    "number in a list?\"\"\"\n",
    "\n",
    "def smallest(lst_values):\n",
    "    \"\"\"\n",
    "    \n",
    "    Returns the smallest numeric element in a list if all\n",
    "    elements are numeric.\n",
    "    \n",
    "    \"\"\"\n",
    "    if lst_values:    # if list is not empty\n",
    "        least = lst_values[0]\n",
    "        for value in range(len(lst_values)-1):\n",
    "            if least > lst_values[value + 1]:\n",
    "                least = lst_values[value + 1]\n",
    "        return least\n",
    "    return lst_values\n",
    "\n",
    "print(\"Program to find the Smallest Number in a List\")\n",
    "print()\n",
    "user_input = input(\"Enter your values seperated by commas: \")\n",
    "\n",
    "user_values = []\n",
    "splited_user_input = user_input.split(\",\")\n",
    "\n",
    "for value in splited_user_input:\n",
    "    if value.isdigit():\n",
    "        user_values.append(int(value))\n",
    "    else:\n",
    "        user_values.append(value)\n",
    "\n",
    "print(f\"Smallest element in the list = {smallest(user_values)}\")"
   ]
  },
  {
   "cell_type": "code",
   "execution_count": 32,
   "metadata": {},
   "outputs": [
    {
     "name": "stdout",
     "output_type": "stream",
     "text": [
      "Program to find the Largest Number in a List\n",
      "\n",
      "Enter your values seperated by commas: 2341,34,134,34,15,1,342314\n",
      "Largest element in the list = 342314\n"
     ]
    }
   ],
   "source": [
    "\"\"\"Question 4: Write a Python program to find largest \n",
    "number in a list?\"\"\"\n",
    "\n",
    "def largest(lst_values):\n",
    "    \"\"\"\n",
    "    \n",
    "    Returns the largest element in a list if all elements\n",
    "    are numeric.\n",
    "    \n",
    "    \"\"\"\n",
    "    if lst_values:    # if list is not empty\n",
    "        biggest = lst_values[0]\n",
    "        for value in range(len(lst_values)-1):\n",
    "            if biggest < lst_values[value + 1]:\n",
    "                biggest = lst_values[value + 1]\n",
    "        return biggest\n",
    "    return lst_values\n",
    "\n",
    "print(\"Program to find the Largest Number in a List\")\n",
    "print()\n",
    "user_input = input(\"Enter your values seperated by commas: \")\n",
    "\n",
    "user_values = []\n",
    "splited_user_input = user_input.split(\",\")\n",
    "\n",
    "for value in splited_user_input:\n",
    "    if value.isdigit():\n",
    "        user_values.append(int(value))\n",
    "    else:\n",
    "        user_values.append(value)\n",
    "\n",
    "print(f\"Largest element in the list = {largest(user_values)}\")"
   ]
  },
  {
   "cell_type": "code",
   "execution_count": 8,
   "metadata": {},
   "outputs": [
    {
     "name": "stdout",
     "output_type": "stream",
     "text": [
      "Program to find the Second Largest Number\n",
      "\n",
      "Enter your values seperated by commas: 1,34,2,1234,5,32,34,1234\n",
      "Second Largest element in the list = 34\n"
     ]
    }
   ],
   "source": [
    "\"\"\"Question 5: Write a Python program to find second \n",
    "largest number in a list?\"\"\"\n",
    "\n",
    "def second_largest(lst_values):\n",
    "    \"\"\"\n",
    "    \n",
    "    Returns the second largest value in a list if all \n",
    "    values are numeric.\n",
    "    \n",
    "    \"\"\"\n",
    "    distinct_values = set(lst_values)\n",
    "    distinct_sorted_values = sorted(distinct_values, reverse=True)\n",
    "    return list(distinct_sorted_values)[1]\n",
    "    \n",
    "print(\"Program to find the Second Largest Number\")\n",
    "print()\n",
    "user_input = input(\"Enter your values seperated by commas: \")\n",
    "\n",
    "user_values = []\n",
    "splited_user_input = user_input.split(\",\")\n",
    "\n",
    "for value in splited_user_input:\n",
    "    if value.isdigit():\n",
    "        user_values.append(int(value))\n",
    "    else:\n",
    "        user_values.append(value)\n",
    "\n",
    "print(f\"Second Largest element in the list = {second_largest(user_values)}\")"
   ]
  },
  {
   "cell_type": "code",
   "execution_count": 15,
   "metadata": {},
   "outputs": [
    {
     "name": "stdout",
     "output_type": "stream",
     "text": [
      "Program to Find the N Largest elements from a list\n",
      "\n",
      "Enter your values seperated by commas: 231,231,2,34,321,4,3\n",
      "How many biggest elements do you want? 4\n",
      "\n",
      "4 Largest element in the list = [321, 231, 34, 4]\n"
     ]
    }
   ],
   "source": [
    "\"\"\"Question 6: Write a Python program to find N largest \n",
    "elements from a list?\"\"\"\n",
    "\n",
    "def n_largest_elements(lst_values, n):\n",
    "    \"\"\"\n",
    "    n: Number of elements.\n",
    "    \n",
    "    Returns n largest elements in a list in desc order.\n",
    "    e.g = n_largest_elements([3,4,2,3,1], 3) -> [4, 3, 3]\n",
    "    \n",
    "    \"\"\"\n",
    "    distinct_values = set(lst_values)\n",
    "    distinct_sorted_values = sorted(distinct_values, reverse=True)\n",
    "    return list(distinct_sorted_values)[:n]\n",
    "\n",
    "print(\"Program to Find the N Largest elements from a list\")\n",
    "print()\n",
    "\n",
    "user_input = input(\"Enter your values seperated by commas: \")\n",
    "n = int(input(\"How many biggest elements do you want? \"))\n",
    "\n",
    "user_values = []\n",
    "splited_user_input = user_input.split(\",\")\n",
    "\n",
    "for value in splited_user_input:\n",
    "    if value.isdigit():\n",
    "        user_values.append(int(value))\n",
    "    else:\n",
    "        user_values.append(value)\n",
    "\n",
    "print()\n",
    "print(f\"{n} Largest element in the list = {n_largest_elements(user_values, n)}\")"
   ]
  },
  {
   "cell_type": "code",
   "execution_count": 16,
   "metadata": {},
   "outputs": [
    {
     "name": "stdout",
     "output_type": "stream",
     "text": [
      "Program to find the Even Numbers in a List\n",
      "\n",
      "Enter your values seperated by commas: 2,3,4,5,2,1,33,4,2,15\n",
      "Even numbers in the list = [2, 4, 2, 4, 2]\n"
     ]
    }
   ],
   "source": [
    "\"\"\"Question 7: Write a Python program to print even \n",
    "numbers in a list?\"\"\"\n",
    "\n",
    "def even_numbers(lst_values):\n",
    "    \"\"\"\n",
    "    \n",
    "    Returns a list of all the even numbers in a list.\n",
    "    \n",
    "    \"\"\"\n",
    "    return [value for value in lst_values if value % 2 == 0]\n",
    "\n",
    "print(\"Program to find the Even Numbers in a List\")\n",
    "print()\n",
    "user_input = input(\"Enter your values seperated by commas: \")\n",
    "\n",
    "user_values = []\n",
    "splited_user_input = user_input.split(\",\")\n",
    "\n",
    "for value in splited_user_input:\n",
    "    if value.isdigit():\n",
    "        user_values.append(int(value))\n",
    "\n",
    "print(f\"Even numbers in the list = {even_numbers(user_values)}\")"
   ]
  },
  {
   "cell_type": "code",
   "execution_count": 17,
   "metadata": {},
   "outputs": [
    {
     "name": "stdout",
     "output_type": "stream",
     "text": [
      "Program to find the Odd Numbers in a List\n",
      "\n",
      "Enter your values seperated by commas: 1,2,3,421,23,234\n",
      "Odd numbers in the list = [1, 3, 421, 23]\n"
     ]
    }
   ],
   "source": [
    "\"\"\"Question 8: Write a Python program to print odd \n",
    "numbers in a List?\"\"\"\n",
    "\n",
    "def odd_numbers(lst_values):\n",
    "    \"\"\"\n",
    "    \n",
    "    Returns a list of all the odd numbers in a list.\n",
    "    \n",
    "    \"\"\"\n",
    "    return [value for value in lst_values if value % 2 == 1]\n",
    "\n",
    "print(\"Program to find the Odd Numbers in a List\")\n",
    "print()\n",
    "user_input = input(\"Enter your values seperated by commas: \")\n",
    "\n",
    "user_values = []\n",
    "splited_user_input = user_input.split(\",\")\n",
    "\n",
    "for value in splited_user_input:\n",
    "    if value.isdigit():\n",
    "        user_values.append(int(value))\n",
    "\n",
    "print(f\"Odd numbers in the list = {odd_numbers(user_values)}\")"
   ]
  },
  {
   "cell_type": "code",
   "execution_count": 22,
   "metadata": {},
   "outputs": [],
   "source": [
    "\"\"\"Question 9: Write a Python program to Remove empty \n",
    "List from List?\"\"\"\n",
    "\n",
    "def remove_empty_list(lst_values):\n",
    "    \"\"\"\n",
    "    \n",
    "    Removes all the empty lists in a list and return a\n",
    "    new list.\n",
    "    \n",
    "    E.g x = [1,2,3,4, [], [3,4], []] -> [1,2,3,4,[3,4]]\n",
    "    \n",
    "    \"\"\"\n",
    "    for value in lst_values:\n",
    "        if type(value) == list and len(value) == 0:\n",
    "            lst_values.remove(value)\n",
    "    return lst_values\n",
    "\n"
   ]
  },
  {
   "cell_type": "code",
   "execution_count": 23,
   "metadata": {},
   "outputs": [
    {
     "data": {
      "text/plain": [
       "[1, [1, 2, 3], 2, 3, {}, 'sam']"
      ]
     },
     "execution_count": 23,
     "metadata": {},
     "output_type": "execute_result"
    }
   ],
   "source": [
    "remove_empty_list([1, [1,2,3], 2, [],3,{}, [], \"sam\"])"
   ]
  },
  {
   "cell_type": "code",
   "execution_count": 20,
   "metadata": {},
   "outputs": [
    {
     "name": "stdout",
     "output_type": "stream",
     "text": [
      "Program to Clone a List\n",
      "\n",
      "Enter your values seperated by commas: 1,2,3,4,1,23,42,43\n",
      "1,2,3,4,1,23,42,43 clone = [1, 2, 3, 4, 1, 23, 42, 43]\n"
     ]
    }
   ],
   "source": [
    "\"\"\"Question 10: Write a Python program to Cloning or \n",
    "Copying a list\"\"\"\n",
    "\n",
    "def list_copy(lst_values):\n",
    "    \"\"\"\n",
    "    \n",
    "    returns an exact copy of the elementes in a list\n",
    "    \n",
    "    \"\"\"\n",
    "    list_clone = lst_values[::]\n",
    "    return list_clone\n",
    "\n",
    "print(\"Program to Clone a List\")\n",
    "print()\n",
    "user_input = input(\"Enter your values seperated by commas: \")\n",
    "\n",
    "user_values = []\n",
    "splited_user_input = user_input.split(\",\")\n",
    "\n",
    "for value in splited_user_input:\n",
    "    if value.isdigit():\n",
    "        user_values.append(int(value))\n",
    "    else:\n",
    "        user_values.append(value)\n",
    "\n",
    "print(f\"{user_input} clone = {list_copy(user_values)}\")"
   ]
  },
  {
   "cell_type": "code",
   "execution_count": 24,
   "metadata": {},
   "outputs": [
    {
     "name": "stdout",
     "output_type": "stream",
     "text": [
      "Program to Count occurrences of an element in a List\n",
      "\n",
      "Enter your values seperated by commas: 11,2,11,2,3,4,1,3, \"sam\"\n",
      "Number of occurrences of each element = {11: 2, 2: 2, 3: 2, 4: 1, 1: 1, ' \"sam\"': 1}\n"
     ]
    }
   ],
   "source": [
    "\"\"\"Question 11: Write a Python program to Count \n",
    "occurrences of an element in a list?\"\"\"\n",
    "\n",
    "def count(lst_values):\n",
    "    \"\"\"\n",
    "    \n",
    "    Returns a dictionary containing the number of occurences\n",
    "    of each element in a list.\n",
    "    \n",
    "    E.g [1,2,3,1,2] -> {\"1\":2,\n",
    "                        \"2\":2,\n",
    "                        \"3\": 1}\n",
    "    \n",
    "    \"\"\"\n",
    "    count_dict = {}\n",
    "    counter = 1\n",
    "    for value in lst_values:\n",
    "        if value in count_dict:\n",
    "            count_dict[value] = counter + 1\n",
    "        else:\n",
    "            count_dict[value] = counter\n",
    "    return count_dict\n",
    "\n",
    "print(\"Program to Count occurrences of an element in a List\")\n",
    "print()\n",
    "user_input = input(\"Enter your values seperated by commas: \")\n",
    "\n",
    "user_values = []\n",
    "splited_user_input = user_input.split(\",\")\n",
    "\n",
    "for value in splited_user_input:\n",
    "    if value.isdigit():\n",
    "        user_values.append(int(value))\n",
    "    else:\n",
    "        user_values.append(value)\n",
    "\n",
    "print(f\"Number of occurrences of each element = {count(user_values)}\")"
   ]
  }
 ],
 "metadata": {
  "kernelspec": {
   "display_name": "Python 3 (ipykernel)",
   "language": "python",
   "name": "python3"
  },
  "language_info": {
   "codemirror_mode": {
    "name": "ipython",
    "version": 3
   },
   "file_extension": ".py",
   "mimetype": "text/x-python",
   "name": "python",
   "nbconvert_exporter": "python",
   "pygments_lexer": "ipython3",
   "version": "3.7.6"
  }
 },
 "nbformat": 4,
 "nbformat_minor": 4
}
