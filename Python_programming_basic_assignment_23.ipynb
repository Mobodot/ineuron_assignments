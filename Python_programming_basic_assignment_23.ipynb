{
 "cells": [
  {
   "cell_type": "code",
   "execution_count": 3,
   "metadata": {},
   "outputs": [
    {
     "data": {
      "text/plain": [
       "False"
      ]
     },
     "execution_count": 3,
     "metadata": {},
     "output_type": "execute_result"
    }
   ],
   "source": [
    "\"\"\"Question 1:\n",
    "Create a function that takes a number as an argument and \n",
    "returns True or False depending on whether the number is \n",
    "symmetrical or not. A number is symmetrical when it is the\n",
    "same as its reverse.\n",
    "Examples\n",
    "is_symmetrical(7227) ➞ True\n",
    "\n",
    "is_symmetrical(12567) ➞ False\n",
    "\n",
    "is_symmetrical(44444444) ➞ True\n",
    "\n",
    "is_symmetrical(9939) ➞ False\n",
    "\n",
    "is_symmetrical(1112111) ➞ True\n",
    "\"\"\"\n",
    "\n",
    "def is_symmetrical(number):\n",
    "    \"\"\"\n",
    "    \n",
    "    Returns True if a number is the same as its reverse,\n",
    "    Otherwise False.\n",
    "    \n",
    "    \"\"\"\n",
    "    string_number = str(number)\n",
    "    if string_number == string_number[::-1]:\n",
    "        return True\n",
    "    return False\n",
    "\n",
    "number = 9939\n",
    "is_symmetrical(number)"
   ]
  },
  {
   "cell_type": "code",
   "execution_count": 19,
   "metadata": {},
   "outputs": [
    {
     "name": "stdout",
     "output_type": "stream",
     "text": [
      "A Program to Calculate the Product of the Numeric Numbers in a String.\n",
      "\n",
      "Enter a string of numbers separated by a comma and space: 54, 75, 453, 0\n",
      "\n",
      "Product of the numbers in 54, 75, 453, 0 = 0\n"
     ]
    }
   ],
   "source": [
    "\"\"\"Question 2:\n",
    "Given a string of numbers separated by a comma and space,\n",
    "return the product of the numbers.\n",
    "Examples\n",
    "multiply_nums(\"2, 3\") ➞ 6\n",
    "\n",
    "multiply_nums(\"1, 2, 3, 4\") ➞ 24\n",
    "\n",
    "multiply_nums(\"54, 75, 453, 0\") ➞ 0\n",
    "\n",
    "multiply_nums(\"10, -2\") ➞ -20\"\"\"\n",
    "\n",
    "def multiply_nums(string):\n",
    "    \"\"\"\n",
    "    \n",
    "    Returns the product of the numeric numbers in a string.\n",
    "    \n",
    "    \"\"\"\n",
    "    list_numbers = [number.strip() for number in string.split(\",\")]     # list of str numbers\n",
    "    \n",
    "    total = 1\n",
    "    for value in list_numbers:\n",
    "        if value.isnumeric():     \n",
    "            total *= int(value)\n",
    "        else:\n",
    "            return \"Values in the string must be numeric\"\n",
    "        \n",
    "    return total\n",
    "\n",
    "print(\"A Program to Calculate the Product of the Numeric Numbers in a String.\")\n",
    "print()\n",
    "\n",
    "user_input = input(\"Enter a string of numbers separated by a comma and space: \")\n",
    "\n",
    "print()\n",
    "print(f\"Product of the numbers in {user_input} = {multiply_nums(user_input)}\")"
   ]
  },
  {
   "cell_type": "code",
   "execution_count": 23,
   "metadata": {},
   "outputs": [
    {
     "data": {
      "text/plain": [
       "416649"
      ]
     },
     "execution_count": 23,
     "metadata": {},
     "output_type": "execute_result"
    }
   ],
   "source": [
    "\"\"\"Question 3:\n",
    "Create a function that squares every digit of a number.\n",
    "Examples\n",
    "square_digits(9119) ➞ 811181\n",
    "\n",
    "square_digits(2483) ➞ 416649\n",
    "\n",
    "square_digits(3212) ➞ 9414\n",
    "Notes\n",
    "The function receives an integer and must return an \n",
    "integer.\n",
    "\"\"\"\n",
    "\n",
    "def square_digits(number):\n",
    "    \"\"\"\n",
    "    \n",
    "    Return an int value which is gotten by squaring every\n",
    "    digit of a number\n",
    "    \n",
    "    \"\"\"\n",
    "    string_number = str(number)\n",
    "    \n",
    "    squared_numbers = []\n",
    "    for digit in string_number:\n",
    "        squared_numbers.append(str(int(digit)**2))     # square the number the convert to string\n",
    "        \n",
    "    return int(\"\".join(squared_numbers))     # form a single string of digits then convert to string\n",
    "\n",
    "number = 2483\n",
    "square_digits(number)\n",
    "    "
   ]
  },
  {
   "cell_type": "code",
   "execution_count": 29,
   "metadata": {},
   "outputs": [
    {
     "name": "stdout",
     "output_type": "stream",
     "text": [
      "Removing duplicates from [1, 3, 3, 5, 5] =  [1, 3, 5]\n",
      "Removing duplicates from [4, 4, 4, 4] =  [4]\n",
      "Removing duplicates from [5, 7, 8, 9, 10, 15] =  [5, 7, 8, 9, 10, 15]\n",
      "Removing duplicates from [3, 3, 3, 2, 1] =  [3, 2, 1]\n"
     ]
    }
   ],
   "source": [
    "\"\"\"Question 4: Create a function that sorts a list and \n",
    "removes all duplicate items from it.\n",
    "Examples\n",
    "setify([1, 3, 3, 5, 5]) ➞ [1, 3, 5]\n",
    "\n",
    "setify([4, 4, 4, 4]) ➞ [4]\n",
    "\n",
    "setify([5, 7, 8, 9, 10, 15]) ➞ [5, 7, 8, 9, 10, 15]\n",
    "\n",
    "setify([3, 3, 3, 2, 1]) ➞ [1, 2, 3]\"\"\"\n",
    "\n",
    "def setify(lst):\n",
    "    \"\"\"\n",
    "    \n",
    "    Returns a list without duplicate elements.\n",
    "    \n",
    "    \"\"\"\n",
    "    sorted_list = list(lst)\n",
    "    \n",
    "    index = 0\n",
    "    while len(sorted_list) > 1 and index < len(sorted_list)-1:     # loop has to make at most len(lst) - 1 iterations\n",
    "        \n",
    "        # remove next value if current and next value are the same\n",
    "        if sorted_list[index] == sorted_list[index + 1]:\n",
    "            sorted_list.pop(index + 1)\n",
    "            continue\n",
    "        else:\n",
    "            index += 1\n",
    "    return sorted_list\n",
    "\n",
    "lst1 = [1, 3, 3, 5, 5]\n",
    "lst2 = [4, 4, 4, 4]\n",
    "lst3 = [5, 7, 8, 9, 10, 15]\n",
    "lst4 = [3, 3, 3, 2, 1]\n",
    "print(\"Removing duplicates from [1, 3, 3, 5, 5] = \", setify(lst1))\n",
    "print(\"Removing duplicates from [4, 4, 4, 4] = \", setify(lst2))\n",
    "print(\"Removing duplicates from [5, 7, 8, 9, 10, 15] = \", setify(lst3))\n",
    "print(\"Removing duplicates from [3, 3, 3, 2, 1] = \", setify(lst4))"
   ]
  },
  {
   "cell_type": "code",
   "execution_count": 46,
   "metadata": {},
   "outputs": [
    {
     "name": "stdout",
     "output_type": "stream",
     "text": [
      "Mean of 42 = 3.0\n",
      "Mean of 12345 = 3.0\n",
      "Mean of 666 = 6.0\n"
     ]
    }
   ],
   "source": [
    "\"\"\"Question 5:\n",
    "Create a function that returns the mean of all digits.\n",
    "Examples\n",
    "mean(42) ➞ 3\n",
    "\n",
    "mean(12345) ➞ 3\n",
    "\n",
    "mean(666) ➞ 6\n",
    "Notes\n",
    "The mean of all digits is the sum of digits / how many digits there are (e.g. mean of digits in 512 is (5+1+2)/3(number of digits) = 8/3=2).\n",
    "The mean will always be an integer.\n",
    "\"\"\"\n",
    "\n",
    "def mean(number):\n",
    "    \"\"\"\n",
    "    \n",
    "    Returns the mean of all digits in a number.\n",
    "    \n",
    "    \"\"\"\n",
    "    split_string_number = [int(number) for number in str(number)]\n",
    "    \n",
    "    total = 0\n",
    "    for digit in split_string_number:\n",
    "        total += digit\n",
    "        \n",
    "    return total/len(split_string_number)\n",
    "\n",
    "num1 = 42\n",
    "num2 = 12345\n",
    "num3 = 666\n",
    "print(f\"Mean of {num1} = {mean(num1)}\")\n",
    "print(f\"Mean of {num2} = {mean(num2)}\")\n",
    "print(f\"Mean of {num3} = {mean(num3)}\")\n",
    "\n"
   ]
  },
  {
   "cell_type": "code",
   "execution_count": null,
   "metadata": {},
   "outputs": [],
   "source": []
  }
 ],
 "metadata": {
  "kernelspec": {
   "display_name": "Python 3 (ipykernel)",
   "language": "python",
   "name": "python3"
  },
  "language_info": {
   "codemirror_mode": {
    "name": "ipython",
    "version": 3
   },
   "file_extension": ".py",
   "mimetype": "text/x-python",
   "name": "python",
   "nbconvert_exporter": "python",
   "pygments_lexer": "ipython3",
   "version": "3.7.6"
  }
 },
 "nbformat": 4,
 "nbformat_minor": 4
}
