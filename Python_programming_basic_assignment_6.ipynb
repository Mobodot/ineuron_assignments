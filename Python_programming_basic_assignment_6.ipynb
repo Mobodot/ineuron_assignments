{
 "cells": [
  {
   "cell_type": "code",
   "execution_count": 23,
   "metadata": {},
   "outputs": [
    {
     "name": "stdout",
     "output_type": "stream",
     "text": [
      "<-----Fibonacci sequence generator----->\n",
      "Enter the number of sequence to generate: 6\n",
      "\n",
      "Fibonacci series: \n",
      "0 1 1 2 3 5 "
     ]
    }
   ],
   "source": [
    "\"\"\"Question 1: Write a Python Program to Display \n",
    "Fibonacci Sequence Using Recursion?\"\"\"\n",
    "\n",
    "print(\"<-----Fibonacci sequence generator----->\")\n",
    "\n",
    "def fibonacci(number):\n",
    "    if number <= 1:\n",
    "        return number\n",
    "    else:\n",
    "        return (fibonacci(number-1) + fibonacci(number-2))\n",
    "        \n",
    "    \n",
    "number = int(input(\"Enter the number of sequence to generate: \"))\n",
    "if number <= 0:\n",
    "    print(\"Please enter a positive integer\")\n",
    "else:\n",
    "    print(\"\\nFibonacci series: \")\n",
    "    for value in range(number):\n",
    "        print(fibonacci(value), end=\" \")"
   ]
  },
  {
   "cell_type": "code",
   "execution_count": 2,
   "metadata": {},
   "outputs": [
    {
     "name": "stdout",
     "output_type": "stream",
     "text": [
      "<-----Factorial calculator----->\n",
      "Enter a number: 4\n",
      "\n",
      "Factorial of 4 is: 24\n"
     ]
    }
   ],
   "source": [
    "\"\"\"Question 2: Write a Python Program to Find Factorial \n",
    "of Number Using Recursion?\"\"\"\n",
    "\n",
    "print(\"<-----Factorial calculator----->\")\n",
    "number = int(input(\"Enter a number: \"))\n",
    "\n",
    "def fact(number):\n",
    "    if number < 0:\n",
    "        return -1\n",
    "    elif number == 0:\n",
    "        return 1\n",
    "    else:\n",
    "        return number * fact(number-1)\n",
    "\n",
    "print()\n",
    "print(\"Factorial of {} is: {}\".format(number, fact(number)))"
   ]
  },
  {
   "cell_type": "code",
   "execution_count": 3,
   "metadata": {},
   "outputs": [
    {
     "name": "stdout",
     "output_type": "stream",
     "text": [
      "<-----BMI calculator----->\n",
      "\n",
      "Enter your weight(kg): 67\n",
      "Enter your height(m): 5\n",
      "\n",
      "Your Body Mass Index(BMI) is: 2.68\n"
     ]
    }
   ],
   "source": [
    "\"\"\"Question 3: Write a Python Program to calculate your \n",
    "Body Mass Index?\"\"\"\n",
    "\n",
    "print(\"<-----BMI calculator----->\")\n",
    "print()\n",
    "\n",
    "weight = int(input(\"Enter your weight(kg): \"))\n",
    "height = int(input(\"Enter your height(m): \"))\n",
    "\n",
    "def bmi_calculator(weight, height):\n",
    "    return weight/(height**2)\n",
    "\n",
    "print()\n",
    "print(\"Your Body Mass Index(BMI) is: {}\".format(bmi_calculator(weight,height)))"
   ]
  },
  {
   "cell_type": "code",
   "execution_count": 5,
   "metadata": {},
   "outputs": [
    {
     "name": "stdout",
     "output_type": "stream",
     "text": [
      "<-----Natural Logarithm calculator----->\n",
      "Enter a number: 16\n",
      "\n",
      "log 16 = 2.772588722239781 \n"
     ]
    }
   ],
   "source": [
    "\"\"\"Question 4: Write a Python Program to calculate the \n",
    "natural logarithm of any number?\"\"\"\n",
    "\n",
    "import math\n",
    "print(\"<-----Natural Logarithm calculator----->\")\n",
    "\n",
    "number = int(input(\"Enter a number: \"))\n",
    "\n",
    "print()\n",
    "print(\"log {} = {} \".format(number, math.log(number)))"
   ]
  },
  {
   "cell_type": "code",
   "execution_count": 10,
   "metadata": {},
   "outputs": [
    {
     "name": "stdout",
     "output_type": "stream",
     "text": [
      "<-----Sum of Cubes from 1 to n----->\n",
      "\n",
      "Enter a number: 4\n",
      "Sum of Cubes of Natural Numbers from 1 to 4 = 100.0\n"
     ]
    }
   ],
   "source": [
    "\"\"\"Question 5: Write a Python Program for cube sum of \n",
    "first n natural numbers?\"\"\"\n",
    "\n",
    "print(\"<-----Sum of Cubes from 1 to n----->\")\n",
    "print()\n",
    "\n",
    "number = int(input(\"Enter a number: \"))\n",
    "summation = (number**2 * ((number+1)**2))/4\n",
    "\n",
    "print(\"Sum of Cubes of Natural Numbers from 1 to {} = {}\".format(number, summation))"
   ]
  },
  {
   "cell_type": "code",
   "execution_count": null,
   "metadata": {},
   "outputs": [],
   "source": []
  }
 ],
 "metadata": {
  "kernelspec": {
   "display_name": "Python 3 (ipykernel)",
   "language": "python",
   "name": "python3"
  },
  "language_info": {
   "codemirror_mode": {
    "name": "ipython",
    "version": 3
   },
   "file_extension": ".py",
   "mimetype": "text/x-python",
   "name": "python",
   "nbconvert_exporter": "python",
   "pygments_lexer": "ipython3",
   "version": "3.7.6"
  }
 },
 "nbformat": 4,
 "nbformat_minor": 4
}
