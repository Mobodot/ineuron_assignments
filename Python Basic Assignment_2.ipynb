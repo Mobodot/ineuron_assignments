{
 "cells": [
  {
   "cell_type": "raw",
   "metadata": {},
   "source": [
    "Question 1: What are the two values of the Boolean data type? How do you write them?\n",
    "\n",
    "Answer:\n",
    "\n",
    "Values of boolean data type are True and False.\n",
    "\n",
    "They must be written in the form (T)rue and (F)alse."
   ]
  },
  {
   "cell_type": "raw",
   "metadata": {},
   "source": [
    "Question 2: What are the three different types of Boolean operators?\n",
    "\n",
    "Answer:\n",
    "\n",
    "    AND, OR, NOT"
   ]
  },
  {
   "cell_type": "raw",
   "metadata": {},
   "source": [
    "Question 3: Make a list of each Boolean operator's truth tables (i.e. every possible combination of Boolean values for the operator and what it evaluate ).\n",
    "\n",
    "Answer:\n",
    "\n",
    "    AND:\n",
    "    True AND True = True\n",
    "    True AND False = False\n",
    "    False AND True = False\n",
    "    False AND False = False\n",
    "    \n",
    "    OR:\n",
    "    True OR True = True\n",
    "    True OR False = True\n",
    "    False OR True = True\n",
    "    False OR False = False\n",
    "    \n",
    "    NOT:\n",
    "    NOT True = False\n",
    "    NOT False = True\n",
    "       "
   ]
  },
  {
   "cell_type": "raw",
   "metadata": {},
   "source": [
    "Question: 4. What are the values of the following expressions?\n",
    "(5 > 4) and (3 == 5)\n",
    "not (5 > 4)\n",
    "(5 > 4) or (3 == 5)\n",
    "not ((5 > 4) or (3 == 5))\n",
    "(True and True) and (True == False)\n",
    "(not False) or (not True)\n",
    "\n",
    "Answer: \n",
    "(5 > 4) and (3 == 5) = False\n",
    "not (5 > 4) = False\n",
    "(5 > 4) or (3 == 5) = True\n",
    "not ((5 > 4) or (3 == 5)) = False\n",
    "(True and True) and (True == False) = False\n",
    "(not False) or (not True) = True\n",
    "\n"
   ]
  },
  {
   "cell_type": "raw",
   "metadata": {},
   "source": [
    "Question 5: What are the six comparison operators?\n",
    "\n",
    "Answer:\n",
    "\n",
    "greater than (>)\n",
    "less than (<)\n",
    "equal to (==)\n",
    "greater than or equal to (>=)\n",
    "less than or equal to (<=)\n",
    "not equal to (!=)\n"
   ]
  },
  {
   "cell_type": "raw",
   "metadata": {},
   "source": [
    "Question 6: How do you tell the difference between the equal to and assignment operators? Describe a condition and when you would use one.\n",
    "\n",
    "Answer:\n",
    "\n",
    "Equal to is used to compare 2 or more objects or data types to see if they're the same and it returns a boolean value.\n",
    "E.g x = 3\n",
    "    y = 5\n",
    "    type(x) == type(y)\n",
    "\n",
    "While an assignment operator is used to create a variable which references the data it has assigned to."
   ]
  },
  {
   "cell_type": "raw",
   "metadata": {},
   "source": [
    "Question 7:  Identify the three blocks in this code:\n",
    "spam = 0\n",
    "if spam == 10:\n",
    "print('eggs')\n",
    "if spam > 5:\n",
    "print('bacon')\n",
    "else:\n",
    "print('ham')\n",
    "print('spam')\n",
    "print('spam')\n",
    "\n",
    "Answer:\n",
    " Identify the three blocks in this code:\n",
    "spam = 0\n",
    "if spam == 10:\n",
    "    print('eggs')\n",
    "if spam > 5:\n",
    "    print('bacon')\n",
    "else:\n",
    "    print('ham')\n",
    "    print('spam')\n",
    "    print('spam')\n"
   ]
  },
  {
   "cell_type": "code",
   "execution_count": 1,
   "metadata": {},
   "outputs": [
    {
     "name": "stdout",
     "output_type": "stream",
     "text": [
      "1\n",
      "Hello\n"
     ]
    }
   ],
   "source": [
    "# Question 8: Write code that prints Hello if 1 is stored in spam, prints Howdy if 2 is stored in spam, and prints Greetings! if anything else is stored in spam.\n",
    "spam = input()\n",
    "if spam == \"1\":\n",
    "    print(\"Hello\")\n",
    "elif spam == \"2\":\n",
    "    print(\"Howdy\")\n",
    "else:\n",
    "    print(\"Greetings!\")"
   ]
  },
  {
   "cell_type": "raw",
   "metadata": {},
   "source": [
    "Question 9: If your programme is stuck in an endless loop, what keys you’ll press?\n",
    "\n",
    "Answer:\n",
    "\n",
    "Ctrl + c"
   ]
  },
  {
   "cell_type": "raw",
   "metadata": {},
   "source": [
    "Question 10: How can you tell the difference between break and continue?\n",
    "\n",
    "Answer:\n",
    "\n",
    "The break statement jumps out of the immediate loop when the condition has been met.\n",
    "\n",
    "While a continue statement passes control back to the immediate loop without executing the statements below it."
   ]
  },
  {
   "cell_type": "raw",
   "metadata": {},
   "source": [
    "Question 11: In a for loop, what is the difference between range(10), range(0, 10), and range(0, 10, 1)?\n",
    "\n",
    "Answer: \n",
    "\n",
    "There is no difference.\n"
   ]
  },
  {
   "cell_type": "code",
   "execution_count": 2,
   "metadata": {},
   "outputs": [
    {
     "name": "stdout",
     "output_type": "stream",
     "text": [
      "For loop value of i:  0\n",
      "For loop value of i:  1\n",
      "For loop value of i:  2\n",
      "For loop value of i:  3\n",
      "For loop value of i:  4\n",
      "For loop value of i:  5\n",
      "For loop value of i:  6\n",
      "For loop value of i:  7\n",
      "For loop value of i:  8\n",
      "For loop value of i:  9\n",
      "For loop value of i:  10\n",
      "--------------------------------------------\n",
      "while loop value of i:  0\n",
      "while loop value of i:  1\n",
      "while loop value of i:  2\n",
      "while loop value of i:  3\n",
      "while loop value of i:  4\n",
      "while loop value of i:  5\n",
      "while loop value of i:  6\n",
      "while loop value of i:  7\n",
      "while loop value of i:  8\n",
      "while loop value of i:  9\n",
      "while loop value of i:  10\n"
     ]
    }
   ],
   "source": [
    "'''Question 12:  Write a short program that prints the numbers 1 to 10 using a for loop. \n",
    "Then write an equivalent program that prints the numbers 1 to 10 using a while loop.'''\n",
    "\n",
    "# For loop\n",
    "for i in range(11):\n",
    "    print(\"For loop value of i: \", i)\n",
    "\n",
    "print(\"--------------------------------------------\")\n",
    "\n",
    "# While loop\n",
    "i = 0\n",
    "while i <= 10:\n",
    "    print(\"while loop value of i: \", i)\n",
    "    i += 1"
   ]
  },
  {
   "cell_type": "raw",
   "metadata": {},
   "source": [
    "Question 13: If you had a function named bacon() inside a module named spam, how would you call it after importing spam?\n",
    "\n",
    "Answer:\n",
    "spam.bacon()"
   ]
  }
 ],
 "metadata": {
  "kernelspec": {
   "display_name": "Python 3 (ipykernel)",
   "language": "python",
   "name": "python3"
  },
  "language_info": {
   "codemirror_mode": {
    "name": "ipython",
    "version": 3
   },
   "file_extension": ".py",
   "mimetype": "text/x-python",
   "name": "python",
   "nbconvert_exporter": "python",
   "pygments_lexer": "ipython3",
   "version": "3.7.6"
  }
 },
 "nbformat": 4,
 "nbformat_minor": 4
}
