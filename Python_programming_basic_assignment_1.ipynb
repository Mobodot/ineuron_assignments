{
 "cells": [
  {
   "cell_type": "code",
   "execution_count": 60,
   "metadata": {},
   "outputs": [
    {
     "name": "stdout",
     "output_type": "stream",
     "text": [
      "Hello Python\n"
     ]
    }
   ],
   "source": [
    "\"\"\"Question 1: Write a Python program to print \"Hello Python\"?\"\"\"\n",
    "\n",
    "print(\"Hello Python\")"
   ]
  },
  {
   "cell_type": "code",
   "execution_count": 61,
   "metadata": {},
   "outputs": [
    {
     "name": "stdout",
     "output_type": "stream",
     "text": [
      "Enter first number: 4\n",
      "Enter second number: 20\n",
      "\n",
      "Addition of the 2 numbers given is:  24\n",
      "Divison of the 2 numbers given is:  0.2\n"
     ]
    }
   ],
   "source": [
    "\"\"\"Question 2: Write a Python program to do arithmetical \n",
    "operations addition and division\"\"\"\n",
    "\n",
    "first_number = int(input(\"Enter first number: \"))\n",
    "second_number = int(input(\"Enter second number: \"))\n",
    "\n",
    "addition = first_number + second_number\n",
    "division = first_number / second_number\n",
    "\n",
    "print()\n",
    "print(\"Addition of the 2 numbers given is: \", addition)\n",
    "print(\"Divison of the 2 numbers given is: \", division)\n"
   ]
  },
  {
   "cell_type": "code",
   "execution_count": 62,
   "metadata": {},
   "outputs": [
    {
     "name": "stdout",
     "output_type": "stream",
     "text": [
      "To calculate the area of a triangle enter the following paramenters.....\n",
      "\n",
      "Enter base of triangle: 3\n",
      "Enter height of triangle: 5\n",
      "\n",
      "The area of the triangle based on the given parameters is:  7.5\n"
     ]
    }
   ],
   "source": [
    "\"\"\"Question 3: Write a Python program to find the area of \n",
    "a triangle?\"\"\"\n",
    "\n",
    "print(\"To calculate the area of a triangle enter the following paramenters.....\")\n",
    "print()\n",
    "base = int(input(\"Enter base of triangle: \"))\n",
    "height = int(input(\"Enter height of triangle: \"))\n",
    "\n",
    "area = 1/2 * (base*height)\n",
    "\n",
    "print()\n",
    "print(\"The area of the triangle based on the given parameters is: \", area)"
   ]
  },
  {
   "cell_type": "code",
   "execution_count": 1,
   "metadata": {},
   "outputs": [
    {
     "name": "stdout",
     "output_type": "stream",
     "text": [
      "Swapping variables\n",
      "\n",
      "Enter your name: sam\n",
      "Enter your age: 23\n",
      "\n",
      "Your name is name:  23\n",
      "Your age is:  sam\n"
     ]
    }
   ],
   "source": [
    "\"\"\"Question 4: Write a Python program to swap two variables?\"\"\"\n",
    "\n",
    "print(\"Swapping variables\")\n",
    "print()\n",
    "name = input(\"Enter your name: \")\n",
    "age = int(input(\"Enter your age: \"))\n",
    "\n",
    "# temp = name\n",
    "# name = age\n",
    "# age = name\n",
    "\n",
    "name, age = age, name\n",
    "\n",
    "print()\n",
    "print(\"Your name is name: \", name)\n",
    "print(\"Your age is: \", age)"
   ]
  },
  {
   "cell_type": "code",
   "execution_count": 64,
   "metadata": {},
   "outputs": [
    {
     "name": "stdout",
     "output_type": "stream",
     "text": [
      "To generate a random number you've to enter the start and stop points\n",
      "\n",
      "Start point for random number generation: 3\n",
      "Stop point for random number generation: 10\n",
      "\n",
      "Random number generated based on the given range is:  10\n"
     ]
    }
   ],
   "source": [
    "\"Question 5: Write a Python program to generate a random number?\"\n",
    "\n",
    "import random\n",
    "print(\"To generate a random number you've to enter the start and stop points\")\n",
    "print()\n",
    "\n",
    "lower_bound = int(input(\"Start point for random number generation: \"))\n",
    "upper_bound = int(input(\"Stop point for random number generation: \"))\n",
    "\n",
    "random_number = random.randint(lower_bound, upper_bound)\n",
    "\n",
    "print()\n",
    "print(\"Random number generated based on the given range is: \", random_number)"
   ]
  },
  {
   "cell_type": "code",
   "execution_count": null,
   "metadata": {},
   "outputs": [],
   "source": []
  }
 ],
 "metadata": {
  "kernelspec": {
   "display_name": "Python 3 (ipykernel)",
   "language": "python",
   "name": "python3"
  },
  "language_info": {
   "codemirror_mode": {
    "name": "ipython",
    "version": 3
   },
   "file_extension": ".py",
   "mimetype": "text/x-python",
   "name": "python",
   "nbconvert_exporter": "python",
   "pygments_lexer": "ipython3",
   "version": "3.7.6"
  }
 },
 "nbformat": 4,
 "nbformat_minor": 4
}
