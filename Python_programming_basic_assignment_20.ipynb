{
 "cells": [
  {
   "cell_type": "code",
   "execution_count": 1,
   "metadata": {},
   "outputs": [
    {
     "data": {
      "text/plain": [
       "[0, 1729]"
      ]
     },
     "execution_count": 1,
     "metadata": {},
     "output_type": "execute_result"
    }
   ],
   "source": [
    "\"\"\"Question 1:\n",
    "Create a function that takes a list of strings and \n",
    "integers, and filters out the list so that it returns a \n",
    "list of integers only.\n",
    "Examples\n",
    "filter_list([1, 2, 3, \"a\", \"b\", 4]) ➞ [1, 2, 3, 4]\n",
    "\n",
    "filter_list([\"A\", 0, \"Edabit\", 1729, \"Python\", \"1729\"]) ➞ [0, 1729]\n",
    "\n",
    "filter_list([\"Nothing\", \"here\"]) ➞ []\"\"\"\n",
    "\n",
    "def filter_list(lst):\n",
    "    \"\"\"\n",
    "    \n",
    "    lst: string and int values\n",
    "    Return a list with only non-negative integer values\n",
    "    \n",
    "    \"\"\"\n",
    "    return [value for value in lst if type(value) == int]\n",
    "\n",
    "lst = [\"A\", 0, \"Edabit\", 1729, \"Python\", \"1729\"]\n",
    "filter_list(lst)"
   ]
  },
  {
   "cell_type": "code",
   "execution_count": 6,
   "metadata": {},
   "outputs": [
    {
     "data": {
      "text/plain": [
       "[5, 5, 5, 5, 5]"
      ]
     },
     "execution_count": 6,
     "metadata": {},
     "output_type": "execute_result"
    }
   ],
   "source": [
    "\"\"\"Question 2:\n",
    "Given a list of numbers, create a function which returns\n",
    "the list but with each element's index in the list \n",
    "added to itself. This means you add 0 to the number at \n",
    "index 0, add 1 to the number at index 1, etc...\n",
    "Examples\n",
    "add_indexes([0, 0, 0, 0, 0]) ➞ [0, 1, 2, 3, 4]\n",
    "\n",
    "add_indexes([1, 2, 3, 4, 5]) ➞ [1, 3, 5, 7, 9]\n",
    "\n",
    "add_indexes([5, 4, 3, 2, 1]) ➞ [5, 5, 5, 5, 5]\"\"\"\n",
    "\n",
    "def add_indexes(lst):\n",
    "    \"\"\"\n",
    "    \n",
    "    Return a list with each element's index in the list\n",
    "    added to itself.\n",
    "    \n",
    "    \"\"\"\n",
    "\n",
    "    return [index+lst[index] for index in range(len(lst))] \n",
    "\n",
    "lst = [5, 4, 3, 2, 1]\n",
    "add_indexes(lst)"
   ]
  },
  {
   "cell_type": "code",
   "execution_count": 10,
   "metadata": {},
   "outputs": [
    {
     "name": "stdout",
     "output_type": "stream",
     "text": [
      "A Program to Find the Volume of a Cone.\n",
      "\n",
      "Enter height of cone: 3\n",
      "Enter radius of cone: 2\n",
      "Volume of cone with height 3 and radius 2 = 12.57\n"
     ]
    }
   ],
   "source": [
    "\"\"\"Question 3:\n",
    "Create a function that takes the height and radius of a\n",
    "cone as arguments and returns the volume of the cone \n",
    "rounded to the nearest hundredth. See the resources \n",
    "tab for the formula.\n",
    "\n",
    "Examples\n",
    "cone_volume(3, 2) ➞ 12.57\n",
    "\n",
    "cone_volume(15, 6) ➞ 565.49\n",
    "\n",
    "cone_volume(18, 0) ➞ 0\n",
    "\"\"\"\n",
    "\n",
    "def cone_volume(height, radius):\n",
    "    \"\"\"\n",
    "    \n",
    "    height: int value\n",
    "    radius: int value\n",
    "    \n",
    "    Returns the volume of a cone.\n",
    "    \n",
    "    \"\"\"\n",
    "    pi = 3.142\n",
    "    return round(pi * radius**2 * (height/3), 2)     # round to nearest hundredth\n",
    "\n",
    "cone_volume(3,2)\n",
    "\n",
    "print(\"A Program to Find the Volume of a Cone.\")\n",
    "\n",
    "while True:\n",
    "    try:\n",
    "        print()\n",
    "        height = int(input(\"Enter height of cone: \"))\n",
    "        radius = int(input(\"Enter radius of cone: \"))\n",
    "    except Exception as e:\n",
    "        print(\"Invalid input! \")\n",
    "    else:\n",
    "        print(f\"Volume of cone with height {height} and radius {radius} = {cone_volume(height, radius)}\")\n",
    "        break"
   ]
  },
  {
   "cell_type": "code",
   "execution_count": 17,
   "metadata": {},
   "outputs": [
    {
     "name": "stdout",
     "output_type": "stream",
     "text": [
      "A Triangluar Number Sequence Program.\n",
      "\n",
      "Enter a number: 6\n",
      "Number of dots for the Triangular Number Sequence of 6 = 21.0\n"
     ]
    }
   ],
   "source": [
    "\"\"\"Question 4:\n",
    "This Triangular Number Sequence is generated from a \n",
    "pattern of dots that form a triangle. The first 5 numbers\n",
    "of the sequence, or dots, are: \n",
    "1, 3, 6, 10, 15\n",
    "This means that the first triangle has just one dot, the \n",
    "second one has three dots, the third one has 6 dots and \n",
    "so on.\n",
    "Write a function that gives the number of dots with its \n",
    "corresponding triangle number of the sequence.\n",
    "\n",
    "Examples\n",
    "triangle(1) ➞ 1\n",
    "\n",
    "triangle(6) ➞ 21\n",
    "\n",
    "triangle(215) ➞ 23220\"\"\"\n",
    "\n",
    "def triangle(num):\n",
    "    \"\"\"\n",
    "    \n",
    "    Returns the number of dots to create a triangle in a\n",
    "    sequence\n",
    "    \n",
    "    \"\"\"\n",
    "    return num * (num + 1)/ (2)     # sum of numbers from 1 to n\n",
    "\n",
    "\n",
    "print(\"A Triangluar Number Sequence Program.\")\n",
    "\n",
    "while True:\n",
    "    try:\n",
    "        print()\n",
    "        user_input = int(input(\"Enter a number: \"))\n",
    "    except Exception as e:\n",
    "        print(\"Invalid input! \")\n",
    "    else:\n",
    "        print(f\"Number of dots for the Triangular Number Sequence of {user_input} = {triangle(user_input)}\")\n",
    "        break"
   ]
  },
  {
   "cell_type": "code",
   "execution_count": 8,
   "metadata": {},
   "outputs": [
    {
     "data": {
      "text/plain": [
       "7"
      ]
     },
     "execution_count": 8,
     "metadata": {},
     "output_type": "execute_result"
    }
   ],
   "source": [
    "\"\"\"Question 5:\n",
    "Create a function that takes a list of numbers between 1 \n",
    "and 10 (excluding one number) and returns the missing \n",
    "number.\n",
    "Examples\n",
    "missing_num([1, 2, 3, 4, 6, 7, 8, 9, 10]) ➞ 5\n",
    "\n",
    "missing_num([7, 2, 3, 6, 5, 9, 1, 4, 8]) ➞ 10\n",
    "\n",
    "missing_num([10, 5, 1, 2, 4, 6, 8, 3, 9]) ➞ 7\"\"\"\n",
    "\n",
    "def missing_num(lst_values):    \n",
    "    \"\"\"\n",
    "    \n",
    "    Returns the value which is not contained in lst_values\n",
    "    \n",
    "    \"\"\"\n",
    "    for value in range(1, 11):\n",
    "        if value not in lst_values:\n",
    "            return value\n",
    "\n",
    "\n",
    "lst = [10, 5, 1, 2, 4, 6, 8, 3, 9]\n",
    "missing_num(lst)\n",
    "        "
   ]
  },
  {
   "cell_type": "code",
   "execution_count": null,
   "metadata": {},
   "outputs": [],
   "source": []
  }
 ],
 "metadata": {
  "kernelspec": {
   "display_name": "Python 3 (ipykernel)",
   "language": "python",
   "name": "python3"
  },
  "language_info": {
   "codemirror_mode": {
    "name": "ipython",
    "version": 3
   },
   "file_extension": ".py",
   "mimetype": "text/x-python",
   "name": "python",
   "nbconvert_exporter": "python",
   "pygments_lexer": "ipython3",
   "version": "3.7.6"
  }
 },
 "nbformat": 4,
 "nbformat_minor": 4
}
