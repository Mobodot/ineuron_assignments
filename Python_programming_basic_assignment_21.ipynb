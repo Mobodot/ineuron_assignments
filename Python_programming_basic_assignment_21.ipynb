{
 "cells": [
  {
   "cell_type": "code",
   "execution_count": 6,
   "metadata": {},
   "outputs": [
    {
     "data": {
      "text/plain": [
       "[6, 3, 23, 17, 10]"
      ]
     },
     "execution_count": 6,
     "metadata": {},
     "output_type": "execute_result"
    }
   ],
   "source": [
    "\"\"\"Question 1:\n",
    "Write a function that takes a list and a number as \n",
    "arguments. Add the number to the end of the list, then \n",
    "remove the first element of the list. The function should\n",
    "then return the updated list.\n",
    "Examples\n",
    "next_in_line([5, 6, 7, 8, 9], 1) ➞ [6, 7, 8, 9, 1]\n",
    "\n",
    "next_in_line([7, 6, 3, 23, 17], 10) ➞ [6, 3, 23, 17, 10]\n",
    "\n",
    "next_in_line([1, 10, 20, 42 ], 6) ➞ [10, 20, 42, 6]\n",
    "\n",
    "next_in_line([], 6) ➞ \"No list has been selected\"\n",
    "\"\"\"\n",
    "\n",
    "def next_in_line(lst, value):\n",
    "    \"\"\"\n",
    "\n",
    "    Returns a list after removing the first element and\n",
    "    add the new value to the end of the list.\n",
    "    \n",
    "    e.g: next_in_line([5, 6, 7, 8, 9], 1) ➞ [6, 7, 8, 9, 1]\n",
    "    \n",
    "    \"\"\"\n",
    "    new_list = list(lst)\n",
    "    if lst:\n",
    "        new_list.append(value)\n",
    "        new_list.pop(0)\n",
    "        return new_list\n",
    "    else:\n",
    "        return \"No list has been selected\"\n",
    "    \n",
    "lst = [7, 6, 3, 23, 17]\n",
    "value = 10\n",
    "next_in_line(lst, value)"
   ]
  },
  {
   "cell_type": "code",
   "execution_count": 19,
   "metadata": {},
   "outputs": [
    {
     "data": {
      "text/plain": [
       "62600"
      ]
     },
     "execution_count": 19,
     "metadata": {},
     "output_type": "execute_result"
    }
   ],
   "source": [
    "\"\"\"Question 2:\n",
    "Create the function that takes a list of dictionaries \n",
    "and returns the sum of people's budgets.\n",
    "\n",
    "Examples\n",
    "get_budgets([\n",
    "  { \"name\": \"John\", \"age\": 21, \"budget\": 23000 },\n",
    "  { \"name\": \"Steve\",  \"age\": 32, \"budget\": 40000 },\n",
    "  { \"name\": \"Martin\",  \"age\": 16, \"budget\": 2700 }\n",
    "]) ➞ 65700\n",
    "\n",
    "get_budgets([\n",
    "  { \"name\": \"John\",  \"age\": 21, \"budget\": 29000 },\n",
    "  { \"name\": \"Steve\",  \"age\": 32, \"budget\": 32000 },\n",
    "  { \"name\": \"Martin\",  \"age\": 16, \"budget\": 1600 }\n",
    "]) ➞ 62600\"\"\"\n",
    "\n",
    "def get_budget(lst_of_dict):\n",
    "    \"\"\"\n",
    "    \n",
    "    Takes a list of dictionaries and returns the sum of\n",
    "    all the budgets.\n",
    "    \n",
    "    \"\"\"\n",
    "    total = 0\n",
    "    for dictionary in lst_of_dict:\n",
    "        if type(dictionary[\"budget\"]) == int or type(dictionary[\"budget\"]) == float:\n",
    "            total += dictionary[\"budget\"]\n",
    "        else:\n",
    "            return \"Value for budget must be numeric\"\n",
    "    return total\n",
    "\n",
    "\n",
    "lst_of_dict = [\n",
    "  { \"name\": \"John\",  \"age\": 21, \"budget\": 29000 },\n",
    "  { \"name\": \"Steve\",  \"age\": 32, \"budget\": 32000 },\n",
    "  { \"name\": \"Martin\",  \"age\": 16, \"budget\": 1600 }\n",
    "]\n",
    "get_budget(lst_of_dict)"
   ]
  },
  {
   "cell_type": "code",
   "execution_count": 23,
   "metadata": {},
   "outputs": [
    {
     "name": "stdout",
     "output_type": "stream",
     "text": [
      "A Program which Returns a string in alphabetical order\n",
      "\n",
      "Enter a string: hello\n",
      "\n",
      "Alphabetical order of hello  = ehllo\n"
     ]
    }
   ],
   "source": [
    "\"\"\"Question 3:\n",
    "Create a function that takes a string and returns a \n",
    "string with its letters in alphabetical order.\n",
    "\n",
    "Examples\n",
    "alphabet_soup(\"hello\") ➞ \"ehllo\"\n",
    "\n",
    "alphabet_soup(\"edabit\") ➞ \"abdeit\"\n",
    "\n",
    "alphabet_soup(\"hacker\") ➞ \"acehkr\"\n",
    "\n",
    "alphabet_soup(\"geek\") ➞ \"eegk\"\n",
    "\n",
    "alphabet_soup(\"javascript\") ➞ \"aacijprstv\"\"\"\n",
    "\n",
    "def alphabet_soup(string):\n",
    "    \"\"\"\n",
    "    \n",
    "    Returns a string with its letters in alphabetical \n",
    "    order.\n",
    "    \n",
    "    e.g: alphabet_soup(\"hello\") ➞ \"ehllo\"\n",
    "    \n",
    "    \"\"\"\n",
    "    new_string = sorted(string)\n",
    "    return \"\".join(new_string)\n",
    "\n",
    "alphabet_soup(\"hello\")\n",
    "\n",
    "print(\"A Program which Returns a string in alphabetical order\")\n",
    "print()\n",
    "\n",
    "user_input = input(\"Enter a string: \")\n",
    "print()\n",
    "print(f\"Alphabetical order of {user_input}  = {alphabet_soup(user_input)}\")"
   ]
  },
  {
   "cell_type": "code",
   "execution_count": 40,
   "metadata": {},
   "outputs": [
    {
     "data": {
      "text/plain": [
       "105.0"
      ]
     },
     "execution_count": 40,
     "metadata": {},
     "output_type": "execute_result"
    }
   ],
   "source": [
    "\"\"\"Question 4: \n",
    "Suppose that you invest $10,000 for 10 years at an \n",
    "interest rate of 6% compounded monthly. What will be the \n",
    "value of your investment at the end of the 10 year period?\n",
    "\n",
    "Create a function that accepts the principal p, the term \n",
    "in years t, the interest rate r, and the number of \n",
    "compounding periods per year n. The function returns the \n",
    "value at the end of term rounded to the nearest cent.\n",
    "\n",
    "For the example above:\n",
    "compound_interest(10000, 10, 0.06, 12) ➞ 18193.97\n",
    "\n",
    "Note that the interest rate is given as a decimal and \n",
    "n=12 because with monthly compounding there are \n",
    "12 periods per year. Compounding can also be done \n",
    "annually, quarterly, weekly, or daily.\n",
    "\n",
    "Examples\n",
    "compound_interest(100, 1, 0.05, 1) ➞ 105.0\n",
    "\n",
    "compound_interest(3500, 15, 0.1, 4) ➞ 15399.26\n",
    "\n",
    "compound_interest(100000, 20, 0.15, 365) ➞ 2007316.26\"\"\"\n",
    "# P( 1 + r/100)n - P\n",
    "\n",
    "def compound_interest(p, t, r, n):\n",
    "    \"\"\"\n",
    "    \n",
    "    p: principal,\n",
    "    t: time (years),\n",
    "    r: interest rate,\n",
    "    n: number of compounding periods per year\n",
    "    \n",
    "    Returns the compound interest \n",
    "    \n",
    "    \"\"\"\n",
    "    ci = p*(pow((1+r/n), n*t))\n",
    "    return round(ci,2)\n",
    "\n",
    "p, t, r, n = 100, 1, 0.05, 1\n",
    "compound_interest(p, t, r, n)"
   ]
  },
  {
   "cell_type": "code",
   "execution_count": 41,
   "metadata": {},
   "outputs": [
    {
     "data": {
      "text/plain": [
       "[81, 123]"
      ]
     },
     "execution_count": 41,
     "metadata": {},
     "output_type": "execute_result"
    }
   ],
   "source": [
    "\"\"\"Question 5:\n",
    "Write a function that takes a list of elements and \n",
    "returns only the integers.\n",
    "\n",
    "Examples\n",
    "return_only_integer([9, 2, \"space\", \"car\", \"lion\", 16]) ➞ [9, 2, 16]\n",
    "\n",
    "return_only_integer([\"hello\", 81, \"basketball\", 123, \"fox\"]) ➞ [81, 123]\n",
    "\n",
    "return_only_integer([10, \"121\", 56, 20, \"car\", 3, \"lion\"]) ➞ [10, 56, 20, 3]\n",
    "\n",
    "return_only_integer([\"String\",  True,  3.3,  1]) ➞ [1]\"\"\"\n",
    "\n",
    "def return_only_integer(lst):\n",
    "    \"\"\"\n",
    "    \n",
    "    lst: string and int values\n",
    "    Return a list with only non-negative integer values\n",
    "    \n",
    "    \"\"\"\n",
    "    return [value for value in lst if type(value) == int and value >= 0]\n",
    "\n",
    "lst = [\"hello\", 81, \"basketball\", 123, \"fox\"]\n",
    "return_only_integer(lst)"
   ]
  },
  {
   "cell_type": "code",
   "execution_count": null,
   "metadata": {},
   "outputs": [],
   "source": []
  }
 ],
 "metadata": {
  "kernelspec": {
   "display_name": "Python 3 (ipykernel)",
   "language": "python",
   "name": "python3"
  },
  "language_info": {
   "codemirror_mode": {
    "name": "ipython",
    "version": 3
   },
   "file_extension": ".py",
   "mimetype": "text/x-python",
   "name": "python",
   "nbconvert_exporter": "python",
   "pygments_lexer": "ipython3",
   "version": "3.7.6"
  }
 },
 "nbformat": 4,
 "nbformat_minor": 4
}
