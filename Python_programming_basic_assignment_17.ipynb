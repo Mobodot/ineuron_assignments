{
 "cells": [
  {
   "cell_type": "code",
   "execution_count": 4,
   "metadata": {},
   "outputs": [
    {
     "data": {
      "text/plain": [
       "18"
      ]
     },
     "execution_count": 4,
     "metadata": {},
     "output_type": "execute_result"
    }
   ],
   "source": [
    "\"\"\"Question 1: \n",
    "Create a function that takes three arguments \n",
    "a, b, c and returns the sum of the numbers that are \n",
    "evenly divided by c from the range a, b inclusive.\n",
    "\n",
    "Examples\n",
    "evenly_divisible(1, 10, 20) ➞ 0\n",
    "# No number between 1 and 10 can be evenly divided by 20.\n",
    "\n",
    "evenly_divisible(1, 10, 2) ➞ 30\n",
    "# 2 + 4 + 6 + 8 + 10 = 30\n",
    "\n",
    "evenly_divisible(1, 10, 3) ➞ 18\n",
    "# 3 + 6 + 9 = 18\n",
    "\"\"\"\n",
    "\n",
    "def divisible_by_c(a, b, c):\n",
    "    \"\"\"\n",
    "    \n",
    "    a,b,c: int values\n",
    "    \n",
    "    Returns the sum of the numbers are evenly divided by\n",
    "    c from range(a, b+1)\n",
    "    \n",
    "    \"\"\"\n",
    "    total = 0\n",
    "    for value in range(1, b+1):\n",
    "        if value % c == 0:\n",
    "            total += value\n",
    "            \n",
    "    return total\n",
    "\n",
    "divisible_by_c(1,10,3)"
   ]
  },
  {
   "cell_type": "code",
   "execution_count": 30,
   "metadata": {},
   "outputs": [
    {
     "name": "stdout",
     "output_type": "stream",
     "text": [
      "A Program to Evaluate if an Expression is Correct or Incorrect.\n",
      "Enter an expression: 1 < 2 < 6 < 9 > 3\n",
      "Evaluation of 1 < 2 < 6 < 9 > 3 = True\n"
     ]
    }
   ],
   "source": [
    "\"\"\"Question 2:\n",
    "Create a function that returns True if a given \n",
    "inequality expression is correct and False otherwise.\n",
    "\n",
    "Examples\n",
    "correct_signs(\"3 < 7 < 11\") ➞ True\n",
    "\n",
    "correct_signs(\"13 > 44 > 33 > 1\") ➞ False\n",
    "\n",
    "correct_signs(\"1 < 2 < 6 < 9 > 3\") ➞ True\"\"\"\n",
    "\n",
    "def correct_signs(string):\n",
    "    \"\"\"\n",
    "    \n",
    "    Evaluates an expression and returns True if the \n",
    "    expression is correct otherwise returns False.\n",
    "    \n",
    "    \"\"\"\n",
    "    \n",
    "    import operator\n",
    "    \n",
    "    # specific operators which a user can use\n",
    "    operatorss = {\n",
    "        \"<\": operator.lt,\n",
    "        \"<=\": operator.le,\n",
    "        \">\": operator.gt,\n",
    "        \">=\": operator.ge,\n",
    "        \"==\": operator.eq,\n",
    "        \"!=\": operator.ne,\n",
    "    }\n",
    "    \n",
    "    \n",
    "    return eval(string, operatorss)\n",
    "        \n",
    "        \n",
    "print(\"A Program to Evaluate if an Expression is Correct or Incorrect.\")\n",
    "            \n",
    "user_input = input(\"Enter an expression: \")   \n",
    "correct_signs(user_input)\n",
    "print(f\"Evaluation of {user_input} = {correct_signs(user_input)}\")\n"
   ]
  },
  {
   "cell_type": "code",
   "execution_count": 20,
   "metadata": {},
   "outputs": [
    {
     "name": "stdout",
     "output_type": "stream",
     "text": [
      "A Program to Replace all the Vowels in a String with a Symbol.\n",
      "\n",
      "Enter a string: the aardvark\n",
      "Enter the symbol to replace a vowel: #\n",
      "\n",
      "Replacing the vowels in the aardvark  = th# ##rdv#rk\n"
     ]
    }
   ],
   "source": [
    "\"\"\"Question 3:\n",
    "Create a function that replaces all the vowels in a \n",
    "string with a specified character.\n",
    "Examples\n",
    "replace_vowels(\"the aardvark\", \"#\") ➞ \"th# ##rdv#rk\"\n",
    "\n",
    "replace_vowels(\"minnie mouse\", \"?\") ➞ \"m?nn?? m??s?\"\n",
    "\n",
    "replace_vowels(\"shakespeare\", \"*\") ➞ \"sh*k*sp**r*\"\"\"\n",
    "\n",
    "def replace_vowels(string, symbol):\n",
    "    \"\"\"\n",
    "    \n",
    "    Replaces all the vowels in a string with a symbol,\n",
    "    Otherwise, returns the original string\n",
    "    \n",
    "    \"\"\"\n",
    "    vowels = [\"a\", \"e\",\"i\",\"o\", \"u\"]\n",
    "    \n",
    "    for letter in string:\n",
    "        if letter in vowels:\n",
    "            string = string.replace(letter, symbol)\n",
    "    return string\n",
    "\n",
    "\n",
    "print(\"A Program to Replace all the Vowels in a String with a Symbol.\")\n",
    "print()\n",
    "\n",
    "user_input = input(\"Enter a string: \")\n",
    "symbol = input(\"Enter the symbol to replace a vowel: \")\n",
    "\n",
    "print()\n",
    "print(f\"Replacing the vowels in {user_input}  = {replace_vowels(user_input, symbol)}\")\n",
    "        "
   ]
  },
  {
   "cell_type": "code",
   "execution_count": 24,
   "metadata": {},
   "outputs": [
    {
     "name": "stdout",
     "output_type": "stream",
     "text": [
      "A Program to Find the Factorial of a Number.\n",
      "\n",
      "Enter a number: 5\n",
      "Factorial of 5  = 120\n"
     ]
    }
   ],
   "source": [
    "\"\"\"Question 4: \n",
    "Write a function that calculates the factorial of a \n",
    "number recursively.\n",
    "\n",
    "Examples\n",
    "factorial(5) ➞ 120\n",
    "\n",
    "factorial(3) ➞ 6\n",
    "\n",
    "factorial(1) ➞ 1\n",
    "\n",
    "factorial(0) ➞ 1\"\"\"\n",
    "\n",
    "def factorial(number):\n",
    "    if number < 0:\n",
    "        return -1\n",
    "    elif number == 0:\n",
    "        return 1\n",
    "    else:\n",
    "        return number * factorial(number - 1)\n",
    "\n",
    "print(\"A Program to Find the Factorial of a Number.\")\n",
    "\n",
    "while True:\n",
    "    try:\n",
    "        print()\n",
    "        user_input = int(input(\"Enter a number: \"))\n",
    "    except Exception as e:\n",
    "        print(\"Invalid input! \")\n",
    "    else:\n",
    "        print(f\"Factorial of {user_input}  = {factorial(user_input)}\")\n",
    "        break"
   ]
  },
  {
   "cell_type": "code",
   "execution_count": 33,
   "metadata": {},
   "outputs": [
    {
     "name": "stdout",
     "output_type": "stream",
     "text": [
      "A Program to Compute the Hamming Distance Between Two Strings.\n",
      "\n",
      "Enter string A: abcde\n",
      "Enter string B: bcdef\n",
      "\n",
      "Hamming Distance Between abcde and bcdef = 5\n"
     ]
    }
   ],
   "source": [
    "\"\"\"Question 5:\n",
    "Hamming distance is the number of characters that differ \n",
    "between two strings.\n",
    "To illustrate:\n",
    "String1: \"abcbba\"\n",
    "String2: \"abcbda\"\n",
    "\n",
    "Hamming Distance: 1 - \"b\" vs. \"d\" is the only difference.\n",
    "Create a function that computes the hamming distance \n",
    "between two strings.\n",
    "Examples\n",
    "hamming_distance(\"abcde\", \"bcdef\") ➞ 5\n",
    "\n",
    "hamming_distance(\"abcde\", \"abcde\") ➞ 0\n",
    "\n",
    "hamming_distance(\"strong\", \"strung\") ➞ 1\n",
    "\n",
    "\"\"\"\n",
    "\n",
    "def hamming_distance(string_a, string_b):\n",
    "    \"\"\"\n",
    "    \n",
    "    Returns the number of characters in string_a which \n",
    "    are different in string_b.\n",
    "    \n",
    "    E.g:\n",
    "    hamming_distance(\"abcde\", \"bcdef\") ➞ 5\n",
    "\n",
    "    hamming_distance(\"abcde\", \"abcde\") ➞ 0\n",
    "\n",
    "    hamming_distance(\"strong\", \"strung\") ➞ 1\n",
    "\n",
    "    \"\"\"\n",
    "    if len(string_a) != len(string_b):\n",
    "        return \"Both strings must be of the same length!\"\n",
    "    else:\n",
    "        counter = 0\n",
    "        for index in range(len(string_a)):\n",
    "            if string_a[index] != string_b[index]:\n",
    "                counter += 1\n",
    "        return counter\n",
    "        \n",
    "    \n",
    "print(\"A Program to Compute the Hamming Distance Between Two Strings.\")\n",
    "print()\n",
    "\n",
    "first_input = input(\"Enter string A: \")\n",
    "second_input = input(\"Enter string B: \")\n",
    "\n",
    "print()\n",
    "print(f\"Hamming Distance Between {first_input} and {second_input} = {hamming_distance(first_input, second_input)}\")\n",
    "        "
   ]
  },
  {
   "cell_type": "code",
   "execution_count": null,
   "metadata": {},
   "outputs": [],
   "source": []
  }
 ],
 "metadata": {
  "kernelspec": {
   "display_name": "Python 3 (ipykernel)",
   "language": "python",
   "name": "python3"
  },
  "language_info": {
   "codemirror_mode": {
    "name": "ipython",
    "version": 3
   },
   "file_extension": ".py",
   "mimetype": "text/x-python",
   "name": "python",
   "nbconvert_exporter": "python",
   "pygments_lexer": "ipython3",
   "version": "3.7.6"
  }
 },
 "nbformat": 4,
 "nbformat_minor": 4
}
